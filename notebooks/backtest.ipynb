{
 "cells": [
  {
   "cell_type": "markdown",
   "metadata": {},
   "source": [
    "# Data"
   ]
  },
  {
   "cell_type": "code",
   "execution_count": 1,
   "metadata": {},
   "outputs": [],
   "source": [
    "from src.mtal.data_collect import get_spot_pairs\n",
    "\n",
    "cryptos = get_spot_pairs()"
   ]
  },
  {
   "cell_type": "code",
   "execution_count": 8,
   "metadata": {},
   "outputs": [
    {
     "data": {
      "text/html": [
       "<div>\n",
       "<style scoped>\n",
       "    .dataframe tbody tr th:only-of-type {\n",
       "        vertical-align: middle;\n",
       "    }\n",
       "\n",
       "    .dataframe tbody tr th {\n",
       "        vertical-align: top;\n",
       "    }\n",
       "\n",
       "    .dataframe thead th {\n",
       "        text-align: right;\n",
       "    }\n",
       "</style>\n",
       "<table border=\"1\" class=\"dataframe\">\n",
       "  <thead>\n",
       "    <tr style=\"text-align: right;\">\n",
       "      <th></th>\n",
       "      <th>Open Time</th>\n",
       "      <th>Open</th>\n",
       "      <th>High</th>\n",
       "      <th>Low</th>\n",
       "      <th>Close</th>\n",
       "      <th>Volume</th>\n",
       "      <th>Close Time</th>\n",
       "    </tr>\n",
       "  </thead>\n",
       "  <tbody>\n",
       "    <tr>\n",
       "      <th>0</th>\n",
       "      <td>2021-07-29</td>\n",
       "      <td>40019.57</td>\n",
       "      <td>40640.00</td>\n",
       "      <td>39200.00</td>\n",
       "      <td>40016.48</td>\n",
       "      <td>53998.439283</td>\n",
       "      <td>2021-07-29 23:59:59.999</td>\n",
       "    </tr>\n",
       "    <tr>\n",
       "      <th>1</th>\n",
       "      <td>2021-07-30</td>\n",
       "      <td>40018.49</td>\n",
       "      <td>42316.71</td>\n",
       "      <td>38313.23</td>\n",
       "      <td>42206.37</td>\n",
       "      <td>73602.784805</td>\n",
       "      <td>2021-07-30 23:59:59.999</td>\n",
       "    </tr>\n",
       "    <tr>\n",
       "      <th>2</th>\n",
       "      <td>2021-07-31</td>\n",
       "      <td>42206.36</td>\n",
       "      <td>42448.00</td>\n",
       "      <td>41000.15</td>\n",
       "      <td>41461.83</td>\n",
       "      <td>44849.791012</td>\n",
       "      <td>2021-07-31 23:59:59.999</td>\n",
       "    </tr>\n",
       "    <tr>\n",
       "      <th>3</th>\n",
       "      <td>2021-08-01</td>\n",
       "      <td>41461.84</td>\n",
       "      <td>42599.00</td>\n",
       "      <td>39422.01</td>\n",
       "      <td>39845.44</td>\n",
       "      <td>53953.186326</td>\n",
       "      <td>2021-08-01 23:59:59.999</td>\n",
       "    </tr>\n",
       "    <tr>\n",
       "      <th>4</th>\n",
       "      <td>2021-08-02</td>\n",
       "      <td>39850.27</td>\n",
       "      <td>40480.01</td>\n",
       "      <td>38690.00</td>\n",
       "      <td>39147.82</td>\n",
       "      <td>50837.351954</td>\n",
       "      <td>2021-08-02 23:59:59.999</td>\n",
       "    </tr>\n",
       "  </tbody>\n",
       "</table>\n",
       "</div>"
      ],
      "text/plain": [
       "   Open Time      Open      High       Low     Close        Volume  \\\n",
       "0 2021-07-29  40019.57  40640.00  39200.00  40016.48  53998.439283   \n",
       "1 2021-07-30  40018.49  42316.71  38313.23  42206.37  73602.784805   \n",
       "2 2021-07-31  42206.36  42448.00  41000.15  41461.83  44849.791012   \n",
       "3 2021-08-01  41461.84  42599.00  39422.01  39845.44  53953.186326   \n",
       "4 2021-08-02  39850.27  40480.01  38690.00  39147.82  50837.351954   \n",
       "\n",
       "               Close Time  \n",
       "0 2021-07-29 23:59:59.999  \n",
       "1 2021-07-30 23:59:59.999  \n",
       "2 2021-07-31 23:59:59.999  \n",
       "3 2021-08-01 23:59:59.999  \n",
       "4 2021-08-02 23:59:59.999  "
      ]
     },
     "execution_count": 8,
     "metadata": {},
     "output_type": "execute_result"
    }
   ],
   "source": [
    "from src.mtal.data_collect import get_pair_df\n",
    "\n",
    "# df = get_pair_df(pair=\"BTCUSDT\")\n",
    "# df = get_pair_df(pair=\"BTCUSDT\", limit=400, frequency=\"1w\")\n",
    "df = get_pair_df(pair=\"BTCUSDT\", limit=1000, frequency=\"1d\")\n",
    "df.head()"
   ]
  },
  {
   "cell_type": "markdown",
   "metadata": {},
   "source": [
    "# EMA backtest"
   ]
  },
  {
   "cell_type": "code",
   "execution_count": 9,
   "metadata": {},
   "outputs": [
    {
     "name": "stdout",
     "output_type": "stream",
     "text": [
      "BacktestResults(pnl=47919.52004889779, pnl_percentage=46.919520048897795, max_drawdown=-0.17942207786354494, win_rate=0.41379310344827586, average_return=0.26760179382596816, trade_number=29, entry_dates=[Timestamp('2017-08-28 00:00:00'), Timestamp('2017-10-02 00:00:00'), Timestamp('2018-03-05 00:00:00'), Timestamp('2018-04-16 00:00:00'), Timestamp('2018-07-23 00:00:00'), Timestamp('2018-09-03 00:00:00'), Timestamp('2019-01-07 00:00:00'), Timestamp('2019-02-11 00:00:00'), Timestamp('2019-08-05 00:00:00'), Timestamp('2019-09-16 00:00:00'), Timestamp('2019-10-28 00:00:00'), Timestamp('2020-01-13 00:00:00'), Timestamp('2020-04-13 00:00:00'), Timestamp('2020-07-13 00:00:00'), Timestamp('2020-10-12 00:00:00'), Timestamp('2021-05-03 00:00:00'), Timestamp('2021-07-26 00:00:00'), Timestamp('2021-10-04 00:00:00'), Timestamp('2022-02-14 00:00:00'), Timestamp('2022-03-21 00:00:00'), Timestamp('2022-07-25 00:00:00'), Timestamp('2022-09-12 00:00:00'), Timestamp('2022-10-24 00:00:00'), Timestamp('2023-01-09 00:00:00'), Timestamp('2023-03-20 00:00:00'), Timestamp('2023-05-29 00:00:00'), Timestamp('2023-06-26 00:00:00'), Timestamp('2023-10-02 00:00:00'), Timestamp('2024-02-05 00:00:00')], exit_dates=[Timestamp('2017-09-11 00:00:00'), Timestamp('2018-01-15 00:00:00'), Timestamp('2018-03-12 00:00:00'), Timestamp('2018-05-21 00:00:00'), Timestamp('2018-08-13 00:00:00'), Timestamp('2018-09-10 00:00:00'), Timestamp('2019-01-14 00:00:00'), Timestamp('2019-07-29 00:00:00'), Timestamp('2019-08-19 00:00:00'), Timestamp('2019-09-23 00:00:00'), Timestamp('2019-11-18 00:00:00'), Timestamp('2020-03-02 00:00:00'), Timestamp('2020-06-29 00:00:00'), Timestamp('2020-09-07 00:00:00'), Timestamp('2021-04-26 00:00:00'), Timestamp('2021-05-17 00:00:00'), Timestamp('2021-09-13 00:00:00'), Timestamp('2021-11-22 00:00:00'), Timestamp('2022-02-21 00:00:00'), Timestamp('2022-04-18 00:00:00'), Timestamp('2022-08-22 00:00:00'), Timestamp('2022-09-19 00:00:00'), Timestamp('2022-11-14 00:00:00'), Timestamp('2023-03-06 00:00:00'), Timestamp('2023-05-15 00:00:00'), Timestamp('2023-06-05 00:00:00'), Timestamp('2023-07-31 00:00:00'), Timestamp('2024-01-15 00:00:00'), Timestamp('2024-04-15 00:00:00')], entry_prices=[4310.01, 4153.62, 4400.0, 13477.98, 11515.0, 9533.57, 8355.07, 8526.97, 7394.78, 6308.56, 7302.0, 6252.26, 3987.62, 3477.56, 3679.75, 9541.54, 10929.99, 10306.17, 10303.34, 10028.05, 9528.23, 8502.87, 8184.97, 8530.3, 6903.79, 9116.16, 9303.31, 10255.89, 11369.02, 49066.76, 56578.21, 46426.83, 35381.02, 46025.23, 48200.01, 58617.7, 42053.65, 38386.89, 41262.11, 39678.11, 22577.13, 21516.7, 21826.87, 19417.45, 19570.4, 16331.78, 17127.83, 22430.24, 27972.87, 26917.61, 28065.01, 27115.2, 30462.67, 29281.09, 27992.58, 41732.35, 42582.88, 65661.85], exit_prices=[])\n",
      "\n",
      "//@version=5\n",
      "indicator(\"Manual Trades\", overlay=true)\n",
      "\n",
      "var int[] entryDates = array.new_int()\n",
      "var int[] exitDates = array.new_int()\n",
      "\n",
      "array.push(entryDates, 1503878400000)\n",
      "array.push(entryDates, 1506902400000)\n",
      "array.push(entryDates, 1520208000000)\n",
      "array.push(entryDates, 1523836800000)\n",
      "array.push(entryDates, 1532304000000)\n",
      "array.push(entryDates, 1535932800000)\n",
      "array.push(entryDates, 1546819200000)\n",
      "array.push(entryDates, 1549843200000)\n",
      "array.push(entryDates, 1564963200000)\n",
      "array.push(entryDates, 1568592000000)\n",
      "array.push(entryDates, 1572220800000)\n",
      "array.push(entryDates, 1578873600000)\n",
      "array.push(entryDates, 1586736000000)\n",
      "array.push(entryDates, 1594598400000)\n",
      "array.push(entryDates, 1602460800000)\n",
      "array.push(entryDates, 1620000000000)\n",
      "array.push(entryDates, 1627257600000)\n",
      "array.push(entryDates, 1633305600000)\n",
      "array.push(entryDates, 1644796800000)\n",
      "array.push(entryDates, 1647820800000)\n",
      "array.push(entryDates, 1658707200000)\n",
      "array.push(entryDates, 1662940800000)\n",
      "array.push(entryDates, 1666569600000)\n",
      "array.push(entryDates, 1673222400000)\n",
      "array.push(entryDates, 1679270400000)\n",
      "array.push(entryDates, 1685318400000)\n",
      "array.push(entryDates, 1687737600000)\n",
      "array.push(entryDates, 1696204800000)\n",
      "array.push(entryDates, 1707091200000)\n",
      "array.push(exitDates, 1505088000000)\n",
      "array.push(exitDates, 1515974400000)\n",
      "array.push(exitDates, 1520812800000)\n",
      "array.push(exitDates, 1526860800000)\n",
      "array.push(exitDates, 1534118400000)\n",
      "array.push(exitDates, 1536537600000)\n",
      "array.push(exitDates, 1547424000000)\n",
      "array.push(exitDates, 1564358400000)\n",
      "array.push(exitDates, 1566172800000)\n",
      "array.push(exitDates, 1569196800000)\n",
      "array.push(exitDates, 1574035200000)\n",
      "array.push(exitDates, 1583107200000)\n",
      "array.push(exitDates, 1593388800000)\n",
      "array.push(exitDates, 1599436800000)\n",
      "array.push(exitDates, 1619395200000)\n",
      "array.push(exitDates, 1621209600000)\n",
      "array.push(exitDates, 1631491200000)\n",
      "array.push(exitDates, 1637539200000)\n",
      "array.push(exitDates, 1645401600000)\n",
      "array.push(exitDates, 1650240000000)\n",
      "array.push(exitDates, 1661126400000)\n",
      "array.push(exitDates, 1663545600000)\n",
      "array.push(exitDates, 1668384000000)\n",
      "array.push(exitDates, 1678060800000)\n",
      "array.push(exitDates, 1684108800000)\n",
      "array.push(exitDates, 1685923200000)\n",
      "array.push(exitDates, 1690761600000)\n",
      "array.push(exitDates, 1705276800000)\n",
      "array.push(exitDates, 1713139200000)\n",
      "\n",
      "for i = 0 to array.size(exitDates) - 1\n",
      "    label.new(x=array.get(entryDates, i), xloc=xloc.bar_time, y=close, yloc=yloc.belowbar, color=color.green, textcolor=color.white, style=label.style_label_up)\n",
      "    label.new(x=array.get(exitDates, i), xloc=xloc.bar_time, y=close, yloc=yloc.abovebar, color=color.red, textcolor=color.white, style=label.style_label_down)\n",
      "    \n",
      "           \n"
     ]
    }
   ],
   "source": [
    "from src.mtal.utils import generate_pinescript\n",
    "from mtal.backtesting.ma_cross_backtest import MACrossBacktester \n",
    "\n",
    "short_ema =2 \n",
    "long_ema = 4\n",
    "tester = MACrossBacktester(\n",
    "    short_ma=short_ema, long_ma=long_ema, data=df\n",
    ")\n",
    "results = tester.run()\n",
    "\n",
    "entry_dates = [int(entry_date.timestamp() * 1000) for entry_date in results.entry_dates]\n",
    "exit_dates = [int(exit_date.timestamp() * 1000) for exit_date in results.exit_dates]\n",
    "\n",
    "print(results)\n",
    "print(generate_pinescript(entry_dates, exit_dates))\n"
   ]
  },
  {
   "cell_type": "code",
   "execution_count": 10,
   "metadata": {},
   "outputs": [
    {
     "name": "stdout",
     "output_type": "stream",
     "text": [
      "Meilleure combinaison: Short EMA = 2, Long EMA = 4\n",
      "Résultat du test: BacktestResults(pnl=47919.52004889779, pnl_percentage=46.919520048897795, max_drawdown=-0.17942207786354494, win_rate=0.41379310344827586, average_return=0.26760179382596816, trade_number=29, entry_dates=[Timestamp('2017-08-28 00:00:00'), Timestamp('2017-10-02 00:00:00'), Timestamp('2018-03-05 00:00:00'), Timestamp('2018-04-16 00:00:00'), Timestamp('2018-07-23 00:00:00'), Timestamp('2018-09-03 00:00:00'), Timestamp('2019-01-07 00:00:00'), Timestamp('2019-02-11 00:00:00'), Timestamp('2019-08-05 00:00:00'), Timestamp('2019-09-16 00:00:00'), Timestamp('2019-10-28 00:00:00'), Timestamp('2020-01-13 00:00:00'), Timestamp('2020-04-13 00:00:00'), Timestamp('2020-07-13 00:00:00'), Timestamp('2020-10-12 00:00:00'), Timestamp('2021-05-03 00:00:00'), Timestamp('2021-07-26 00:00:00'), Timestamp('2021-10-04 00:00:00'), Timestamp('2022-02-14 00:00:00'), Timestamp('2022-03-21 00:00:00'), Timestamp('2022-07-25 00:00:00'), Timestamp('2022-09-12 00:00:00'), Timestamp('2022-10-24 00:00:00'), Timestamp('2023-01-09 00:00:00'), Timestamp('2023-03-20 00:00:00'), Timestamp('2023-05-29 00:00:00'), Timestamp('2023-06-26 00:00:00'), Timestamp('2023-10-02 00:00:00'), Timestamp('2024-02-05 00:00:00')], exit_dates=[Timestamp('2017-09-11 00:00:00'), Timestamp('2018-01-15 00:00:00'), Timestamp('2018-03-12 00:00:00'), Timestamp('2018-05-21 00:00:00'), Timestamp('2018-08-13 00:00:00'), Timestamp('2018-09-10 00:00:00'), Timestamp('2019-01-14 00:00:00'), Timestamp('2019-07-29 00:00:00'), Timestamp('2019-08-19 00:00:00'), Timestamp('2019-09-23 00:00:00'), Timestamp('2019-11-18 00:00:00'), Timestamp('2020-03-02 00:00:00'), Timestamp('2020-06-29 00:00:00'), Timestamp('2020-09-07 00:00:00'), Timestamp('2021-04-26 00:00:00'), Timestamp('2021-05-17 00:00:00'), Timestamp('2021-09-13 00:00:00'), Timestamp('2021-11-22 00:00:00'), Timestamp('2022-02-21 00:00:00'), Timestamp('2022-04-18 00:00:00'), Timestamp('2022-08-22 00:00:00'), Timestamp('2022-09-19 00:00:00'), Timestamp('2022-11-14 00:00:00'), Timestamp('2023-03-06 00:00:00'), Timestamp('2023-05-15 00:00:00'), Timestamp('2023-06-05 00:00:00'), Timestamp('2023-07-31 00:00:00'), Timestamp('2024-01-15 00:00:00'), Timestamp('2024-04-15 00:00:00')], entry_prices=[4310.01, 4153.62, 4400.0, 13477.98, 11515.0, 9533.57, 8355.07, 8526.97, 7394.78, 6308.56, 7302.0, 6252.26, 3987.62, 3477.56, 3679.75, 9541.54, 10929.99, 10306.17, 10303.34, 10028.05, 9528.23, 8502.87, 8184.97, 8530.3, 6903.79, 9116.16, 9303.31, 10255.89, 11369.02, 49066.76, 56578.21, 46426.83, 35381.02, 46025.23, 48200.01, 58617.7, 42053.65, 38386.89, 41262.11, 39678.11, 22577.13, 21516.7, 21826.87, 19417.45, 19570.4, 16331.78, 17127.83, 22430.24, 27972.87, 26917.61, 28065.01, 27115.2, 30462.67, 29281.09, 27992.58, 41732.35, 42582.88, 65661.85], exit_prices=[])\n"
     ]
    }
   ],
   "source": [
    "from itertools import combinations\n",
    "from mtal.backtesting.ma_cross_backtest import MACrossBacktester\n",
    "\n",
    "\n",
    "ema_values = range(1, 60)  \n",
    "\n",
    "combinations = [(short_ema, long_ema) for short_ema, long_ema in combinations(ema_values, 2)]\n",
    "\n",
    "results = {}\n",
    "\n",
    "for short_ema, long_ema in combinations:\n",
    "    tester = MACrossBacktester(short_ma=short_ema, long_ma=long_ema, data=df)\n",
    "    test_results = tester.run()\n",
    "    results[(short_ema, long_ema)] = test_results\n",
    "\n",
    "best_combination = max(results, key=lambda x: results[x].pnl)  # Ajuster le critère si nécessaire\n",
    "best_result = results[best_combination]\n",
    "\n",
    "print(f\"Meilleure combinaison: Short EMA = {best_combination[0]}, Long EMA = {best_combination[1]}\")\n",
    "print(f\"Résultat du test: {best_result}\")\n"
   ]
  },
  {
   "cell_type": "markdown",
   "metadata": {},
   "source": [
    "# VWMA Backtest"
   ]
  },
  {
   "cell_type": "code",
   "execution_count": 10,
   "metadata": {},
   "outputs": [
    {
     "name": "stdout",
     "output_type": "stream",
     "text": [
      "BacktestResults(pnl=1535.177175063718, pnl_percentage=0.5351771750637181, max_drawdown=-0.21544253763591328, win_rate=0.45454545454545453, average_return=0.060602063339622966, trade_number=11, entry_dates=[Timestamp('2021-10-07 00:00:00'), Timestamp('2022-02-11 00:00:00'), Timestamp('2022-03-04 00:00:00'), Timestamp('2022-03-23 00:00:00'), Timestamp('2022-07-24 00:00:00'), Timestamp('2022-10-28 00:00:00'), Timestamp('2023-01-10 00:00:00'), Timestamp('2023-03-18 00:00:00'), Timestamp('2023-06-22 00:00:00'), Timestamp('2023-09-29 00:00:00'), Timestamp('2024-02-09 00:00:00')], exit_dates=[Timestamp('2021-11-23 00:00:00'), Timestamp('2022-02-23 00:00:00'), Timestamp('2022-03-13 00:00:00'), Timestamp('2022-04-15 00:00:00'), Timestamp('2022-08-24 00:00:00'), Timestamp('2022-11-10 00:00:00'), Timestamp('2023-03-08 00:00:00'), Timestamp('2023-05-11 00:00:00'), Timestamp('2023-08-01 00:00:00'), Timestamp('2024-01-21 00:00:00'), Timestamp('2024-04-18 00:00:00')], entry_prices=[55315.0, 56243.83, 43495.44, 38230.33, 42454.0, 38807.35, 42364.13, 39942.37, 22448.58, 21529.11, 20295.11, 15922.68, 17179.04, 22198.56, 27395.13, 27598.74, 29993.89, 29232.26, 27021.39, 41696.05, 45288.66, 61277.38], exit_prices=[])\n"
     ]
    }
   ],
   "source": [
    "from src.mtal.utils import generate_pinescript\n",
    "from src.mtal.backtesting.ma_cross_backtest import MACrossBacktester \n",
    "\n",
    "short_ema = 10\n",
    "long_ema = 50\n",
    "tester = MACrossBacktester(\n",
    "    short_ma=short_ema, long_ma=long_ema, data=df, ma_type=\"vwma\"\n",
    ")\n",
    "results = tester.run()\n",
    "\n",
    "entry_dates = [int(entry_date.timestamp() * 1000) for entry_date in results.entry_dates]\n",
    "exit_dates = [int(exit_date.timestamp() * 1000) for exit_date in results.exit_dates]\n",
    "\n",
    "print(results)\n",
    "# print(generate_pinescript(entry_dates, exit_dates))\n"
   ]
  },
  {
   "cell_type": "code",
   "execution_count": 11,
   "metadata": {},
   "outputs": [
    {
     "name": "stdout",
     "output_type": "stream",
     "text": [
      "Meilleure combinaison: Short EMA = 27, Long EMA = 28\n",
      "Résultat du test: BacktestResults(pnl=3282.462725596712, pnl_percentage=2.2824627255967123, max_drawdown=-0.19178091682535653, win_rate=0.5510204081632653, average_return=0.03150023283295186, trade_number=49, entry_dates=[Timestamp('2021-09-23 00:00:00'), Timestamp('2021-10-08 00:00:00'), Timestamp('2021-10-14 00:00:00'), Timestamp('2021-11-18 00:00:00'), Timestamp('2021-11-23 00:00:00'), Timestamp('2022-01-06 00:00:00'), Timestamp('2022-01-10 00:00:00'), Timestamp('2022-02-18 00:00:00'), Timestamp('2022-03-20 00:00:00'), Timestamp('2022-04-01 00:00:00'), Timestamp('2022-06-08 00:00:00'), Timestamp('2022-07-14 00:00:00'), Timestamp('2022-07-24 00:00:00'), Timestamp('2022-08-17 00:00:00'), Timestamp('2022-09-25 00:00:00'), Timestamp('2022-09-27 00:00:00'), Timestamp('2022-10-04 00:00:00'), Timestamp('2022-10-18 00:00:00'), Timestamp('2022-10-21 00:00:00'), Timestamp('2022-10-28 00:00:00'), Timestamp('2022-11-04 00:00:00'), Timestamp('2022-12-07 00:00:00'), Timestamp('2022-12-11 00:00:00'), Timestamp('2022-12-14 00:00:00'), Timestamp('2022-12-29 00:00:00'), Timestamp('2022-12-31 00:00:00'), Timestamp('2023-01-02 00:00:00'), Timestamp('2023-01-04 00:00:00'), Timestamp('2023-01-13 00:00:00'), Timestamp('2023-02-27 00:00:00'), Timestamp('2023-03-05 00:00:00'), Timestamp('2023-03-23 00:00:00'), Timestamp('2023-05-19 00:00:00'), Timestamp('2023-06-09 00:00:00'), Timestamp('2023-06-21 00:00:00'), Timestamp('2023-06-28 00:00:00'), Timestamp('2023-07-24 00:00:00'), Timestamp('2023-07-26 00:00:00'), Timestamp('2023-08-03 00:00:00'), Timestamp('2023-09-15 00:00:00'), Timestamp('2023-09-21 00:00:00'), Timestamp('2023-09-28 00:00:00'), Timestamp('2024-01-08 00:00:00'), Timestamp('2024-01-31 00:00:00'), Timestamp('2024-02-11 00:00:00'), Timestamp('2024-04-02 00:00:00'), Timestamp('2024-04-13 00:00:00'), Timestamp('2024-04-16 00:00:00'), Timestamp('2024-04-18 00:00:00')], exit_dates=[Timestamp('2021-09-24 00:00:00'), Timestamp('2021-10-13 00:00:00'), Timestamp('2021-11-16 00:00:00'), Timestamp('2021-11-22 00:00:00'), Timestamp('2021-11-26 00:00:00'), Timestamp('2022-01-08 00:00:00'), Timestamp('2022-01-11 00:00:00'), Timestamp('2022-03-04 00:00:00'), Timestamp('2022-03-28 00:00:00'), Timestamp('2022-04-21 00:00:00'), Timestamp('2022-06-11 00:00:00'), Timestamp('2022-07-23 00:00:00'), Timestamp('2022-08-16 00:00:00'), Timestamp('2022-08-25 00:00:00'), Timestamp('2022-09-26 00:00:00'), Timestamp('2022-09-28 00:00:00'), Timestamp('2022-10-07 00:00:00'), Timestamp('2022-10-20 00:00:00'), Timestamp('2022-10-27 00:00:00'), Timestamp('2022-11-01 00:00:00'), Timestamp('2022-11-14 00:00:00'), Timestamp('2022-12-08 00:00:00'), Timestamp('2022-12-13 00:00:00'), Timestamp('2022-12-28 00:00:00'), Timestamp('2022-12-30 00:00:00'), Timestamp('2023-01-01 00:00:00'), Timestamp('2023-01-03 00:00:00'), Timestamp('2023-01-05 00:00:00'), Timestamp('2023-02-26 00:00:00'), Timestamp('2023-03-01 00:00:00'), Timestamp('2023-03-15 00:00:00'), Timestamp('2023-05-08 00:00:00'), Timestamp('2023-05-23 00:00:00'), Timestamp('2023-06-11 00:00:00'), Timestamp('2023-06-25 00:00:00'), Timestamp('2023-07-21 00:00:00'), Timestamp('2023-07-25 00:00:00'), Timestamp('2023-07-27 00:00:00'), Timestamp('2023-08-04 00:00:00'), Timestamp('2023-09-20 00:00:00'), Timestamp('2023-09-26 00:00:00'), Timestamp('2024-01-02 00:00:00'), Timestamp('2024-01-29 00:00:00'), Timestamp('2024-02-01 00:00:00'), Timestamp('2024-04-01 00:00:00'), Timestamp('2024-04-06 00:00:00'), Timestamp('2024-04-14 00:00:00'), Timestamp('2024-04-17 00:00:00'), Timestamp('2024-04-21 00:00:00')], entry_prices=[43546.37, 44865.26, 53785.22, 55996.91, 57370.83, 63606.73, 60344.86, 58617.7, 56243.83, 58960.37, 43451.14, 41566.48, 41864.62, 41822.49, 40515.71, 42454.0, 42201.13, 46827.76, 45510.35, 41358.19, 31125.32, 29091.87, 20234.87, 22684.83, 22448.58, 24093.04, 23856.15, 21368.05, 18921.99, 18809.13, 19226.68, 19078.1, 19629.08, 19960.67, 19548.48, 19123.35, 19041.92, 20771.61, 20295.11, 20490.74, 20207.12, 16331.78, 17088.96, 16836.64, 17127.49, 17208.93, 17775.82, 16706.06, 16547.32, 16633.47, 16607.48, 16541.77, 16617.17, 16672.78, 16675.65, 16850.36, 18846.62, 23157.07, 23554.85, 23141.57, 22346.57, 24670.41, 27250.97, 28430.09, 26821.28, 26849.28, 26498.62, 25841.22, 28308.0, 30527.44, 30692.44, 29800.0, 30083.75, 29176.5, 29228.91, 29351.95, 29186.0, 29193.65, 26522.73, 27210.25, 27125.01, 26304.8, 26373.0, 44179.55, 43929.01, 42031.05, 42941.1, 42580.0, 47751.08, 71280.0, 69649.81, 67820.63, 67116.52, 63924.52, 63419.99, 63793.4, 61277.38, 64940.58], exit_prices=[])\n"
     ]
    }
   ],
   "source": [
    "from itertools import combinations\n",
    "from src.mtal.backtesting.ma_cross_backtest import MACrossBacktester\n",
    "\n",
    "\n",
    "ema_values = range(1, 60)  \n",
    "\n",
    "combinations = [(short_ema, long_ema) for short_ema, long_ema in combinations(ema_values, 2)]\n",
    "\n",
    "results = {}\n",
    "\n",
    "for short_ema, long_ema in combinations:\n",
    "    tester = MACrossBacktester(short_ma=short_ema, long_ma=long_ema, data=df, ma_type=\"vwma\")\n",
    "    test_results = tester.run()\n",
    "    results[(short_ema, long_ema)] = test_results\n",
    "\n",
    "best_combination = max(results, key=lambda x: results[x].pnl)  # Ajuster le critère si nécessaire\n",
    "best_result = results[best_combination]\n",
    "\n",
    "print(f\"Meilleure combinaison: Short EMA = {best_combination[0]}, Long EMA = {best_combination[1]}\")\n",
    "print(f\"Résultat du test: {best_result}\")\n"
   ]
  }
 ],
 "metadata": {
  "kernelspec": {
   "display_name": ".venv",
   "language": "python",
   "name": "python3"
  },
  "language_info": {
   "codemirror_mode": {
    "name": "ipython",
    "version": 3
   },
   "file_extension": ".py",
   "mimetype": "text/x-python",
   "name": "python",
   "nbconvert_exporter": "python",
   "pygments_lexer": "ipython3",
   "version": "3.10.12"
  }
 },
 "nbformat": 4,
 "nbformat_minor": 2
}
