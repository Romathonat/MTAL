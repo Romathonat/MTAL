{
 "cells": [
  {
   "cell_type": "markdown",
   "metadata": {},
   "source": [
    "# Data"
   ]
  },
  {
   "cell_type": "code",
   "execution_count": 3,
   "metadata": {},
   "outputs": [
    {
     "data": {
      "text/html": [
       "<div>\n",
       "<style scoped>\n",
       "    .dataframe tbody tr th:only-of-type {\n",
       "        vertical-align: middle;\n",
       "    }\n",
       "\n",
       "    .dataframe tbody tr th {\n",
       "        vertical-align: top;\n",
       "    }\n",
       "\n",
       "    .dataframe thead th {\n",
       "        text-align: right;\n",
       "    }\n",
       "</style>\n",
       "<table border=\"1\" class=\"dataframe\">\n",
       "  <thead>\n",
       "    <tr style=\"text-align: right;\">\n",
       "      <th></th>\n",
       "      <th>Open Time</th>\n",
       "      <th>Open</th>\n",
       "      <th>High</th>\n",
       "      <th>Low</th>\n",
       "      <th>Close</th>\n",
       "      <th>Volume</th>\n",
       "      <th>Close Time</th>\n",
       "    </tr>\n",
       "  </thead>\n",
       "  <tbody>\n",
       "    <tr>\n",
       "      <th>338</th>\n",
       "      <td>2024-02-05</td>\n",
       "      <td>42582.88</td>\n",
       "      <td>48592.66</td>\n",
       "      <td>42258.10</td>\n",
       "      <td>48299.99</td>\n",
       "      <td>262240.483570</td>\n",
       "      <td>2024-02-11 23:59:59.999</td>\n",
       "    </tr>\n",
       "    <tr>\n",
       "      <th>339</th>\n",
       "      <td>2024-02-12</td>\n",
       "      <td>48300.00</td>\n",
       "      <td>52816.62</td>\n",
       "      <td>47710.01</td>\n",
       "      <td>52137.67</td>\n",
       "      <td>310862.301700</td>\n",
       "      <td>2024-02-18 23:59:59.999</td>\n",
       "    </tr>\n",
       "    <tr>\n",
       "      <th>340</th>\n",
       "      <td>2024-02-19</td>\n",
       "      <td>52137.68</td>\n",
       "      <td>52985.00</td>\n",
       "      <td>50521.00</td>\n",
       "      <td>51728.85</td>\n",
       "      <td>223366.161860</td>\n",
       "      <td>2024-02-25 23:59:59.999</td>\n",
       "    </tr>\n",
       "    <tr>\n",
       "      <th>341</th>\n",
       "      <td>2024-02-26</td>\n",
       "      <td>51728.85</td>\n",
       "      <td>64000.00</td>\n",
       "      <td>50901.44</td>\n",
       "      <td>63113.97</td>\n",
       "      <td>417907.833830</td>\n",
       "      <td>2024-03-03 23:59:59.999</td>\n",
       "    </tr>\n",
       "    <tr>\n",
       "      <th>342</th>\n",
       "      <td>2024-03-04</td>\n",
       "      <td>63113.97</td>\n",
       "      <td>69990.00</td>\n",
       "      <td>59005.00</td>\n",
       "      <td>68955.88</td>\n",
       "      <td>481870.181782</td>\n",
       "      <td>2024-03-10 23:59:59.999</td>\n",
       "    </tr>\n",
       "    <tr>\n",
       "      <th>343</th>\n",
       "      <td>2024-03-11</td>\n",
       "      <td>68955.88</td>\n",
       "      <td>73777.00</td>\n",
       "      <td>64533.00</td>\n",
       "      <td>68393.48</td>\n",
       "      <td>477496.917520</td>\n",
       "      <td>2024-03-17 23:59:59.999</td>\n",
       "    </tr>\n",
       "    <tr>\n",
       "      <th>344</th>\n",
       "      <td>2024-03-18</td>\n",
       "      <td>68393.47</td>\n",
       "      <td>68956.00</td>\n",
       "      <td>60775.00</td>\n",
       "      <td>67209.99</td>\n",
       "      <td>409762.744140</td>\n",
       "      <td>2024-03-24 23:59:59.999</td>\n",
       "    </tr>\n",
       "    <tr>\n",
       "      <th>345</th>\n",
       "      <td>2024-03-25</td>\n",
       "      <td>67210.00</td>\n",
       "      <td>71769.54</td>\n",
       "      <td>66385.06</td>\n",
       "      <td>71280.01</td>\n",
       "      <td>235409.957550</td>\n",
       "      <td>2024-03-31 23:59:59.999</td>\n",
       "    </tr>\n",
       "    <tr>\n",
       "      <th>346</th>\n",
       "      <td>2024-04-01</td>\n",
       "      <td>71280.00</td>\n",
       "      <td>71288.23</td>\n",
       "      <td>64493.07</td>\n",
       "      <td>69360.39</td>\n",
       "      <td>274227.114880</td>\n",
       "      <td>2024-04-07 23:59:59.999</td>\n",
       "    </tr>\n",
       "    <tr>\n",
       "      <th>347</th>\n",
       "      <td>2024-04-08</td>\n",
       "      <td>69360.38</td>\n",
       "      <td>72797.99</td>\n",
       "      <td>60660.57</td>\n",
       "      <td>65661.84</td>\n",
       "      <td>348008.319040</td>\n",
       "      <td>2024-04-14 23:59:59.999</td>\n",
       "    </tr>\n",
       "    <tr>\n",
       "      <th>348</th>\n",
       "      <td>2024-04-15</td>\n",
       "      <td>65661.85</td>\n",
       "      <td>66867.07</td>\n",
       "      <td>59600.01</td>\n",
       "      <td>64941.15</td>\n",
       "      <td>312265.132250</td>\n",
       "      <td>2024-04-21 23:59:59.999</td>\n",
       "    </tr>\n",
       "    <tr>\n",
       "      <th>349</th>\n",
       "      <td>2024-04-22</td>\n",
       "      <td>64941.15</td>\n",
       "      <td>67232.35</td>\n",
       "      <td>62391.24</td>\n",
       "      <td>63118.62</td>\n",
       "      <td>183902.507530</td>\n",
       "      <td>2024-04-28 23:59:59.999</td>\n",
       "    </tr>\n",
       "    <tr>\n",
       "      <th>350</th>\n",
       "      <td>2024-04-29</td>\n",
       "      <td>63118.62</td>\n",
       "      <td>64734.00</td>\n",
       "      <td>56552.82</td>\n",
       "      <td>64012.00</td>\n",
       "      <td>298372.017200</td>\n",
       "      <td>2024-05-05 23:59:59.999</td>\n",
       "    </tr>\n",
       "    <tr>\n",
       "      <th>351</th>\n",
       "      <td>2024-05-06</td>\n",
       "      <td>64012.00</td>\n",
       "      <td>65500.00</td>\n",
       "      <td>61103.26</td>\n",
       "      <td>61249.00</td>\n",
       "      <td>84765.420570</td>\n",
       "      <td>2024-05-12 23:59:59.999</td>\n",
       "    </tr>\n",
       "  </tbody>\n",
       "</table>\n",
       "</div>"
      ],
      "text/plain": [
       "     Open Time      Open      High       Low     Close         Volume  \\\n",
       "338 2024-02-05  42582.88  48592.66  42258.10  48299.99  262240.483570   \n",
       "339 2024-02-12  48300.00  52816.62  47710.01  52137.67  310862.301700   \n",
       "340 2024-02-19  52137.68  52985.00  50521.00  51728.85  223366.161860   \n",
       "341 2024-02-26  51728.85  64000.00  50901.44  63113.97  417907.833830   \n",
       "342 2024-03-04  63113.97  69990.00  59005.00  68955.88  481870.181782   \n",
       "343 2024-03-11  68955.88  73777.00  64533.00  68393.48  477496.917520   \n",
       "344 2024-03-18  68393.47  68956.00  60775.00  67209.99  409762.744140   \n",
       "345 2024-03-25  67210.00  71769.54  66385.06  71280.01  235409.957550   \n",
       "346 2024-04-01  71280.00  71288.23  64493.07  69360.39  274227.114880   \n",
       "347 2024-04-08  69360.38  72797.99  60660.57  65661.84  348008.319040   \n",
       "348 2024-04-15  65661.85  66867.07  59600.01  64941.15  312265.132250   \n",
       "349 2024-04-22  64941.15  67232.35  62391.24  63118.62  183902.507530   \n",
       "350 2024-04-29  63118.62  64734.00  56552.82  64012.00  298372.017200   \n",
       "351 2024-05-06  64012.00  65500.00  61103.26  61249.00   84765.420570   \n",
       "\n",
       "                 Close Time  \n",
       "338 2024-02-11 23:59:59.999  \n",
       "339 2024-02-18 23:59:59.999  \n",
       "340 2024-02-25 23:59:59.999  \n",
       "341 2024-03-03 23:59:59.999  \n",
       "342 2024-03-10 23:59:59.999  \n",
       "343 2024-03-17 23:59:59.999  \n",
       "344 2024-03-24 23:59:59.999  \n",
       "345 2024-03-31 23:59:59.999  \n",
       "346 2024-04-07 23:59:59.999  \n",
       "347 2024-04-14 23:59:59.999  \n",
       "348 2024-04-21 23:59:59.999  \n",
       "349 2024-04-28 23:59:59.999  \n",
       "350 2024-05-05 23:59:59.999  \n",
       "351 2024-05-12 23:59:59.999  "
      ]
     },
     "execution_count": 3,
     "metadata": {},
     "output_type": "execute_result"
    }
   ],
   "source": [
    "from src.mtal.data_collect import get_pair_df\n",
    "from src.mtal.data_collect import get_spot_pairs\n",
    "\n",
    "cryptos = get_spot_pairs()\n",
    "\n",
    "# df = get_pair_df(pair=\"BTCUSDT\")\n",
    "df = get_pair_df(pair=\"BTCUSDT\", limit=500, frequency=\"1w\")\n",
    "df.tail(14)"
   ]
  },
  {
   "cell_type": "markdown",
   "metadata": {},
   "source": [
    "# EMA backtest"
   ]
  },
  {
   "cell_type": "code",
   "execution_count": 9,
   "metadata": {},
   "outputs": [
    {
     "name": "stdout",
     "output_type": "stream",
     "text": [
      "BacktestResults(pnl=2144.9217058808244, pnl_percentage=2.1449217058808245, max_drawdown=0.5371681911903082, win_rate=1.0, average_return=0.791543627253674, trade_number=2, entry_dates=[Timestamp('2023-01-06 23:59:59.999000'), Timestamp('2023-10-21 23:59:59.999000')], exit_dates=[Timestamp('2023-08-22 23:59:59.999000'), Timestamp('2024-05-08 23:59:59.999000')], entry_prices=[16950.65, 29909.8], exit_prices=[26056.0, 61193.03], profit_pct_history=[0.5371681911903082, 1.0459190633170399], profit_history=[537.1681911903082, 1607.7535146905157])\n"
     ]
    }
   ],
   "source": [
    "from src.mtal.utils import generate_pinescript\n",
    "from src.mtal.backtesting.ma_cross_backtest import MACrossBacktester \n",
    "\n",
    "short_ema = 55 \n",
    "long_ema = 59 \n",
    "\n",
    "df = get_pair_df(pair=\"BTCUSDT\", limit=500, frequency=\"1d\")\n",
    "\n",
    "tester = MACrossBacktester(\n",
    "    short_ma=short_ema, long_ma=long_ema, data=df\n",
    ")\n",
    "results = tester.run()\n",
    "\n",
    "entry_dates = [int(entry_date.timestamp() * 1000) for entry_date in results.entry_dates]\n",
    "exit_dates = [int(exit_date.timestamp() * 1000) for exit_date in results.exit_dates]\n",
    "\n",
    "print(results)\n"
   ]
  },
  {
   "cell_type": "code",
   "execution_count": 4,
   "metadata": {},
   "outputs": [
    {
     "name": "stdout",
     "output_type": "stream",
     "text": [
      "Meilleure combinaison: Short EMA = 55, Long EMA = 59\n",
      "Résultat du test: BacktestResults(pnl=2697.621393230537, pnl_percentage=1.6976213932305368, max_drawdown=0.25442455932371505, win_rate=1.0, average_return=0.7024548572963697, trade_number=2, entry_dates=[Timestamp('2023-01-19 23:59:59.999000'), Timestamp('2023-10-22 23:59:59.999000')], exit_dates=[Timestamp('2023-08-23 23:59:59.999000'), Timestamp('2024-04-25 23:59:59.999000')], entry_prices=[21071.59, 29992.46], exit_prices=[26432.72, 64498.34])\n"
     ]
    }
   ],
   "source": [
    "from itertools import combinations\n",
    "from src.mtal.backtesting.ma_cross_backtest import MACrossBacktester\n",
    "\n",
    "\n",
    "ema_values = range(1, 60)  \n",
    "\n",
    "combinations = [(short_ema, long_ema) for short_ema, long_ema in combinations(ema_values, 2)]\n",
    "\n",
    "results = {}\n",
    "\n",
    "for short_ema, long_ema in combinations:\n",
    "    tester = MACrossBacktester(short_ma=short_ema, long_ma=long_ema, data=df)\n",
    "    test_results = tester.run()\n",
    "    results[(short_ema, long_ema)] = test_results\n",
    "\n",
    "best_combination = max(results, key=lambda x: results[x].pnl)  # Ajuster le critère si nécessaire\n",
    "best_result = results[best_combination]\n",
    "\n",
    "print(f\"Meilleure combinaison: Short EMA = {best_combination[0]}, Long EMA = {best_combination[1]}\")\n",
    "print(f\"Résultat du test: {best_result}\")\n"
   ]
  },
  {
   "cell_type": "markdown",
   "metadata": {},
   "source": [
    "# EMA  price above"
   ]
  },
  {
   "cell_type": "code",
   "execution_count": 11,
   "metadata": {},
   "outputs": [
    {
     "name": "stdout",
     "output_type": "stream",
     "text": [
      "BacktestResults(pnl=915.8910177936802, pnl_percentage=0.9158910177936802, max_drawdown=-0.02370493211961077, win_rate=0.5, average_return=0.19830610882863214, trade_number=4, entry_dates=[Timestamp('2023-01-06 23:59:59.999000'), Timestamp('2023-06-22 23:59:59.999000'), Timestamp('2023-10-05 23:59:59.999000'), Timestamp('2024-01-27 23:59:59.999000')], exit_dates=[Timestamp('2023-03-03 23:59:59.999000'), Timestamp('2023-07-24 23:59:59.999000'), Timestamp('2023-10-11 23:59:59.999000'), Timestamp('2024-04-13 23:59:59.999000')], entry_prices=[16950.65, 29884.92, 27410.39, 42120.63], exit_prices=[22354.34, 29176.5, 26875.52, 63924.51], profit_pct_history=[0.3187895449437041, -0.02370493211961077, -0.01951340349407648, 0.5176532259845118], profit_history=[318.7895449437041, -31.261816642942886, -25.12404807214443, 653.4873375650635])\n"
     ]
    }
   ],
   "source": [
    "from src.mtal.utils import generate_pinescript\n",
    "from src.mtal.backtesting.ma_cross_backtest import MACrossPriceAboveBacktester \n",
    "\n",
    "short_ema = 19 \n",
    "long_ema = 47 \n",
    "\n",
    "df = get_pair_df(pair=\"BTCUSDT\", limit=500, frequency=\"1d\")\n",
    "\n",
    "tester = MACrossPriceAboveBacktester(\n",
    "    short_ma=short_ema, long_ma=long_ema, data=df\n",
    ")\n",
    "results = tester.run()\n",
    "\n",
    "entry_dates = [int(entry_date.timestamp() * 1000) for entry_date in results.entry_dates]\n",
    "exit_dates = [int(exit_date.timestamp() * 1000) for exit_date in results.exit_dates]\n",
    "\n",
    "print(results)"
   ]
  },
  {
   "cell_type": "code",
   "execution_count": 12,
   "metadata": {},
   "outputs": [
    {
     "name": "stdout",
     "output_type": "stream",
     "text": [
      "Meilleure combinaison: Short EMA = 19, Long EMA = 47\n",
      "Résultat du test: BacktestResults(pnl=2607.640337455214, pnl_percentage=2.6076403374552144, max_drawdown=-0.03862851230654122, win_rate=0.75, average_return=0.40636658069417786, trade_number=4, entry_dates=[Timestamp('2022-12-21 00:00:00'), Timestamp('2023-06-23 00:00:00'), Timestamp('2023-10-06 00:00:00'), Timestamp('2024-01-28 00:00:00')], exit_dates=[Timestamp('2023-05-18 00:00:00'), Timestamp('2023-08-17 00:00:00'), Timestamp('2024-01-27 00:00:00'), Timestamp('2024-04-30 00:00:00')], entry_prices=[16896.15, 29884.92, 27410.39, 42120.63], exit_prices=[27405.62, 28730.51, 41823.51, 63866.0], profit_pct_history=[0.6220038292747162, -0.03862851230654122, 0.5258268853525981, 0.5162641204559382], profit_history=[622.0038292747162, -62.65559488039536, 819.947225271639, 1228.344877789254])\n"
     ]
    }
   ],
   "source": [
    "from itertools import combinations\n",
    "from src.mtal.backtesting.ma_cross_backtest import MACrossPriceAboveBacktester\n",
    "\n",
    "\n",
    "ema_values = range(1, 60)  \n",
    "\n",
    "combinations = [(short_ema, long_ema) for short_ema, long_ema in combinations(ema_values, 2)]\n",
    "\n",
    "results = {}\n",
    "\n",
    "for short_ema, long_ema in combinations:\n",
    "    tester = MACrossPriceAboveBacktester(short_ma=short_ema, long_ma=long_ema, data=df)\n",
    "    test_results = tester.run()\n",
    "    results[(short_ema, long_ema)] = test_results\n",
    "\n",
    "best_combination = max(results, key=lambda x: results[x].pnl)  # Ajuster le critère si nécessaire\n",
    "best_result = results[best_combination]\n",
    "\n",
    "print(f\"Meilleure combinaison: Short EMA = {best_combination[0]}, Long EMA = {best_combination[1]}\")\n",
    "print(f\"Résultat du test: {best_result}\")\n"
   ]
  },
  {
   "cell_type": "markdown",
   "metadata": {},
   "source": [
    "# VWMA cross "
   ]
  },
  {
   "cell_type": "code",
   "execution_count": 7,
   "metadata": {},
   "outputs": [
    {
     "name": "stdout",
     "output_type": "stream",
     "text": [
      "BacktestResults(pnl=676.7053417979312, pnl_percentage=0.6767053417979312, max_drawdown=-0.13466265754549342, win_rate=0.3333333333333333, average_return=0.12387330002909236, trade_number=6, entry_dates=[Timestamp('2023-04-16 23:59:59.999000'), Timestamp('2023-04-19 23:59:59.999000'), Timestamp('2023-05-28 23:59:59.999000'), Timestamp('2023-07-04 23:59:59.999000'), Timestamp('2023-10-13 23:59:59.999000'), Timestamp('2024-02-05 23:59:59.999000')], exit_dates=[Timestamp('2023-04-17 23:59:59.999000'), Timestamp('2023-05-27 23:59:59.999000'), Timestamp('2023-06-05 23:59:59.999000'), Timestamp('2023-08-17 23:59:59.999000'), Timestamp('2024-01-31 23:59:59.999000'), Timestamp('2024-05-03 23:59:59.999000')], entry_prices=[30304.65, 28797.1, 28065.0, 30766.51, 26862.0, 42708.7], exit_prices=[29430.27, 26854.27, 25728.2, 26623.41, 42580.0, 62882.01], profit_pct_history=[-0.028852997807267234, -0.06746616846835266, -0.08326385177267057, -0.13466265754549342, 0.5851388578661306, 0.47234661790220744], profit_history=[-28.852997807267233, -65.51956725747056, -75.40602850371353, -111.79982094122956, 420.3763860001801, 537.9073703074318])\n"
     ]
    }
   ],
   "source": [
    "from src.mtal.utils import generate_pinescript\n",
    "from src.mtal.backtesting.ma_cross_backtest import MACrossBacktester \n",
    "\n",
    "short_ema = 56 \n",
    "long_ema = 58 \n",
    "\n",
    "df = get_pair_df(pair=\"BTCUSDT\", limit=500, frequency=\"1d\")\n",
    "\n",
    "tester = MACrossBacktester(short_ma=short_ema, long_ma=long_ema, data=df, ma_type=\"vwma\"\n",
    ")\n",
    "results = tester.run()\n",
    "\n",
    "entry_dates = [int(entry_date.timestamp() * 1000) for entry_date in results.entry_dates]\n",
    "exit_dates = [int(exit_date.timestamp() * 1000) for exit_date in results.exit_dates]\n",
    "\n",
    "print(results)\n",
    "# print(generate_pinescript(entry_dates, exit_dates))\n",
    "\n"
   ]
  },
  {
   "cell_type": "code",
   "execution_count": 6,
   "metadata": {},
   "outputs": [
    {
     "name": "stderr",
     "output_type": "stream",
     "text": [
      "/home/romain/mtal/src/mtal/analysis.py:64: PerformanceWarning: DataFrame is highly fragmented.  This is usually the result of calling `frame.insert` many times, which has poor performance.  Consider joining all columns at once using pd.concat(axis=1) instead. To get a de-fragmented frame, use `newframe = frame.copy()`\n",
      "  df[get_ma_names(span, \"vwma\")] = vwma\n",
      "/home/romain/mtal/src/mtal/analysis.py:64: PerformanceWarning: DataFrame is highly fragmented.  This is usually the result of calling `frame.insert` many times, which has poor performance.  Consider joining all columns at once using pd.concat(axis=1) instead. To get a de-fragmented frame, use `newframe = frame.copy()`\n",
      "  df[get_ma_names(span, \"vwma\")] = vwma\n",
      "/home/romain/mtal/src/mtal/analysis.py:64: PerformanceWarning: DataFrame is highly fragmented.  This is usually the result of calling `frame.insert` many times, which has poor performance.  Consider joining all columns at once using pd.concat(axis=1) instead. To get a de-fragmented frame, use `newframe = frame.copy()`\n",
      "  df[get_ma_names(span, \"vwma\")] = vwma\n",
      "/home/romain/mtal/src/mtal/analysis.py:64: PerformanceWarning: DataFrame is highly fragmented.  This is usually the result of calling `frame.insert` many times, which has poor performance.  Consider joining all columns at once using pd.concat(axis=1) instead. To get a de-fragmented frame, use `newframe = frame.copy()`\n",
      "  df[get_ma_names(span, \"vwma\")] = vwma\n",
      "/home/romain/mtal/src/mtal/analysis.py:64: PerformanceWarning: DataFrame is highly fragmented.  This is usually the result of calling `frame.insert` many times, which has poor performance.  Consider joining all columns at once using pd.concat(axis=1) instead. To get a de-fragmented frame, use `newframe = frame.copy()`\n",
      "  df[get_ma_names(span, \"vwma\")] = vwma\n",
      "/home/romain/mtal/src/mtal/analysis.py:64: PerformanceWarning: DataFrame is highly fragmented.  This is usually the result of calling `frame.insert` many times, which has poor performance.  Consider joining all columns at once using pd.concat(axis=1) instead. To get a de-fragmented frame, use `newframe = frame.copy()`\n",
      "  df[get_ma_names(span, \"vwma\")] = vwma\n",
      "/home/romain/mtal/src/mtal/analysis.py:64: PerformanceWarning: DataFrame is highly fragmented.  This is usually the result of calling `frame.insert` many times, which has poor performance.  Consider joining all columns at once using pd.concat(axis=1) instead. To get a de-fragmented frame, use `newframe = frame.copy()`\n",
      "  df[get_ma_names(span, \"vwma\")] = vwma\n",
      "/home/romain/mtal/src/mtal/analysis.py:64: PerformanceWarning: DataFrame is highly fragmented.  This is usually the result of calling `frame.insert` many times, which has poor performance.  Consider joining all columns at once using pd.concat(axis=1) instead. To get a de-fragmented frame, use `newframe = frame.copy()`\n",
      "  df[get_ma_names(span, \"vwma\")] = vwma\n",
      "/home/romain/mtal/src/mtal/analysis.py:64: PerformanceWarning: DataFrame is highly fragmented.  This is usually the result of calling `frame.insert` many times, which has poor performance.  Consider joining all columns at once using pd.concat(axis=1) instead. To get a de-fragmented frame, use `newframe = frame.copy()`\n",
      "  df[get_ma_names(span, \"vwma\")] = vwma\n",
      "/home/romain/mtal/src/mtal/analysis.py:64: PerformanceWarning: DataFrame is highly fragmented.  This is usually the result of calling `frame.insert` many times, which has poor performance.  Consider joining all columns at once using pd.concat(axis=1) instead. To get a de-fragmented frame, use `newframe = frame.copy()`\n",
      "  df[get_ma_names(span, \"vwma\")] = vwma\n",
      "/home/romain/mtal/src/mtal/analysis.py:64: PerformanceWarning: DataFrame is highly fragmented.  This is usually the result of calling `frame.insert` many times, which has poor performance.  Consider joining all columns at once using pd.concat(axis=1) instead. To get a de-fragmented frame, use `newframe = frame.copy()`\n",
      "  df[get_ma_names(span, \"vwma\")] = vwma\n",
      "/home/romain/mtal/src/mtal/analysis.py:64: PerformanceWarning: DataFrame is highly fragmented.  This is usually the result of calling `frame.insert` many times, which has poor performance.  Consider joining all columns at once using pd.concat(axis=1) instead. To get a de-fragmented frame, use `newframe = frame.copy()`\n",
      "  df[get_ma_names(span, \"vwma\")] = vwma\n",
      "/home/romain/mtal/src/mtal/analysis.py:64: PerformanceWarning: DataFrame is highly fragmented.  This is usually the result of calling `frame.insert` many times, which has poor performance.  Consider joining all columns at once using pd.concat(axis=1) instead. To get a de-fragmented frame, use `newframe = frame.copy()`\n",
      "  df[get_ma_names(span, \"vwma\")] = vwma\n",
      "/home/romain/mtal/src/mtal/analysis.py:64: PerformanceWarning: DataFrame is highly fragmented.  This is usually the result of calling `frame.insert` many times, which has poor performance.  Consider joining all columns at once using pd.concat(axis=1) instead. To get a de-fragmented frame, use `newframe = frame.copy()`\n",
      "  df[get_ma_names(span, \"vwma\")] = vwma\n",
      "/home/romain/mtal/src/mtal/analysis.py:64: PerformanceWarning: DataFrame is highly fragmented.  This is usually the result of calling `frame.insert` many times, which has poor performance.  Consider joining all columns at once using pd.concat(axis=1) instead. To get a de-fragmented frame, use `newframe = frame.copy()`\n",
      "  df[get_ma_names(span, \"vwma\")] = vwma\n",
      "/home/romain/mtal/src/mtal/analysis.py:64: PerformanceWarning: DataFrame is highly fragmented.  This is usually the result of calling `frame.insert` many times, which has poor performance.  Consider joining all columns at once using pd.concat(axis=1) instead. To get a de-fragmented frame, use `newframe = frame.copy()`\n",
      "  df[get_ma_names(span, \"vwma\")] = vwma\n",
      "/home/romain/mtal/src/mtal/analysis.py:64: PerformanceWarning: DataFrame is highly fragmented.  This is usually the result of calling `frame.insert` many times, which has poor performance.  Consider joining all columns at once using pd.concat(axis=1) instead. To get a de-fragmented frame, use `newframe = frame.copy()`\n",
      "  df[get_ma_names(span, \"vwma\")] = vwma\n",
      "/home/romain/mtal/src/mtal/analysis.py:64: PerformanceWarning: DataFrame is highly fragmented.  This is usually the result of calling `frame.insert` many times, which has poor performance.  Consider joining all columns at once using pd.concat(axis=1) instead. To get a de-fragmented frame, use `newframe = frame.copy()`\n",
      "  df[get_ma_names(span, \"vwma\")] = vwma\n",
      "/home/romain/mtal/src/mtal/analysis.py:64: PerformanceWarning: DataFrame is highly fragmented.  This is usually the result of calling `frame.insert` many times, which has poor performance.  Consider joining all columns at once using pd.concat(axis=1) instead. To get a de-fragmented frame, use `newframe = frame.copy()`\n",
      "  df[get_ma_names(span, \"vwma\")] = vwma\n",
      "/home/romain/mtal/src/mtal/analysis.py:64: PerformanceWarning: DataFrame is highly fragmented.  This is usually the result of calling `frame.insert` many times, which has poor performance.  Consider joining all columns at once using pd.concat(axis=1) instead. To get a de-fragmented frame, use `newframe = frame.copy()`\n",
      "  df[get_ma_names(span, \"vwma\")] = vwma\n",
      "/home/romain/mtal/src/mtal/analysis.py:64: PerformanceWarning: DataFrame is highly fragmented.  This is usually the result of calling `frame.insert` many times, which has poor performance.  Consider joining all columns at once using pd.concat(axis=1) instead. To get a de-fragmented frame, use `newframe = frame.copy()`\n",
      "  df[get_ma_names(span, \"vwma\")] = vwma\n",
      "/home/romain/mtal/src/mtal/analysis.py:64: PerformanceWarning: DataFrame is highly fragmented.  This is usually the result of calling `frame.insert` many times, which has poor performance.  Consider joining all columns at once using pd.concat(axis=1) instead. To get a de-fragmented frame, use `newframe = frame.copy()`\n",
      "  df[get_ma_names(span, \"vwma\")] = vwma\n",
      "/home/romain/mtal/src/mtal/analysis.py:64: PerformanceWarning: DataFrame is highly fragmented.  This is usually the result of calling `frame.insert` many times, which has poor performance.  Consider joining all columns at once using pd.concat(axis=1) instead. To get a de-fragmented frame, use `newframe = frame.copy()`\n",
      "  df[get_ma_names(span, \"vwma\")] = vwma\n",
      "/home/romain/mtal/src/mtal/analysis.py:64: PerformanceWarning: DataFrame is highly fragmented.  This is usually the result of calling `frame.insert` many times, which has poor performance.  Consider joining all columns at once using pd.concat(axis=1) instead. To get a de-fragmented frame, use `newframe = frame.copy()`\n",
      "  df[get_ma_names(span, \"vwma\")] = vwma\n",
      "/home/romain/mtal/src/mtal/analysis.py:64: PerformanceWarning: DataFrame is highly fragmented.  This is usually the result of calling `frame.insert` many times, which has poor performance.  Consider joining all columns at once using pd.concat(axis=1) instead. To get a de-fragmented frame, use `newframe = frame.copy()`\n",
      "  df[get_ma_names(span, \"vwma\")] = vwma\n"
     ]
    },
    {
     "name": "stdout",
     "output_type": "stream",
     "text": [
      "Meilleure combinaison: Short EMA = 56, Long EMA = 58\n",
      "Résultat du test: BacktestResults(pnl=3577.2975760474555, pnl_percentage=2.5772975760474557, max_drawdown=-0.17333902100011148, win_rate=0.6, average_return=0.1732078101534478, trade_number=10, entry_dates=[Timestamp('2022-03-19 23:59:59.999000'), Timestamp('2022-08-12 23:59:59.999000'), Timestamp('2022-11-02 23:59:59.999000'), Timestamp('2023-01-06 23:59:59.999000'), Timestamp('2023-01-09 23:59:59.999000'), Timestamp('2023-04-17 23:59:59.999000'), Timestamp('2023-04-20 23:59:59.999000'), Timestamp('2023-07-05 23:59:59.999000'), Timestamp('2023-10-14 23:59:59.999000'), Timestamp('2024-02-06 23:59:59.999000')], exit_dates=[Timestamp('2022-04-04 23:59:59.999000'), Timestamp('2022-09-13 23:59:59.999000'), Timestamp('2022-11-05 23:59:59.999000'), Timestamp('2023-01-07 23:59:59.999000'), Timestamp('2023-04-16 23:59:59.999000'), Timestamp('2023-04-18 23:59:59.999000'), Timestamp('2023-05-28 23:59:59.999000'), Timestamp('2023-08-18 23:59:59.999000'), Timestamp('2024-02-01 23:59:59.999000'), Timestamp('2024-04-25 23:59:59.999000')], entry_prices=[42201.13, 24403.68, 20151.84, 16950.65, 17178.26, 29430.27, 28243.65, 30504.81, 26852.48, 43098.95], exit_prices=[46580.51, 20173.57, 21299.37, 16943.57, 30304.65, 30380.01, 28065.0, 26054.0, 43082.94, 64498.34])\n"
     ]
    }
   ],
   "source": [
    "from itertools import combinations\n",
    "from src.mtal.backtesting.ma_cross_backtest import MACrossBacktester\n",
    "\n",
    "\n",
    "ema_values = range(1, 60)  \n",
    "\n",
    "combinations = [(short_ema, long_ema) for short_ema, long_ema in combinations(ema_values, 2)]\n",
    "\n",
    "results = {}\n",
    "\n",
    "for short_ema, long_ema in combinations:\n",
    "    tester = MACrossBacktester(short_ma=short_ema, long_ma=long_ema, data=df, ma_type=\"vwma\")\n",
    "    test_results = tester.run()\n",
    "    results[(short_ema, long_ema)] = test_results\n",
    "\n",
    "best_combination = max(results, key=lambda x: results[x].pnl)  # Ajuster le critère si nécessaire\n",
    "best_result = results[best_combination]\n",
    "\n",
    "print(f\"Meilleure combinaison: Short EMA = {best_combination[0]}, Long EMA = {best_combination[1]}\")\n",
    "print(f\"Résultat du test: {best_result}\")\n"
   ]
  },
  {
   "cell_type": "markdown",
   "metadata": {},
   "source": [
    "# VWMA above"
   ]
  },
  {
   "cell_type": "code",
   "execution_count": 12,
   "metadata": {},
   "outputs": [
    {
     "name": "stdout",
     "output_type": "stream",
     "text": [
      "BacktestResults(pnl=3108.9087794278794, pnl_percentage=3.1089087794278796, max_drawdown=-0.04734561471993561, win_rate=0.5111111111111111, average_return=0.03482758631691941, trade_number=45, entry_dates=[Timestamp('2023-01-02 23:59:59.999000'), Timestamp('2023-01-20 23:59:59.999000'), Timestamp('2023-02-01 23:59:59.999000'), Timestamp('2023-02-13 23:59:59.999000'), Timestamp('2023-03-02 23:59:59.999000'), Timestamp('2023-03-12 23:59:59.999000'), Timestamp('2023-03-26 23:59:59.999000'), Timestamp('2023-03-29 23:59:59.999000'), Timestamp('2023-04-05 23:59:59.999000'), Timestamp('2023-04-09 23:59:59.999000'), Timestamp('2023-04-25 23:59:59.999000'), Timestamp('2023-05-03 23:59:59.999000'), Timestamp('2023-05-15 23:59:59.999000'), Timestamp('2023-05-23 23:59:59.999000'), Timestamp('2023-05-27 23:59:59.999000'), Timestamp('2023-06-09 23:59:59.999000'), Timestamp('2023-06-16 23:59:59.999000'), Timestamp('2023-06-30 23:59:59.999000'), Timestamp('2023-07-08 23:59:59.999000'), Timestamp('2023-07-28 23:59:59.999000'), Timestamp('2023-08-01 23:59:59.999000'), Timestamp('2023-08-07 23:59:59.999000'), Timestamp('2023-08-28 23:59:59.999000'), Timestamp('2023-09-07 23:59:59.999000'), Timestamp('2023-09-13 23:59:59.999000'), Timestamp('2023-09-28 23:59:59.999000'), Timestamp('2023-10-15 23:59:59.999000'), Timestamp('2023-10-29 23:59:59.999000'), Timestamp('2023-11-06 23:59:59.999000'), Timestamp('2023-11-23 23:59:59.999000'), Timestamp('2023-11-29 23:59:59.999000'), Timestamp('2023-12-13 23:59:59.999000'), Timestamp('2023-12-19 23:59:59.999000'), Timestamp('2024-01-01 23:59:59.999000'), Timestamp('2024-01-05 23:59:59.999000'), Timestamp('2024-01-16 23:59:59.999000'), Timestamp('2024-01-25 23:59:59.999000'), Timestamp('2024-02-07 23:59:59.999000'), Timestamp('2024-02-25 23:59:59.999000'), Timestamp('2024-03-07 23:59:59.999000'), Timestamp('2024-03-25 23:59:59.999000'), Timestamp('2024-03-31 23:59:59.999000'), Timestamp('2024-04-05 23:59:59.999000'), Timestamp('2024-04-19 23:59:59.999000'), Timestamp('2024-05-03 23:59:59.999000')], exit_dates=[Timestamp('2023-01-18 23:59:59.999000'), Timestamp('2023-01-24 23:59:59.999000'), Timestamp('2023-02-04 23:59:59.999000'), Timestamp('2023-02-21 23:59:59.999000'), Timestamp('2023-03-03 23:59:59.999000'), Timestamp('2023-03-22 23:59:59.999000'), Timestamp('2023-03-27 23:59:59.999000'), Timestamp('2023-04-02 23:59:59.999000'), Timestamp('2023-04-06 23:59:59.999000'), Timestamp('2023-04-17 23:59:59.999000'), Timestamp('2023-05-01 23:59:59.999000'), Timestamp('2023-05-06 23:59:59.999000'), Timestamp('2023-05-18 23:59:59.999000'), Timestamp('2023-05-24 23:59:59.999000'), Timestamp('2023-05-31 23:59:59.999000'), Timestamp('2023-06-10 23:59:59.999000'), Timestamp('2023-06-26 23:59:59.999000'), Timestamp('2023-07-05 23:59:59.999000'), Timestamp('2023-07-09 23:59:59.999000'), Timestamp('2023-07-30 23:59:59.999000'), Timestamp('2023-08-02 23:59:59.999000'), Timestamp('2023-08-10 23:59:59.999000'), Timestamp('2023-08-31 23:59:59.999000'), Timestamp('2023-09-08 23:59:59.999000'), Timestamp('2023-09-21 23:59:59.999000'), Timestamp('2023-10-05 23:59:59.999000'), Timestamp('2023-10-28 23:59:59.999000'), Timestamp('2023-11-03 23:59:59.999000'), Timestamp('2023-11-13 23:59:59.999000'), Timestamp('2023-11-26 23:59:59.999000'), Timestamp('2023-12-09 23:59:59.999000'), Timestamp('2023-12-15 23:59:59.999000'), Timestamp('2023-12-24 23:59:59.999000'), Timestamp('2024-01-03 23:59:59.999000'), Timestamp('2024-01-11 23:59:59.999000'), Timestamp('2024-01-18 23:59:59.999000'), Timestamp('2024-01-31 23:59:59.999000'), Timestamp('2024-02-19 23:59:59.999000'), Timestamp('2024-03-05 23:59:59.999000'), Timestamp('2024-03-14 23:59:59.999000'), Timestamp('2024-03-29 23:59:59.999000'), Timestamp('2024-04-01 23:59:59.999000'), Timestamp('2024-04-09 23:59:59.999000'), Timestamp('2024-04-24 23:59:59.999000'), Timestamp('2024-05-07 23:59:59.999000')], entry_prices=[16672.87, 22667.21, 23732.66, 21773.97, 23465.32, 21997.11, 27968.05, 28348.6, 28170.01, 28323.76, 28300.79, 29026.16, 27162.14, 27219.61, 26854.27, 26477.81, 26345.0, 30472.0, 30284.63, 29314.14, 29705.99, 29211.06, 26120.0, 26255.0, 26222.0, 27021.39, 27154.15, 34525.89, 35046.09, 37294.28, 37854.64, 42869.03, 42275.99, 44179.55, 44145.11, 43137.95, 39961.09, 44349.6, 51728.85, 66823.17, 69880.01, 71280.01, 67820.62, 63818.01, 62882.01], exit_prices=[20677.47, 22632.89, 23326.84, 24452.16, 22354.34, 27250.97, 27124.91, 28171.87, 28033.82, 29430.27, 28068.26, 28848.2, 26821.28, 26329.01, 27210.35, 25841.21, 30267.99, 30504.81, 30160.71, 29281.09, 29186.01, 29455.75, 25940.78, 25910.5, 26568.08, 27410.39, 34081.0, 34716.78, 36462.93, 37447.43, 43713.6, 41940.3, 42991.5, 42845.23, 46339.16, 41327.5, 42580.0, 51774.73, 63724.01, 71388.94, 69850.54, 69649.8, 69146.0, 64289.59, 62312.08], profit_pct_history=[0.24018660254653232, -0.001514081353638128, -0.017099642433675774, 0.12299961835163724, -0.04734561471993561, 0.23884319349223604, -0.03014654221513475, -0.006234170294123857, -0.0048345740736335805, 0.039066493996559856, -0.008216378412051481, -0.006131021120258385, -0.012549084865920011, -0.03271905806144916, 0.013259716238795472, -0.024042773930321358, 0.1489083317517556, 0.0010767261748490847, -0.004091844608965072, -0.0011274422514185739, -0.017504213796611497, 0.00837662173163174, -0.00686140888208274, -0.0131213102266235, 0.013198077949813201, 0.014396002574256913, 0.25509360447666374, 0.005528894403591027, 0.04042790508156556, 0.004106527864326686, 0.15477521381790976, -0.02166435769598696, 0.016924736712256815, -0.03020220894056186, 0.04970086154502736, -0.04196884645654226, 0.06553650063098888, 0.16742270505258233, 0.23188530191566223, 0.06832615094435066, -0.00042172289328523514, -0.0228705074536324, 0.01954243414465991, 0.007389450094103443, -0.009063482544530627], profit_history=[240.18660254653233, -1.8777434099475243, -21.17463871368858, 149.70704459473373, -64.71393991683411, 311.0042486605771, -48.63033908696399, -9.753367122327298, -7.51654373150439, 60.44490322332594, -13.209276245451903, -9.775710550899293, -19.88642486014657, -51.19893960949576, 20.069984410188596, -36.8738219888936, 222.88629447087118, 1.8516334403684513, -7.044274029446934, -1.9329948831272459, -29.977063591853156, 14.094383383795524, -11.641615338626194, -22.109911611839028, 21.94745983650447, 24.25547851171632, 435.98849659173356, 11.860141548249665, 87.2021853924048, 9.21579695013671, 348.77016483072924, -56.37430296674204, 43.086891662840934, -78.18991891620124, 124.78349998223769, -110.60781973970724, 165.47091914661152, 450.42357888642766, 728.296327050313, 264.3577991599551, -1.7431558122183908, -94.49343600735035, 78.89629684543308, 30.415530005359678, -37.58164356990382])\n"
     ]
    }
   ],
   "source": [
    "from src.mtal.backtesting.ma_cross_backtest import MACrossPriceAboveBacktester \n",
    "\n",
    "short_ema = 2 \n",
    "long_ema = 5\n",
    "\n",
    "df = get_pair_df(pair=\"BTCUSDT\", limit=500, frequency=\"1d\")\n",
    "\n",
    "tester = MACrossPriceAboveBacktester(short_ma=short_ema, long_ma=long_ema, data=df, ma_type=\"vwma\"\n",
    ")\n",
    "results = tester.run()\n",
    "\n",
    "entry_dates = [int(entry_date.timestamp() * 1000) for entry_date in results.entry_dates]\n",
    "exit_dates = [int(exit_date.timestamp() * 1000) for exit_date in results.exit_dates]\n",
    "\n",
    "print(results)"
   ]
  },
  {
   "cell_type": "code",
   "execution_count": 4,
   "metadata": {},
   "outputs": [
    {
     "name": "stdout",
     "output_type": "stream",
     "text": [
      "Meilleure combinaison: Short EMA = 2, Long EMA = 5\n",
      "Résultat du test: BacktestResults(pnl=3115.5126566516756, pnl_percentage=3.1155126566516755, max_drawdown=-0.04734561471993561, win_rate=0.5111111111111111, average_return=0.03486297837435225, trade_number=45, entry_dates=[Timestamp('2022-12-25 23:59:59.999000'), Timestamp('2023-01-02 23:59:59.999000'), Timestamp('2023-01-20 23:59:59.999000'), Timestamp('2023-02-01 23:59:59.999000'), Timestamp('2023-02-13 23:59:59.999000'), Timestamp('2023-03-02 23:59:59.999000'), Timestamp('2023-03-12 23:59:59.999000'), Timestamp('2023-03-26 23:59:59.999000'), Timestamp('2023-03-29 23:59:59.999000'), Timestamp('2023-04-05 23:59:59.999000'), Timestamp('2023-04-09 23:59:59.999000'), Timestamp('2023-04-25 23:59:59.999000'), Timestamp('2023-05-03 23:59:59.999000'), Timestamp('2023-05-15 23:59:59.999000'), Timestamp('2023-05-23 23:59:59.999000'), Timestamp('2023-05-27 23:59:59.999000'), Timestamp('2023-06-09 23:59:59.999000'), Timestamp('2023-06-16 23:59:59.999000'), Timestamp('2023-06-30 23:59:59.999000'), Timestamp('2023-07-08 23:59:59.999000'), Timestamp('2023-07-28 23:59:59.999000'), Timestamp('2023-08-01 23:59:59.999000'), Timestamp('2023-08-07 23:59:59.999000'), Timestamp('2023-08-28 23:59:59.999000'), Timestamp('2023-09-07 23:59:59.999000'), Timestamp('2023-09-13 23:59:59.999000'), Timestamp('2023-09-28 23:59:59.999000'), Timestamp('2023-10-15 23:59:59.999000'), Timestamp('2023-10-29 23:59:59.999000'), Timestamp('2023-11-06 23:59:59.999000'), Timestamp('2023-11-23 23:59:59.999000'), Timestamp('2023-11-29 23:59:59.999000'), Timestamp('2023-12-13 23:59:59.999000'), Timestamp('2023-12-19 23:59:59.999000'), Timestamp('2024-01-01 23:59:59.999000'), Timestamp('2024-01-05 23:59:59.999000'), Timestamp('2024-01-16 23:59:59.999000'), Timestamp('2024-01-25 23:59:59.999000'), Timestamp('2024-02-07 23:59:59.999000'), Timestamp('2024-02-25 23:59:59.999000'), Timestamp('2024-03-07 23:59:59.999000'), Timestamp('2024-03-25 23:59:59.999000'), Timestamp('2024-03-31 23:59:59.999000'), Timestamp('2024-04-05 23:59:59.999000'), Timestamp('2024-04-19 23:59:59.999000')], exit_dates=[Timestamp('2022-12-27 23:59:59.999000'), Timestamp('2023-01-18 23:59:59.999000'), Timestamp('2023-01-24 23:59:59.999000'), Timestamp('2023-02-04 23:59:59.999000'), Timestamp('2023-02-21 23:59:59.999000'), Timestamp('2023-03-03 23:59:59.999000'), Timestamp('2023-03-22 23:59:59.999000'), Timestamp('2023-03-27 23:59:59.999000'), Timestamp('2023-04-02 23:59:59.999000'), Timestamp('2023-04-06 23:59:59.999000'), Timestamp('2023-04-17 23:59:59.999000'), Timestamp('2023-05-01 23:59:59.999000'), Timestamp('2023-05-06 23:59:59.999000'), Timestamp('2023-05-18 23:59:59.999000'), Timestamp('2023-05-24 23:59:59.999000'), Timestamp('2023-05-31 23:59:59.999000'), Timestamp('2023-06-10 23:59:59.999000'), Timestamp('2023-06-26 23:59:59.999000'), Timestamp('2023-07-05 23:59:59.999000'), Timestamp('2023-07-09 23:59:59.999000'), Timestamp('2023-07-30 23:59:59.999000'), Timestamp('2023-08-02 23:59:59.999000'), Timestamp('2023-08-10 23:59:59.999000'), Timestamp('2023-08-31 23:59:59.999000'), Timestamp('2023-09-08 23:59:59.999000'), Timestamp('2023-09-21 23:59:59.999000'), Timestamp('2023-10-05 23:59:59.999000'), Timestamp('2023-10-28 23:59:59.999000'), Timestamp('2023-11-03 23:59:59.999000'), Timestamp('2023-11-13 23:59:59.999000'), Timestamp('2023-11-26 23:59:59.999000'), Timestamp('2023-12-09 23:59:59.999000'), Timestamp('2023-12-15 23:59:59.999000'), Timestamp('2023-12-24 23:59:59.999000'), Timestamp('2024-01-03 23:59:59.999000'), Timestamp('2024-01-11 23:59:59.999000'), Timestamp('2024-01-18 23:59:59.999000'), Timestamp('2024-01-31 23:59:59.999000'), Timestamp('2024-02-19 23:59:59.999000'), Timestamp('2024-03-05 23:59:59.999000'), Timestamp('2024-03-14 23:59:59.999000'), Timestamp('2024-03-29 23:59:59.999000'), Timestamp('2024-04-01 23:59:59.999000'), Timestamp('2024-04-09 23:59:59.999000'), Timestamp('2024-04-24 23:59:59.999000')], entry_prices=[16832.11, 16672.87, 22667.21, 23732.66, 21773.97, 23465.32, 21997.11, 27968.05, 28348.6, 28170.01, 28323.76, 28300.79, 29026.16, 27162.14, 27219.61, 26854.27, 26477.81, 26345.0, 30472.0, 30284.63, 29314.14, 29705.99, 29211.06, 26120.0, 26255.0, 26222.0, 27021.39, 27154.15, 34525.89, 35046.09, 37294.28, 37854.64, 42869.03, 42275.99, 44179.55, 44145.11, 43137.95, 39961.09, 44349.6, 51728.85, 66823.17, 69880.01, 71280.01, 67820.62, 63818.01], exit_prices=[16706.36, 20677.47, 22632.89, 23326.84, 24452.16, 22354.34, 27250.97, 27124.91, 28171.87, 28033.82, 29430.27, 28068.26, 28848.2, 26821.28, 26329.01, 27210.35, 25841.21, 30267.99, 30504.81, 30160.71, 29281.09, 29186.01, 29455.75, 25940.78, 25910.5, 26568.08, 27410.39, 34081.0, 34716.78, 36462.93, 37447.43, 43713.6, 41940.3, 42991.5, 42845.23, 46339.16, 41327.5, 42580.0, 51774.73, 63724.01, 71388.94, 69850.54, 69649.8, 69146.0, 64289.59], profit_pct_history=[-0.007470839960052542, 0.24018660254653232, -0.001514081353638128, -0.017099642433675774, 0.12299961835163724, -0.04734561471993561, 0.23884319349223604, -0.03014654221513475, -0.006234170294123857, -0.0048345740736335805, 0.039066493996559856, -0.008216378412051481, -0.006131021120258385, -0.012549084865920011, -0.03271905806144916, 0.013259716238795472, -0.024042773930321358, 0.1489083317517556, 0.0010767261748490847, -0.004091844608965072, -0.0011274422514185739, -0.017504213796611497, 0.00837662173163174, -0.00686140888208274, -0.0131213102266235, 0.013198077949813201, 0.014396002574256913, 0.25509360447666374, 0.005528894403591027, 0.04042790508156556, 0.004106527864326686, 0.15477521381790976, -0.02166435769598696, 0.016924736712256815, -0.03020220894056186, 0.04970086154502736, -0.04196884645654226, 0.06553650063098888, 0.16742270505258233, 0.23188530191566223, 0.06832615094435066, -0.00042172289328523514, -0.0228705074536324, 0.01954243414465991, 0.007389450094103443], profit_history=[-7.470839960052542, 238.39220687835845, -1.8637150894457633, -21.01644637664668, 148.58860722367405, -64.230472428531, 308.6807856919376, -48.2670296064422, -9.680501277484755, -7.4603888362335855, 59.99332902494361, -13.11059185663401, -9.702677781877728, -19.737856562638804, -50.81644052554881, 19.920044768659324, -36.5983435660991, 221.22114663559012, 1.8378001832707769, -6.991647385538181, -1.9185537877118017, -29.753109747286107, 13.989086501199564, -11.554642693554824, -21.94473200065607, 21.783493876536266, 24.074269713600795, 432.7312963092728, 11.77153632883912, 86.5507118211713, 9.146947206017897, 346.1645587464377, -55.95313957141799, 42.76499639085172, -77.60577454548881, 123.85126242421516, -109.78148642010156, 164.23471239162438, 447.058536414333, 722.855341747426, 262.38282435023933, -1.7301329741198717, -93.78749066966397, 78.30687523826006, 30.188300448389455])\n"
     ]
    }
   ],
   "source": [
    "from itertools import combinations\n",
    "from src.mtal.backtesting.ma_cross_backtest import MACrossPriceAboveBacktester \n",
    "\n",
    "ema_values = range(1, 60)  \n",
    "combinations = [(short_ema, long_ema) for short_ema, long_ema in combinations(ema_values, 2)]\n",
    "\n",
    "results = {}\n",
    "\n",
    "for short_ema, long_ema in combinations:\n",
    "    tester = MACrossPriceAboveBacktester(short_ma=short_ema, long_ma=long_ema, data=df, ma_type=\"vwma\")\n",
    "    test_results = tester.run()\n",
    "    results[(short_ema, long_ema)] = test_results\n",
    "\n",
    "best_combination = max(results, key=lambda x: results[x].pnl)  # Ajuster le critère si nécessaire\n",
    "best_result = results[best_combination]\n",
    "\n",
    "print(f\"Meilleure combinaison: Short EMA = {best_combination[0]}, Long EMA = {best_combination[1]}\")\n",
    "print(f\"Résultat du test: {best_result}\")"
   ]
  },
  {
   "cell_type": "markdown",
   "metadata": {},
   "source": [
    "EMA price above + close en dessous de la long: 2-5 nous donne un bon x3"
   ]
  },
  {
   "cell_type": "markdown",
   "metadata": {},
   "source": [
    "# HMA cross"
   ]
  },
  {
   "cell_type": "code",
   "execution_count": 14,
   "metadata": {},
   "outputs": [
    {
     "name": "stdout",
     "output_type": "stream",
     "text": [
      "BacktestResults(pnl=2200.4663874061985, pnl_percentage=2.2004663874061983, max_drawdown=-0.08877992904949492, win_rate=0.4666666666666667, average_return=0.02955498590272919, trade_number=45, entry_dates=[Timestamp('2023-01-02 23:59:59.999000'), Timestamp('2023-01-21 23:59:59.999000'), Timestamp('2023-02-02 23:59:59.999000'), Timestamp('2023-02-13 23:59:59.999000'), Timestamp('2023-02-28 23:59:59.999000'), Timestamp('2023-03-07 23:59:59.999000'), Timestamp('2023-03-12 23:59:59.999000'), Timestamp('2023-03-30 23:59:59.999000'), Timestamp('2023-04-09 23:59:59.999000'), Timestamp('2023-04-24 23:59:59.999000'), Timestamp('2023-05-05 23:59:59.999000'), Timestamp('2023-05-14 23:59:59.999000'), Timestamp('2023-05-23 23:59:59.999000'), Timestamp('2023-05-27 23:59:59.999000'), Timestamp('2023-06-08 23:59:59.999000'), Timestamp('2023-06-13 23:59:59.999000'), Timestamp('2023-06-16 23:59:59.999000'), Timestamp('2023-07-03 23:59:59.999000'), Timestamp('2023-07-10 23:59:59.999000'), Timestamp('2023-07-21 23:59:59.999000'), Timestamp('2023-07-28 23:59:59.999000'), Timestamp('2023-08-07 23:59:59.999000'), Timestamp('2023-08-21 23:59:59.999000'), Timestamp('2023-09-05 23:59:59.999000'), Timestamp('2023-09-13 23:59:59.999000'), Timestamp('2023-09-19 23:59:59.999000'), Timestamp('2023-09-27 23:59:59.999000'), Timestamp('2023-10-15 23:59:59.999000'), Timestamp('2023-11-08 23:59:59.999000'), Timestamp('2023-11-19 23:59:59.999000'), Timestamp('2023-11-23 23:59:59.999000'), Timestamp('2023-12-01 23:59:59.999000'), Timestamp('2023-12-15 23:59:59.999000'), Timestamp('2023-12-18 23:59:59.999000'), Timestamp('2024-01-01 23:59:59.999000'), Timestamp('2024-01-08 23:59:59.999000'), Timestamp('2024-01-17 23:59:59.999000'), Timestamp('2024-01-25 23:59:59.999000'), Timestamp('2024-02-07 23:59:59.999000'), Timestamp('2024-02-26 23:59:59.999000'), Timestamp('2024-03-11 23:59:59.999000'), Timestamp('2024-03-21 23:59:59.999000'), Timestamp('2024-04-05 23:59:59.999000'), Timestamp('2024-04-18 23:59:59.999000'), Timestamp('2024-05-03 23:59:59.999000')], exit_dates=[Timestamp('2023-01-17 23:59:59.999000'), Timestamp('2023-01-24 23:59:59.999000'), Timestamp('2023-02-04 23:59:59.999000'), Timestamp('2023-02-20 23:59:59.999000'), Timestamp('2023-03-03 23:59:59.999000'), Timestamp('2023-03-09 23:59:59.999000'), Timestamp('2023-03-20 23:59:59.999000'), Timestamp('2023-04-03 23:59:59.999000'), Timestamp('2023-04-15 23:59:59.999000'), Timestamp('2023-05-01 23:59:59.999000'), Timestamp('2023-05-07 23:59:59.999000'), Timestamp('2023-05-20 23:59:59.999000'), Timestamp('2023-05-24 23:59:59.999000'), Timestamp('2023-05-31 23:59:59.999000'), Timestamp('2023-06-10 23:59:59.999000'), Timestamp('2023-06-14 23:59:59.999000'), Timestamp('2023-06-25 23:59:59.999000'), Timestamp('2023-07-05 23:59:59.999000'), Timestamp('2023-07-15 23:59:59.999000'), Timestamp('2023-07-25 23:59:59.999000'), Timestamp('2023-08-03 23:59:59.999000'), Timestamp('2023-08-12 23:59:59.999000'), Timestamp('2023-09-01 23:59:59.999000'), Timestamp('2023-09-11 23:59:59.999000'), Timestamp('2023-09-18 23:59:59.999000'), Timestamp('2023-09-21 23:59:59.999000'), Timestamp('2023-10-04 23:59:59.999000'), Timestamp('2023-10-27 23:59:59.999000'), Timestamp('2023-11-13 23:59:59.999000'), Timestamp('2023-11-21 23:59:59.999000'), Timestamp('2023-11-27 23:59:59.999000'), Timestamp('2023-12-08 23:59:59.999000'), Timestamp('2023-12-17 23:59:59.999000'), Timestamp('2023-12-24 23:59:59.999000'), Timestamp('2024-01-05 23:59:59.999000'), Timestamp('2024-01-12 23:59:59.999000'), Timestamp('2024-01-22 23:59:59.999000'), Timestamp('2024-02-01 23:59:59.999000'), Timestamp('2024-02-16 23:59:59.999000'), Timestamp('2024-03-03 23:59:59.999000'), Timestamp('2024-03-14 23:59:59.999000'), Timestamp('2024-03-29 23:59:59.999000'), Timestamp('2024-04-11 23:59:59.999000'), Timestamp('2024-04-25 23:59:59.999000'), Timestamp('2024-05-08 23:59:59.999000')], entry_prices=[16672.87, 22783.55, 23488.94, 21773.97, 23141.57, 22197.96, 21997.11, 28028.53, 28323.76, 27510.93, 29505.61, 26917.62, 27219.61, 26854.27, 26498.61, 25934.25, 26345.0, 31156.2, 30411.57, 29901.72, 29314.14, 29211.06, 26126.92, 25792.1, 26222.0, 27210.26, 26372.99, 27154.15, 35624.72, 37359.86, 37294.28, 38682.52, 41940.3, 42657.8, 44179.55, 46951.04, 42776.1, 39961.09, 44349.6, 54476.47, 72078.1, 65501.27, 67820.62, 63470.08, 62882.01], exit_prices=[21134.81, 22632.89, 23326.84, 24842.2, 22354.34, 20362.22, 27717.01, 27800.0, 30295.09, 28068.26, 28430.1, 27102.43, 26329.01, 27210.35, 25841.21, 25128.6, 30462.66, 30504.81, 30289.52, 29228.91, 29193.64, 29430.17, 25805.05, 25162.52, 26762.51, 26568.08, 27778.57, 33892.02, 36462.93, 35741.65, 37242.7, 44170.99, 41374.65, 42991.5, 44145.11, 42782.73, 39568.02, 43082.94, 52124.11, 63113.97, 71388.94, 69850.54, 70006.23, 64498.34, 61193.03], profit_pct_history=[0.26761679302963454, -0.006612665717151184, -0.006901120271923661, 0.14091275040794118, -0.03401800310004894, -0.08269859032091229, 0.2600296129809779, -0.008153477902694106, 0.06959986950885058, 0.0202584936241704, -0.03645103422705045, 0.006865763020653435, -0.03271905806144916, 0.013259716238795472, -0.02480884846412704, -0.031065097313398363, 0.15629758967546023, -0.020907235157047375, -0.004013275210717476, -0.02250071233360493, -0.004110644214703212, 0.007500926019117312, -0.012319477381949308, -0.0244097998999693, 0.020612844176645505, -0.023600656517063664, 0.05329619432608885, 0.2481340789529407, 0.02352888668317952, -0.04331413447480797, -0.001383053916042936, 0.14188501679828516, -0.013487027989785514, 0.007822719408877089, -0.0007795461927521291, -0.08877992904949492, -0.07499701936361665, 0.07812224341227944, 0.17530056640871625, 0.15855469343002584, -0.009561295317162958, 0.06639978125614965, 0.03222633470469602, 0.016200704331867783, -0.02685951037506599], profit_history=[267.61679302963455, -8.382326109752192, -8.690128506765785, 176.2176422328714, -48.535593480647194, -113.97737936165757, 328.74218021077706, -12.988418450662333, 109.96798658526284, 34.23626178848017, -62.84912902536188, 11.406489557764095, -54.73127482228198, 21.45465981934553, -40.67380348264353, -49.66731125293404, 242.12788725053923, -37.45059795460593, -7.038578134448116, -39.30391489150303, -7.018848723608132, 12.75504413295595, -21.10594597139691, -41.30410786966283, 34.02783954758545, -39.76322217957463, 87.67608786151148, 429.95390144288126, 50.885974834257254, -95.8796555839033, -2.9289050512401538, 300.05554012646803, -32.56894922596321, 18.63580002687963, -1.8716140119992224, -212.98574731076172, -163.9468319742573, 157.97081693123826, 382.1672642469643, 406.25452543974546, -28.382613472330263, 195.22251467112196, 101.04020407291841, 52.43148185366317, -88.3356114087067])\n"
     ]
    }
   ],
   "source": [
    "from src.mtal.backtesting.ma_cross_backtest import MACrossBacktester \n",
    "\n",
    "short_ema = 6\n",
    "long_ema = 15 \n",
    "\n",
    "df = get_pair_df(pair=\"BTCUSDT\", limit=500, frequency=\"1d\")\n",
    "\n",
    "tester = MACrossBacktester(short_ma=short_ema, long_ma=long_ema, data=df, ma_type=\"hma\"\n",
    ")\n",
    "results = tester.run()\n",
    "\n",
    "entry_dates = [int(entry_date.timestamp() * 1000) for entry_date in results.entry_dates]\n",
    "exit_dates = [int(exit_date.timestamp() * 1000) for exit_date in results.exit_dates]\n",
    "\n",
    "print(results)"
   ]
  },
  {
   "cell_type": "code",
   "execution_count": 5,
   "metadata": {},
   "outputs": [
    {
     "name": "stdout",
     "output_type": "stream",
     "text": [
      "Meilleure combinaison: Short EMA = 6, Long EMA = 15\n",
      "Résultat du test: BacktestResults(pnl=2716.3159239382962, pnl_percentage=2.7163159239382964, max_drawdown=-0.04331413447480797, win_rate=0.5121951219512195, average_return=0.035472466141545, trade_number=41, entry_dates=[Timestamp('2023-01-01 23:59:59.999000'), Timestamp('2023-01-21 23:59:59.999000'), Timestamp('2023-02-13 23:59:59.999000'), Timestamp('2023-03-07 23:59:59.999000'), Timestamp('2023-03-12 23:59:59.999000'), Timestamp('2023-03-30 23:59:59.999000'), Timestamp('2023-04-09 23:59:59.999000'), Timestamp('2023-04-24 23:59:59.999000'), Timestamp('2023-05-05 23:59:59.999000'), Timestamp('2023-05-14 23:59:59.999000'), Timestamp('2023-05-23 23:59:59.999000'), Timestamp('2023-05-27 23:59:59.999000'), Timestamp('2023-06-08 23:59:59.999000'), Timestamp('2023-06-13 23:59:59.999000'), Timestamp('2023-06-16 23:59:59.999000'), Timestamp('2023-07-03 23:59:59.999000'), Timestamp('2023-07-10 23:59:59.999000'), Timestamp('2023-07-21 23:59:59.999000'), Timestamp('2023-07-28 23:59:59.999000'), Timestamp('2023-08-07 23:59:59.999000'), Timestamp('2023-08-21 23:59:59.999000'), Timestamp('2023-09-13 23:59:59.999000'), Timestamp('2023-09-19 23:59:59.999000'), Timestamp('2023-09-27 23:59:59.999000'), Timestamp('2023-10-15 23:59:59.999000'), Timestamp('2023-11-08 23:59:59.999000'), Timestamp('2023-11-19 23:59:59.999000'), Timestamp('2023-11-23 23:59:59.999000'), Timestamp('2023-12-01 23:59:59.999000'), Timestamp('2023-12-18 23:59:59.999000'), Timestamp('2024-01-01 23:59:59.999000'), Timestamp('2024-01-08 23:59:59.999000'), Timestamp('2024-01-17 23:59:59.999000'), Timestamp('2024-01-25 23:59:59.999000'), Timestamp('2024-02-07 23:59:59.999000'), Timestamp('2024-02-26 23:59:59.999000'), Timestamp('2024-03-11 23:59:59.999000'), Timestamp('2024-03-21 23:59:59.999000'), Timestamp('2024-04-05 23:59:59.999000'), Timestamp('2024-04-18 23:59:59.999000'), Timestamp('2024-05-03 23:59:59.999000')], exit_dates=[Timestamp('2023-01-17 23:59:59.999000'), Timestamp('2023-01-22 23:59:59.999000'), Timestamp('2023-02-19 23:59:59.999000'), Timestamp('2023-03-08 23:59:59.999000'), Timestamp('2023-03-20 23:59:59.999000'), Timestamp('2023-04-02 23:59:59.999000'), Timestamp('2023-04-15 23:59:59.999000'), Timestamp('2023-04-30 23:59:59.999000'), Timestamp('2023-05-06 23:59:59.999000'), Timestamp('2023-05-21 23:59:59.999000'), Timestamp('2023-05-24 23:59:59.999000'), Timestamp('2023-05-31 23:59:59.999000'), Timestamp('2023-06-10 23:59:59.999000'), Timestamp('2023-06-14 23:59:59.999000'), Timestamp('2023-06-24 23:59:59.999000'), Timestamp('2023-07-04 23:59:59.999000'), Timestamp('2023-07-14 23:59:59.999000'), Timestamp('2023-07-24 23:59:59.999000'), Timestamp('2023-08-02 23:59:59.999000'), Timestamp('2023-08-11 23:59:59.999000'), Timestamp('2023-08-31 23:59:59.999000'), Timestamp('2023-09-17 23:59:59.999000'), Timestamp('2023-09-20 23:59:59.999000'), Timestamp('2023-10-03 23:59:59.999000'), Timestamp('2023-10-26 23:59:59.999000'), Timestamp('2023-11-12 23:59:59.999000'), Timestamp('2023-11-21 23:59:59.999000'), Timestamp('2023-11-26 23:59:59.999000'), Timestamp('2023-12-07 23:59:59.999000'), Timestamp('2023-12-23 23:59:59.999000'), Timestamp('2024-01-03 23:59:59.999000'), Timestamp('2024-01-11 23:59:59.999000'), Timestamp('2024-01-18 23:59:59.999000'), Timestamp('2024-01-31 23:59:59.999000'), Timestamp('2024-02-13 23:59:59.999000'), Timestamp('2024-03-02 23:59:59.999000'), Timestamp('2024-03-14 23:59:59.999000'), Timestamp('2024-03-22 23:59:59.999000'), Timestamp('2024-04-09 23:59:59.999000'), Timestamp('2024-04-24 23:59:59.999000'), Timestamp('2024-05-07 23:59:59.999000')], entry_prices=[16616.75, 22783.55, 21773.97, 22197.96, 21997.11, 28028.53, 28323.76, 27510.93, 29505.61, 26917.62, 27219.61, 26854.27, 26498.61, 25934.25, 26345.0, 31156.2, 30411.57, 29901.72, 29314.14, 29211.06, 26126.92, 26222.0, 27210.26, 26372.99, 27154.15, 35624.72, 37359.86, 37294.28, 38682.52, 42657.8, 44179.55, 46951.04, 42776.1, 39961.09, 44349.6, 54476.47, 72078.1, 65501.27, 67820.62, 63470.08, 62882.01], exit_prices=[21134.81, 22707.88, 24271.76, 21705.44, 27717.01, 28171.87, 30295.09, 29233.21, 28848.2, 26747.78, 26329.01, 27210.35, 25841.21, 25128.6, 30527.43, 30766.51, 30312.01, 29176.5, 29186.01, 29426.03, 25940.78, 26527.51, 27125.0, 27426.46, 34151.66, 37064.13, 35741.65, 37447.43, 43273.14, 43702.16, 42845.23, 46339.16, 41327.5, 42580.0, 49699.59, 61987.28, 71388.94, 63796.64, 69146.0, 64289.59, 62312.08], profit_pct_history=[0.2718979343132683, -0.003321255906125176, 0.11471449625401325, -0.022187624448372755, 0.2600296129809779, 0.005114074837317553, 0.06959986950885058, 0.06260348159804117, -0.02228084760830228, -0.006309621727329539, -0.03271905806144916, 0.013259716238795472, -0.02480884846412704, -0.031065097313398363, 0.15875612070601633, -0.012507622880839201, -0.0032737540350597258, -0.024253454316340368, -0.004370928159584454, 0.00735919887878076, -0.007124452480430124, 0.011650903821218762, -0.0031333768953328046, 0.03994503467373239, 0.25769578499050794, 0.04040480879569008, -0.04331413447480797, 0.004106527864326686, 0.11867427458190426, 0.024482275222819753, -0.03020220894056186, -0.01303229917803732, -0.03386470482348785, 0.06553650063098888, 0.12063220412359972, 0.1378725530490503, -0.009561295317162958, -0.026024380901316837, 0.01954243414465991, 0.012911753065381275, -0.009063482544530627], profit_history=[271.8979343132683, -4.224298526326353, 145.4205425437925, -31.353202938984207, 359.29357107107563, 8.903780964966113, 121.79547923751053, 117.17705292200282, -44.31461976896224, -12.26966668564114, -63.223905340009956, 24.783770996106696, -46.98514166817652, -57.37416852329379, 284.09838483428825, -25.936125918089225, -6.703631394921389, -49.50095479632402, -8.704636997484014, 14.591673562167783, -14.230180744775067, 23.105392711216055, -6.286328152340265, 79.88850037445194, 535.968377944648, 105.69160997321573, -117.87981589608175, 10.691876655240572, 310.2526803305999, 71.60022437990685, -90.4910784696506, -37.86773143658398, -97.11772084284439, 181.58182794107645, 356.13997997523677, 456.14023649127853, -35.99406692677842, -97.03361196755243, 70.96897515409006, 47.80577844757445, -33.99083989059833])\n"
     ]
    }
   ],
   "source": [
    "from itertools import combinations\n",
    "from src.mtal.backtesting.ma_cross_backtest import MACrossPriceAboveBacktester \n",
    "\n",
    "ema_values = range(2, 60)  \n",
    "combinations = [(short_ema, long_ema) for short_ema, long_ema in combinations(ema_values, 2)]\n",
    "\n",
    "results = {}\n",
    "\n",
    "for short_ema, long_ema in combinations:\n",
    "    tester = MACrossPriceAboveBacktester(short_ma=short_ema, long_ma=long_ema, data=df, ma_type=\"hma\")\n",
    "    test_results = tester.run()\n",
    "    results[(short_ema, long_ema)] = test_results\n",
    "\n",
    "best_combination = max(results, key=lambda x: results[x].pnl)\n",
    "best_result = results[best_combination]\n",
    "\n",
    "print(f\"Meilleure combinaison: Short EMA = {best_combination[0]}, Long EMA = {best_combination[1]}\")\n",
    "print(f\"Résultat du test: {best_result}\")"
   ]
  },
  {
   "cell_type": "markdown",
   "metadata": {},
   "source": [
    "# VZO-RSI"
   ]
  },
  {
   "cell_type": "code",
   "execution_count": 15,
   "metadata": {},
   "outputs": [
    {
     "name": "stdout",
     "output_type": "stream",
     "text": [
      "BacktestResults(pnl=1588.6837760966764, pnl_percentage=1.5886837760966763, max_drawdown=-0.09246567973708945, win_rate=0.625, average_return=0.14728744338945263, trade_number=8, entry_dates=[Timestamp('2023-01-11 23:59:59.999000'), Timestamp('2023-02-18 23:59:59.999000'), Timestamp('2023-03-13 23:59:59.999000'), Timestamp('2023-04-27 23:59:59.999000'), Timestamp('2023-05-28 23:59:59.999000'), Timestamp('2023-06-20 23:59:59.999000'), Timestamp('2023-09-19 23:59:59.999000'), Timestamp('2024-01-29 23:59:59.999000')], exit_dates=[Timestamp('2023-02-10 23:59:59.999000'), Timestamp('2023-03-03 23:59:59.999000'), Timestamp('2023-04-21 23:59:59.999000'), Timestamp('2023-05-08 23:59:59.999000'), Timestamp('2023-06-01 23:59:59.999000'), Timestamp('2023-07-24 23:59:59.999000'), Timestamp('2024-01-14 23:59:59.999000'), Timestamp('2024-04-13 23:59:59.999000')], entry_prices=[17943.26, 24631.95, 24113.48, 29472.77, 28065.0, 28307.99, 27210.26, 43302.7], exit_prices=[21625.19, 22354.34, 27262.84, 27668.79, 26817.93, 29176.5, 41732.35, 63924.51], profit_pct_history=[0.205198497931814, -0.09246567973708945, 0.13060578564354877, -0.061208362837968724, -0.0444350614644575, 0.030680737134639313, 0.5336990532247763, 0.4762245772203582], profit_history=[205.198497931814, -111.43949832938438, 142.85125344777728, -75.69088905784939, -51.58552329427932, 34.03517996101758, 610.2149638122992, 835.0997916252813])\n"
     ]
    }
   ],
   "source": [
    "from src.mtal.backtesting.vzo_rsi import VZO_RSI_let_grey\n",
    "from src.mtal.data_collect import get_pair_df\n",
    "from src.mtal.data_collect import get_spot_pairs\n",
    "from src.mtal.utils import generate_pinescript\n",
    "\n",
    "cryptos = get_spot_pairs()\n",
    "df = get_pair_df(pair=\"BTCUSDT\", limit=500, frequency=\"1d\")\n",
    "\n",
    "tester = VZO_RSI_let_grey(data=df, grey_zone=5, span=14)\n",
    "results = tester.run()\n",
    "\n",
    "entry_dates = [int(entry_date.timestamp() * 1000) for entry_date in results.entry_dates]\n",
    "exit_dates = [int(exit_date.timestamp() * 1000) for exit_date in results.exit_dates]\n",
    "\n",
    "# print(generate_pinescript(entry_dates=entry_dates, exit_dates=exit_dates))\n",
    "print(results)"
   ]
  },
  {
   "cell_type": "code",
   "execution_count": 5,
   "metadata": {},
   "outputs": [
    {
     "name": "stdout",
     "output_type": "stream",
     "text": [
      "BacktestResults(pnl=1899.7489908558132, pnl_percentage=1.8997489908558132, max_drawdown=-0.037859259866757256, win_rate=0.23529411764705882, average_return=0.03968659462380547, trade_number=34, entry_dates=[Timestamp('2023-01-11 23:59:59.999000'), Timestamp('2023-02-15 23:59:59.999000'), Timestamp('2023-02-17 23:59:59.999000'), Timestamp('2023-03-13 23:59:59.999000'), Timestamp('2023-04-26 23:59:59.999000'), Timestamp('2023-05-02 23:59:59.999000'), Timestamp('2023-05-28 23:59:59.999000'), Timestamp('2023-06-06 23:59:59.999000'), Timestamp('2023-06-16 23:59:59.999000'), Timestamp('2023-07-07 23:59:59.999000'), Timestamp('2023-07-10 23:59:59.999000'), Timestamp('2023-08-01 23:59:59.999000'), Timestamp('2023-08-08 23:59:59.999000'), Timestamp('2023-08-14 23:59:59.999000'), Timestamp('2023-08-29 23:59:59.999000'), Timestamp('2023-09-14 23:59:59.999000'), Timestamp('2023-09-28 23:59:59.999000'), Timestamp('2023-10-04 23:59:59.999000'), Timestamp('2023-10-06 23:59:59.999000'), Timestamp('2023-10-16 23:59:59.999000'), Timestamp('2023-10-19 23:59:59.999000'), Timestamp('2023-12-30 23:59:59.999000'), Timestamp('2024-01-08 23:59:59.999000'), Timestamp('2024-01-10 23:59:59.999000'), Timestamp('2024-01-16 23:59:59.999000'), Timestamp('2024-01-26 23:59:59.999000'), Timestamp('2024-02-01 23:59:59.999000'), Timestamp('2024-03-17 23:59:59.999000'), Timestamp('2024-03-25 23:59:59.999000'), Timestamp('2024-03-31 23:59:59.999000'), Timestamp('2024-04-04 23:59:59.999000'), Timestamp('2024-04-07 23:59:59.999000'), Timestamp('2024-04-22 23:59:59.999000'), Timestamp('2024-05-04 23:59:59.999000')], exit_dates=[Timestamp('2023-02-03 23:59:59.999000'), Timestamp('2023-02-16 23:59:59.999000'), Timestamp('2023-02-21 23:59:59.999000'), Timestamp('2023-04-20 23:59:59.999000'), Timestamp('2023-05-01 23:59:59.999000'), Timestamp('2023-05-08 23:59:59.999000'), Timestamp('2023-05-31 23:59:59.999000'), Timestamp('2023-06-07 23:59:59.999000'), Timestamp('2023-07-06 23:59:59.999000'), Timestamp('2023-07-09 23:59:59.999000'), Timestamp('2023-07-16 23:59:59.999000'), Timestamp('2023-08-02 23:59:59.999000'), Timestamp('2023-08-11 23:59:59.999000'), Timestamp('2023-08-15 23:59:59.999000'), Timestamp('2023-08-30 23:59:59.999000'), Timestamp('2023-09-24 23:59:59.999000'), Timestamp('2023-10-03 23:59:59.999000'), Timestamp('2023-10-05 23:59:59.999000'), Timestamp('2023-10-09 23:59:59.999000'), Timestamp('2023-10-18 23:59:59.999000'), Timestamp('2023-12-29 23:59:59.999000'), Timestamp('2024-01-06 23:59:59.999000'), Timestamp('2024-01-09 23:59:59.999000'), Timestamp('2024-01-11 23:59:59.999000'), Timestamp('2024-01-17 23:59:59.999000'), Timestamp('2024-01-31 23:59:59.999000'), Timestamp('2024-03-15 23:59:59.999000'), Timestamp('2024-03-18 23:59:59.999000'), Timestamp('2024-03-30 23:59:59.999000'), Timestamp('2024-04-01 23:59:59.999000'), Timestamp('2024-04-05 23:59:59.999000'), Timestamp('2024-04-12 23:59:59.999000'), Timestamp('2024-04-24 23:59:59.999000'), Timestamp('2024-05-06 23:59:59.999000')], entry_prices=[17943.26, 24324.05, 24569.97, 24113.48, 28415.29, 28669.86, 28065.0, 27230.08, 26345.0, 30344.7, 30411.57, 29705.99, 29770.42, 29430.93, 27716.34, 26522.73, 27021.39, 27778.57, 27931.09, 28500.78, 28713.71, 42140.28, 46951.04, 46653.99, 43137.95, 41823.51, 43082.94, 68393.48, 69880.01, 71280.01, 68487.79, 69360.39, 66819.32, 63892.04], exit_prices=[23431.9, 23517.72, 24452.16, 28243.65, 28068.26, 27668.79, 27210.35, 26339.34, 29895.43, 30160.71, 30231.99, 29186.01, 29426.03, 29200.0, 27299.99, 26248.38, 27426.46, 27410.39, 27590.12, 28320.0, 42066.95, 43968.32, 46110.0, 46339.16, 42776.1, 42580.0, 69499.85, 67609.99, 69582.18, 69649.8, 67820.62, 67116.52, 64289.59, 63165.19], profit_pct_history=[0.3058886735186362, -0.033149496074872324, -0.004794877649423312, 0.17128054515565574, -0.012212791071286004, -0.034917156902754314, -0.030452520933547174, -0.03271161891555227, 0.13476674890871135, -0.0060633323117381815, -0.005904989449738968, -0.017504213796611497, -0.011568194200820796, -0.007846507059070178, -0.015021824670934132, -0.0103439578052485, 0.014990716613764122, -0.01325410199301117, -0.012207543636857752, -0.006342984297271824, 0.46504753304257784, 0.04337987312851269, -0.01791312822889548, -0.006748190240534507, -0.008388205744593764, 0.01808767365531965, 0.6131640505499393, -0.01145562413259262, -0.0042620199968489095, -0.0228705074536324, -0.009741444423889255, -0.032350884993582005, -0.037859259866757256, -0.011376221513665841], profit_history=[305.8886735186362, -43.289551457026256, -6.0540083105547104, 215.22173209595618, -17.974380993975146, -50.7622995993154, -42.725805477787084, -44.49775782615465, 177.32697793739055, -9.05336508067118, -8.763478010998714, -25.82425957858764, -16.768010469074053, -11.24188264203947, -21.353262151223692, -14.482878628189317, 20.771833158776015, -18.64081128136932, -16.941353964723138, -8.69519192772259, 633.460274182091, 86.56892658885386, -37.29818035540879, -13.799184866807819, -17.037056150005167, 36.429220448431444, 1257.2713753417806, -37.892183719529925, -13.936140986726208, -74.46426749151541, -30.99185701371238, -101.91990532475612, -115.4151629272083, -33.36778618102064])\n"
     ]
    }
   ],
   "source": [
    "from src.mtal.backtesting.vzo_rsi import VZO_RSI\n",
    "from src.mtal.data_collect import get_pair_df\n",
    "from src.mtal.data_collect import get_spot_pairs\n",
    "from src.mtal.utils import generate_pinescript\n",
    "\n",
    "cryptos = get_spot_pairs()\n",
    "df = get_pair_df(pair=\"BTCUSDT\", limit=500, frequency=\"1d\")\n",
    "\n",
    "tester = VZO_RSI(data=df, grey_zone=-2, span=14)\n",
    "results = tester.run()\n",
    "\n",
    "entry_dates = [int(entry_date.timestamp() * 1000) for entry_date in results.entry_dates]\n",
    "exit_dates = [int(exit_date.timestamp() * 1000) for exit_date in results.exit_dates]\n",
    "\n",
    "# print(generate_pinescript(entry_dates=entry_dates, exit_dates=exit_dates))\n",
    "print(results)"
   ]
  },
  {
   "cell_type": "code",
   "execution_count": 17,
   "metadata": {},
   "outputs": [
    {
     "ename": "ValueError",
     "evalue": "min() arg is an empty sequence",
     "output_type": "error",
     "traceback": [
      "\u001b[0;31m---------------------------------------------------------------------------\u001b[0m",
      "\u001b[0;31mValueError\u001b[0m                                Traceback (most recent call last)",
      "Cell \u001b[0;32mIn[17], line 12\u001b[0m\n\u001b[1;32m     10\u001b[0m \u001b[38;5;28;01mfor\u001b[39;00m span, grey \u001b[38;5;129;01min\u001b[39;00m combinations:\n\u001b[1;32m     11\u001b[0m     tester \u001b[38;5;241m=\u001b[39m VZO_RSI(data\u001b[38;5;241m=\u001b[39mdf, grey_zone\u001b[38;5;241m=\u001b[39mgrey, span\u001b[38;5;241m=\u001b[39mspan)\n\u001b[0;32m---> 12\u001b[0m     test_results \u001b[38;5;241m=\u001b[39m \u001b[43mtester\u001b[49m\u001b[38;5;241;43m.\u001b[39;49m\u001b[43mrun\u001b[49m\u001b[43m(\u001b[49m\u001b[43m)\u001b[49m\n\u001b[1;32m     13\u001b[0m     results[(span, grey)] \u001b[38;5;241m=\u001b[39m test_results\n\u001b[1;32m     15\u001b[0m best_combination \u001b[38;5;241m=\u001b[39m \u001b[38;5;28mmax\u001b[39m(results, key\u001b[38;5;241m=\u001b[39m\u001b[38;5;28;01mlambda\u001b[39;00m x: results[x]\u001b[38;5;241m.\u001b[39mpnl)\n",
      "File \u001b[0;32m~/mtal/src/mtal/backtesting/common.py:54\u001b[0m, in \u001b[0;36mAbstractBacktest.run\u001b[0;34m(self)\u001b[0m\n\u001b[1;32m     47\u001b[0m     \u001b[38;5;28mself\u001b[39m\u001b[38;5;241m.\u001b[39m_exiting_update(current_df)\n\u001b[1;32m     49\u001b[0m pnl_percentage \u001b[38;5;241m=\u001b[39m (\u001b[38;5;28mself\u001b[39m\u001b[38;5;241m.\u001b[39mcash \u001b[38;5;241m-\u001b[39m \u001b[38;5;28mself\u001b[39m\u001b[38;5;241m.\u001b[39mcash_history[\u001b[38;5;241m0\u001b[39m]) \u001b[38;5;241m/\u001b[39m \u001b[38;5;28mself\u001b[39m\u001b[38;5;241m.\u001b[39mcash_history[\u001b[38;5;241m0\u001b[39m]\n\u001b[1;32m     51\u001b[0m results \u001b[38;5;241m=\u001b[39m BacktestResults(\n\u001b[1;32m     52\u001b[0m     pnl\u001b[38;5;241m=\u001b[39m\u001b[38;5;28mself\u001b[39m\u001b[38;5;241m.\u001b[39mcash \u001b[38;5;241m-\u001b[39m \u001b[38;5;28mself\u001b[39m\u001b[38;5;241m.\u001b[39mcash_history[\u001b[38;5;241m0\u001b[39m],\n\u001b[1;32m     53\u001b[0m     pnl_percentage\u001b[38;5;241m=\u001b[39mpnl_percentage,\n\u001b[0;32m---> 54\u001b[0m     max_drawdown\u001b[38;5;241m=\u001b[39m\u001b[38;5;28;43mmin\u001b[39;49m\u001b[43m(\u001b[49m\u001b[38;5;28;43mself\u001b[39;49m\u001b[38;5;241;43m.\u001b[39;49m\u001b[43mprofit_pct_history\u001b[49m\u001b[43m)\u001b[49m,\n\u001b[1;32m     55\u001b[0m     win_rate\u001b[38;5;241m=\u001b[39m\u001b[38;5;28mself\u001b[39m\u001b[38;5;241m.\u001b[39mwins \u001b[38;5;241m/\u001b[39m (\u001b[38;5;28mself\u001b[39m\u001b[38;5;241m.\u001b[39mwins \u001b[38;5;241m+\u001b[39m \u001b[38;5;28mself\u001b[39m\u001b[38;5;241m.\u001b[39mlosses),\n\u001b[1;32m     56\u001b[0m     average_return\u001b[38;5;241m=\u001b[39m\u001b[38;5;28msum\u001b[39m(\u001b[38;5;28mself\u001b[39m\u001b[38;5;241m.\u001b[39mprofit_pct_history) \u001b[38;5;241m/\u001b[39m \u001b[38;5;28mlen\u001b[39m(\u001b[38;5;28mself\u001b[39m\u001b[38;5;241m.\u001b[39mprofit_pct_history),\n\u001b[1;32m     57\u001b[0m     trade_number\u001b[38;5;241m=\u001b[39m\u001b[38;5;28mlen\u001b[39m(\u001b[38;5;28mself\u001b[39m\u001b[38;5;241m.\u001b[39mprofit_pct_history),\n\u001b[1;32m     58\u001b[0m     entry_dates\u001b[38;5;241m=\u001b[39m\u001b[38;5;28mself\u001b[39m\u001b[38;5;241m.\u001b[39mentry_dates,\n\u001b[1;32m     59\u001b[0m     exit_dates\u001b[38;5;241m=\u001b[39m\u001b[38;5;28mself\u001b[39m\u001b[38;5;241m.\u001b[39mexit_dates,\n\u001b[1;32m     60\u001b[0m     entry_prices\u001b[38;5;241m=\u001b[39m\u001b[38;5;28mself\u001b[39m\u001b[38;5;241m.\u001b[39mentry_prices,\n\u001b[1;32m     61\u001b[0m     exit_prices\u001b[38;5;241m=\u001b[39m\u001b[38;5;28mself\u001b[39m\u001b[38;5;241m.\u001b[39mexit_prices,\n\u001b[1;32m     62\u001b[0m     profit_pct_history\u001b[38;5;241m=\u001b[39m\u001b[38;5;28mself\u001b[39m\u001b[38;5;241m.\u001b[39mprofit_pct_history,\n\u001b[1;32m     63\u001b[0m     profit_history\u001b[38;5;241m=\u001b[39m\u001b[38;5;28mself\u001b[39m\u001b[38;5;241m.\u001b[39mprofit_history,\n\u001b[1;32m     64\u001b[0m )\n\u001b[1;32m     65\u001b[0m \u001b[38;5;28;01mreturn\u001b[39;00m results\n",
      "\u001b[0;31mValueError\u001b[0m: min() arg is an empty sequence"
     ]
    }
   ],
   "source": [
    "from itertools import product\n",
    "from src.mtal.backtesting.ma_cross_backtest import MACrossPriceAboveBacktester \n",
    "\n",
    "span_values = range(1, 40)  \n",
    "grey_zone_values = range(-30, 30)\n",
    "combinations = [(span, grey) for span, grey in product(span_values, grey_zone_values)]\n",
    "\n",
    "results = {}\n",
    "\n",
    "for span, grey in combinations:\n",
    "    tester = VZO_RSI(data=df, grey_zone=grey, span=span)\n",
    "    test_results = tester.run()\n",
    "    results[(span, grey)] = test_results\n",
    "\n",
    "best_combination = max(results, key=lambda x: results[x].pnl)\n",
    "best_result = results[best_combination]\n",
    "\n",
    "print(f\"Meilleure combinaison: span = {best_combination[0]}, grey = {best_combination[1]}\")\n",
    "print(f\"Résultat du test: {best_result}\")"
   ]
  },
  {
   "cell_type": "code",
   "execution_count": null,
   "metadata": {},
   "outputs": [
    {
     "name": "stdout",
     "output_type": "stream",
     "text": [
      "Meilleure combinaison: span = 20, grey = -20\n",
      "Résultat du test: BacktestResults(pnl=2454.2186073553016, pnl_percentage=2.4542186073553016, max_drawdown=-0.035984149733906935, win_rate=0.5, average_return=0.2998845894125007, trade_number=6, entry_dates=[Timestamp('2023-01-10 23:59:59.999000'), Timestamp('2023-03-05 23:59:59.999000'), Timestamp('2023-03-12 23:59:59.999000'), Timestamp('2023-08-23 23:59:59.999000'), Timestamp('2023-08-27 23:59:59.999000'), Timestamp('2023-09-12 23:59:59.999000')], exit_dates=[Timestamp('2023-03-04 23:59:59.999000'), Timestamp('2023-03-07 23:59:59.999000'), Timestamp('2023-08-17 23:59:59.999000'), Timestamp('2023-08-25 23:59:59.999000'), Timestamp('2023-09-11 23:59:59.999000'), Timestamp('2024-05-08 23:59:59.999000')], entry_prices=[17440.66, 22430.24, 21997.11, 26432.72, 26101.77, 25840.1], exit_prices=[22346.57, 22197.96, 26623.41, 26060.01, 25162.52, 61193.03], profit_pct_history=[0.2812915336919589, -0.010355662712481117, 0.21031399124703196, -0.014100327170264836, -0.035984149733906935, 1.368142151152666], profit_history=[281.29153369195893, -13.268622959271564, 266.68295934887044, -21.63985487827593, -54.44639404836081, 1995.5989862003803])\n"
     ]
    }
   ],
   "source": [
    "from itertools import product\n",
    "from src.mtal.backtesting.ma_cross_backtest import MACrossPriceAboveBacktester \n",
    "\n",
    "span_values = range(1, 40)  \n",
    "grey_zone_values = range(-30, 30)\n",
    "combinations = [(span, grey) for span, grey in product(span_values, grey_zone_values)]\n",
    "\n",
    "results = {}\n",
    "\n",
    "for span, grey in combinations:\n",
    "    tester = VZO_RSI_let_grey(data=df, grey_zone=grey, span=span)\n",
    "    test_results = tester.run()\n",
    "    results[(span, grey)] = test_results\n",
    "\n",
    "best_combination = max(results, key=lambda x: results[x].pnl)\n",
    "best_result = results[best_combination]\n",
    "\n",
    "print(f\"Meilleure combinaison: span = {best_combination[0]}, grey = {best_combination[1]}\")\n",
    "print(f\"Résultat du test: {best_result}\")"
   ]
  }
 ],
 "metadata": {
  "kernelspec": {
   "display_name": ".venv",
   "language": "python",
   "name": "python3"
  },
  "language_info": {
   "codemirror_mode": {
    "name": "ipython",
    "version": 3
   },
   "file_extension": ".py",
   "mimetype": "text/x-python",
   "name": "python",
   "nbconvert_exporter": "python",
   "pygments_lexer": "ipython3",
   "version": "3.10.12"
  }
 },
 "nbformat": 4,
 "nbformat_minor": 2
}
