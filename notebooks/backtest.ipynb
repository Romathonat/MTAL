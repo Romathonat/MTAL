{
 "cells": [
  {
   "cell_type": "markdown",
   "metadata": {},
   "source": [
    "# Data"
   ]
  },
  {
   "cell_type": "code",
   "execution_count": 1,
   "metadata": {},
   "outputs": [],
   "source": [
    "from src.mtal.data_collect import get_spot_pairs\n",
    "\n",
    "cryptos = get_spot_pairs()"
   ]
  },
  {
   "cell_type": "code",
   "execution_count": 7,
   "metadata": {},
   "outputs": [
    {
     "data": {
      "text/html": [
       "<div>\n",
       "<style scoped>\n",
       "    .dataframe tbody tr th:only-of-type {\n",
       "        vertical-align: middle;\n",
       "    }\n",
       "\n",
       "    .dataframe tbody tr th {\n",
       "        vertical-align: top;\n",
       "    }\n",
       "\n",
       "    .dataframe thead th {\n",
       "        text-align: right;\n",
       "    }\n",
       "</style>\n",
       "<table border=\"1\" class=\"dataframe\">\n",
       "  <thead>\n",
       "    <tr style=\"text-align: right;\">\n",
       "      <th></th>\n",
       "      <th>Open Time</th>\n",
       "      <th>Open</th>\n",
       "      <th>High</th>\n",
       "      <th>Low</th>\n",
       "      <th>Close</th>\n",
       "      <th>Volume</th>\n",
       "      <th>Close Time</th>\n",
       "    </tr>\n",
       "  </thead>\n",
       "  <tbody>\n",
       "    <tr>\n",
       "      <th>0</th>\n",
       "      <td>2024-03-01</td>\n",
       "      <td>61130.99</td>\n",
       "      <td>63114.23</td>\n",
       "      <td>60777.00</td>\n",
       "      <td>62387.90</td>\n",
       "      <td>47737.93473</td>\n",
       "      <td>2024-03-01 23:59:59.999</td>\n",
       "    </tr>\n",
       "    <tr>\n",
       "      <th>1</th>\n",
       "      <td>2024-03-02</td>\n",
       "      <td>62387.90</td>\n",
       "      <td>62433.19</td>\n",
       "      <td>61561.12</td>\n",
       "      <td>61987.28</td>\n",
       "      <td>25534.73659</td>\n",
       "      <td>2024-03-02 23:59:59.999</td>\n",
       "    </tr>\n",
       "    <tr>\n",
       "      <th>2</th>\n",
       "      <td>2024-03-03</td>\n",
       "      <td>61987.28</td>\n",
       "      <td>63231.88</td>\n",
       "      <td>61320.00</td>\n",
       "      <td>63113.97</td>\n",
       "      <td>28994.90903</td>\n",
       "      <td>2024-03-03 23:59:59.999</td>\n",
       "    </tr>\n",
       "    <tr>\n",
       "      <th>3</th>\n",
       "      <td>2024-03-04</td>\n",
       "      <td>63113.97</td>\n",
       "      <td>68499.00</td>\n",
       "      <td>62300.00</td>\n",
       "      <td>68245.71</td>\n",
       "      <td>84835.16005</td>\n",
       "      <td>2024-03-04 23:59:59.999</td>\n",
       "    </tr>\n",
       "    <tr>\n",
       "      <th>4</th>\n",
       "      <td>2024-03-05</td>\n",
       "      <td>68245.71</td>\n",
       "      <td>69000.00</td>\n",
       "      <td>59005.00</td>\n",
       "      <td>63724.01</td>\n",
       "      <td>132696.78130</td>\n",
       "      <td>2024-03-05 23:59:59.999</td>\n",
       "    </tr>\n",
       "  </tbody>\n",
       "</table>\n",
       "</div>"
      ],
      "text/plain": [
       "   Open Time      Open      High       Low     Close        Volume  \\\n",
       "0 2024-03-01  61130.99  63114.23  60777.00  62387.90   47737.93473   \n",
       "1 2024-03-02  62387.90  62433.19  61561.12  61987.28   25534.73659   \n",
       "2 2024-03-03  61987.28  63231.88  61320.00  63113.97   28994.90903   \n",
       "3 2024-03-04  63113.97  68499.00  62300.00  68245.71   84835.16005   \n",
       "4 2024-03-05  68245.71  69000.00  59005.00  63724.01  132696.78130   \n",
       "\n",
       "               Close Time  \n",
       "0 2024-03-01 23:59:59.999  \n",
       "1 2024-03-02 23:59:59.999  \n",
       "2 2024-03-03 23:59:59.999  \n",
       "3 2024-03-04 23:59:59.999  \n",
       "4 2024-03-05 23:59:59.999  "
      ]
     },
     "execution_count": 7,
     "metadata": {},
     "output_type": "execute_result"
    }
   ],
   "source": [
    "from src.mtal.data_collect import get_pair_df\n",
    "\n",
    "# df = get_pair_df(pair=\"BTCUSDT\")\n",
    "df = get_pair_df(pair=\"BTCUSDT\", limit=59, frequency=\"1d\")\n",
    "df.head()"
   ]
  },
  {
   "cell_type": "markdown",
   "metadata": {},
   "source": [
    "# EMA backtest"
   ]
  },
  {
   "cell_type": "code",
   "execution_count": 3,
   "metadata": {},
   "outputs": [
    {
     "name": "stdout",
     "output_type": "stream",
     "text": [
      "BacktestResults(pnl=1496.9455027530491, pnl_percentage=0.49694550275304916, max_drawdown=-0.22674807108058337, win_rate=0.4, average_return=0.06150325385921884, trade_number=10, entry_dates=[Timestamp('2021-11-15 00:00:00'), Timestamp('2022-03-23 00:00:00'), Timestamp('2022-08-11 00:00:00'), Timestamp('2022-10-29 00:00:00'), Timestamp('2023-01-12 00:00:00'), Timestamp('2023-03-15 00:00:00'), Timestamp('2023-06-22 00:00:00'), Timestamp('2023-08-09 00:00:00'), Timestamp('2023-10-02 00:00:00'), Timestamp('2024-01-31 00:00:00')], exit_dates=[Timestamp('2021-11-16 00:00:00'), Timestamp('2022-04-13 00:00:00'), Timestamp('2022-08-20 00:00:00'), Timestamp('2022-11-10 00:00:00'), Timestamp('2023-03-10 00:00:00'), Timestamp('2023-05-13 00:00:00'), Timestamp('2023-08-05 00:00:00'), Timestamp('2023-08-17 00:00:00'), Timestamp('2024-01-23 00:00:00'), Timestamp('2024-04-27 00:00:00')], entry_prices=[65519.11, 42364.13, 23954.05, 20591.84, 17943.26, 24670.41, 29993.89, 29770.41, 27992.58, 42941.1], exit_prices=[63606.73, 40074.95, 20834.39, 15922.68, 20362.21, 26795.01, 29114.0, 28730.51, 39568.02, 63770.0])\n",
      "\n",
      "//@version=5\n",
      "indicator(\"Manual Trades\", overlay=true)\n",
      "\n",
      "var int[] entryDates = array.new_int()\n",
      "var int[] exitDates = array.new_int()\n",
      "\n",
      "array.push(entryDates, 1636934400000)\n",
      "array.push(entryDates, 1647993600000)\n",
      "array.push(entryDates, 1660176000000)\n",
      "array.push(entryDates, 1667001600000)\n",
      "array.push(entryDates, 1673481600000)\n",
      "array.push(entryDates, 1678838400000)\n",
      "array.push(entryDates, 1687392000000)\n",
      "array.push(entryDates, 1691539200000)\n",
      "array.push(entryDates, 1696204800000)\n",
      "array.push(entryDates, 1706659200000)\n",
      "array.push(exitDates, 1637020800000)\n",
      "array.push(exitDates, 1649808000000)\n",
      "array.push(exitDates, 1660953600000)\n",
      "array.push(exitDates, 1668038400000)\n",
      "array.push(exitDates, 1678406400000)\n",
      "array.push(exitDates, 1683936000000)\n",
      "array.push(exitDates, 1691193600000)\n",
      "array.push(exitDates, 1692230400000)\n",
      "array.push(exitDates, 1705968000000)\n",
      "array.push(exitDates, 1714176000000)\n",
      "\n",
      "for i = 0 to array.size(exitDates) - 1\n",
      "    label.new(x=array.get(entryDates, i), xloc=xloc.bar_time, y=close, yloc=yloc.belowbar, color=color.green, textcolor=color.white, style=label.style_label_up)\n",
      "    label.new(x=array.get(exitDates, i), xloc=xloc.bar_time, y=close, yloc=yloc.abovebar, color=color.red, textcolor=color.white, style=label.style_label_down)\n",
      "    \n",
      "           \n"
     ]
    }
   ],
   "source": [
    "from src.mtal.utils import generate_pinescript\n",
    "from src.mtal.backtesting.ma_cross_backtest import MACrossBacktester \n",
    "\n",
    "short_ema = 9 \n",
    "long_ema = 50 \n",
    "tester = MACrossBacktester(\n",
    "    short_ma=short_ema, long_ma=long_ema, data=df\n",
    ")\n",
    "results = tester.run()\n",
    "\n",
    "entry_dates = [int(entry_date.timestamp() * 1000) for entry_date in results.entry_dates]\n",
    "exit_dates = [int(exit_date.timestamp() * 1000) for exit_date in results.exit_dates]\n",
    "\n",
    "print(results)\n",
    "print(generate_pinescript(entry_dates, exit_dates))\n"
   ]
  },
  {
   "cell_type": "code",
   "execution_count": 4,
   "metadata": {},
   "outputs": [
    {
     "name": "stdout",
     "output_type": "stream",
     "text": [
      "Meilleure combinaison: Short EMA = 55, Long EMA = 59\n",
      "Résultat du test: BacktestResults(pnl=2697.621393230537, pnl_percentage=1.6976213932305368, max_drawdown=0.25442455932371505, win_rate=1.0, average_return=0.7024548572963697, trade_number=2, entry_dates=[Timestamp('2023-01-19 23:59:59.999000'), Timestamp('2023-10-22 23:59:59.999000')], exit_dates=[Timestamp('2023-08-23 23:59:59.999000'), Timestamp('2024-04-25 23:59:59.999000')], entry_prices=[21071.59, 29992.46], exit_prices=[26432.72, 64498.34])\n"
     ]
    }
   ],
   "source": [
    "from itertools import combinations\n",
    "from src.mtal.backtesting.ma_cross_backtest import MACrossBacktester\n",
    "\n",
    "\n",
    "ema_values = range(1, 60)  \n",
    "\n",
    "combinations = [(short_ema, long_ema) for short_ema, long_ema in combinations(ema_values, 2)]\n",
    "\n",
    "results = {}\n",
    "\n",
    "for short_ema, long_ema in combinations:\n",
    "    tester = MACrossBacktester(short_ma=short_ema, long_ma=long_ema, data=df)\n",
    "    test_results = tester.run()\n",
    "    results[(short_ema, long_ema)] = test_results\n",
    "\n",
    "best_combination = max(results, key=lambda x: results[x].pnl)  # Ajuster le critère si nécessaire\n",
    "best_result = results[best_combination]\n",
    "\n",
    "print(f\"Meilleure combinaison: Short EMA = {best_combination[0]}, Long EMA = {best_combination[1]}\")\n",
    "print(f\"Résultat du test: {best_result}\")\n"
   ]
  },
  {
   "cell_type": "markdown",
   "metadata": {},
   "source": [
    "# VWMA Backtest"
   ]
  },
  {
   "cell_type": "code",
   "execution_count": 8,
   "metadata": {},
   "outputs": [
    {
     "name": "stdout",
     "output_type": "stream",
     "text": [
      "BacktestResults(pnl=652.9981784463162, pnl_percentage=0.0006529981784463161, max_drawdown=-0.08159385521885525, win_rate=0.6666666666666666, average_return=0.0010693331240334955, trade_number=6, entry_dates=[Timestamp('2024-03-08 00:00:00'), Timestamp('2024-03-22 00:00:00'), Timestamp('2024-03-25 00:00:00'), Timestamp('2024-04-01 00:00:00'), Timestamp('2024-04-05 00:00:00'), Timestamp('2024-04-20 00:00:00')], exit_dates=[Timestamp('2024-03-16 00:00:00'), Timestamp('2024-03-23 00:00:00'), Timestamp('2024-03-31 00:00:00'), Timestamp('2024-04-03 00:00:00'), Timestamp('2024-04-11 00:00:00'), Timestamp('2024-04-25 00:00:00')], entry_prices=[66823.18, 65501.28, 67210.0, 71280.0, 68487.8, 63818.01], exit_prices=[69499.84, 63796.64, 69582.17, 65463.99, 70631.08, 64289.58], profit_pct_history=[0.04005586085546967, -0.02602452959697886, 0.03529489659276891, -0.08159385521885525, 0.03129433271327154, 0.007389293398524957], profit_history=[40055.86085546967, -27066.964533344497, 35753.33834531251, -85570.92205735361, 30141.803516698445, 7339.882051663888])\n"
     ]
    }
   ],
   "source": [
    "from src.mtal.utils import generate_pinescript\n",
    "from src.mtal.backtesting.ma_cross_backtest import MACrossBacktester \n",
    "\n",
    "short_ema = 2\n",
    "long_ema = 4\n",
    "tester = MACrossBacktester(short_ma=short_ema, long_ma=long_ema, data=df, ma_type=\"vwma\"\n",
    ")\n",
    "results = tester.run()\n",
    "\n",
    "entry_dates = [int(entry_date.timestamp() * 1000) for entry_date in results.entry_dates]\n",
    "exit_dates = [int(exit_date.timestamp() * 1000) for exit_date in results.exit_dates]\n",
    "\n",
    "print(results)\n",
    "# print(generate_pinescript(entry_dates, exit_dates))\n",
    "\n"
   ]
  },
  {
   "cell_type": "code",
   "execution_count": 6,
   "metadata": {},
   "outputs": [
    {
     "name": "stderr",
     "output_type": "stream",
     "text": [
      "/home/romain/mtal/src/mtal/analysis.py:64: PerformanceWarning: DataFrame is highly fragmented.  This is usually the result of calling `frame.insert` many times, which has poor performance.  Consider joining all columns at once using pd.concat(axis=1) instead. To get a de-fragmented frame, use `newframe = frame.copy()`\n",
      "  df[get_ma_names(span, \"vwma\")] = vwma\n",
      "/home/romain/mtal/src/mtal/analysis.py:64: PerformanceWarning: DataFrame is highly fragmented.  This is usually the result of calling `frame.insert` many times, which has poor performance.  Consider joining all columns at once using pd.concat(axis=1) instead. To get a de-fragmented frame, use `newframe = frame.copy()`\n",
      "  df[get_ma_names(span, \"vwma\")] = vwma\n",
      "/home/romain/mtal/src/mtal/analysis.py:64: PerformanceWarning: DataFrame is highly fragmented.  This is usually the result of calling `frame.insert` many times, which has poor performance.  Consider joining all columns at once using pd.concat(axis=1) instead. To get a de-fragmented frame, use `newframe = frame.copy()`\n",
      "  df[get_ma_names(span, \"vwma\")] = vwma\n",
      "/home/romain/mtal/src/mtal/analysis.py:64: PerformanceWarning: DataFrame is highly fragmented.  This is usually the result of calling `frame.insert` many times, which has poor performance.  Consider joining all columns at once using pd.concat(axis=1) instead. To get a de-fragmented frame, use `newframe = frame.copy()`\n",
      "  df[get_ma_names(span, \"vwma\")] = vwma\n",
      "/home/romain/mtal/src/mtal/analysis.py:64: PerformanceWarning: DataFrame is highly fragmented.  This is usually the result of calling `frame.insert` many times, which has poor performance.  Consider joining all columns at once using pd.concat(axis=1) instead. To get a de-fragmented frame, use `newframe = frame.copy()`\n",
      "  df[get_ma_names(span, \"vwma\")] = vwma\n",
      "/home/romain/mtal/src/mtal/analysis.py:64: PerformanceWarning: DataFrame is highly fragmented.  This is usually the result of calling `frame.insert` many times, which has poor performance.  Consider joining all columns at once using pd.concat(axis=1) instead. To get a de-fragmented frame, use `newframe = frame.copy()`\n",
      "  df[get_ma_names(span, \"vwma\")] = vwma\n",
      "/home/romain/mtal/src/mtal/analysis.py:64: PerformanceWarning: DataFrame is highly fragmented.  This is usually the result of calling `frame.insert` many times, which has poor performance.  Consider joining all columns at once using pd.concat(axis=1) instead. To get a de-fragmented frame, use `newframe = frame.copy()`\n",
      "  df[get_ma_names(span, \"vwma\")] = vwma\n",
      "/home/romain/mtal/src/mtal/analysis.py:64: PerformanceWarning: DataFrame is highly fragmented.  This is usually the result of calling `frame.insert` many times, which has poor performance.  Consider joining all columns at once using pd.concat(axis=1) instead. To get a de-fragmented frame, use `newframe = frame.copy()`\n",
      "  df[get_ma_names(span, \"vwma\")] = vwma\n",
      "/home/romain/mtal/src/mtal/analysis.py:64: PerformanceWarning: DataFrame is highly fragmented.  This is usually the result of calling `frame.insert` many times, which has poor performance.  Consider joining all columns at once using pd.concat(axis=1) instead. To get a de-fragmented frame, use `newframe = frame.copy()`\n",
      "  df[get_ma_names(span, \"vwma\")] = vwma\n",
      "/home/romain/mtal/src/mtal/analysis.py:64: PerformanceWarning: DataFrame is highly fragmented.  This is usually the result of calling `frame.insert` many times, which has poor performance.  Consider joining all columns at once using pd.concat(axis=1) instead. To get a de-fragmented frame, use `newframe = frame.copy()`\n",
      "  df[get_ma_names(span, \"vwma\")] = vwma\n",
      "/home/romain/mtal/src/mtal/analysis.py:64: PerformanceWarning: DataFrame is highly fragmented.  This is usually the result of calling `frame.insert` many times, which has poor performance.  Consider joining all columns at once using pd.concat(axis=1) instead. To get a de-fragmented frame, use `newframe = frame.copy()`\n",
      "  df[get_ma_names(span, \"vwma\")] = vwma\n",
      "/home/romain/mtal/src/mtal/analysis.py:64: PerformanceWarning: DataFrame is highly fragmented.  This is usually the result of calling `frame.insert` many times, which has poor performance.  Consider joining all columns at once using pd.concat(axis=1) instead. To get a de-fragmented frame, use `newframe = frame.copy()`\n",
      "  df[get_ma_names(span, \"vwma\")] = vwma\n",
      "/home/romain/mtal/src/mtal/analysis.py:64: PerformanceWarning: DataFrame is highly fragmented.  This is usually the result of calling `frame.insert` many times, which has poor performance.  Consider joining all columns at once using pd.concat(axis=1) instead. To get a de-fragmented frame, use `newframe = frame.copy()`\n",
      "  df[get_ma_names(span, \"vwma\")] = vwma\n",
      "/home/romain/mtal/src/mtal/analysis.py:64: PerformanceWarning: DataFrame is highly fragmented.  This is usually the result of calling `frame.insert` many times, which has poor performance.  Consider joining all columns at once using pd.concat(axis=1) instead. To get a de-fragmented frame, use `newframe = frame.copy()`\n",
      "  df[get_ma_names(span, \"vwma\")] = vwma\n",
      "/home/romain/mtal/src/mtal/analysis.py:64: PerformanceWarning: DataFrame is highly fragmented.  This is usually the result of calling `frame.insert` many times, which has poor performance.  Consider joining all columns at once using pd.concat(axis=1) instead. To get a de-fragmented frame, use `newframe = frame.copy()`\n",
      "  df[get_ma_names(span, \"vwma\")] = vwma\n",
      "/home/romain/mtal/src/mtal/analysis.py:64: PerformanceWarning: DataFrame is highly fragmented.  This is usually the result of calling `frame.insert` many times, which has poor performance.  Consider joining all columns at once using pd.concat(axis=1) instead. To get a de-fragmented frame, use `newframe = frame.copy()`\n",
      "  df[get_ma_names(span, \"vwma\")] = vwma\n",
      "/home/romain/mtal/src/mtal/analysis.py:64: PerformanceWarning: DataFrame is highly fragmented.  This is usually the result of calling `frame.insert` many times, which has poor performance.  Consider joining all columns at once using pd.concat(axis=1) instead. To get a de-fragmented frame, use `newframe = frame.copy()`\n",
      "  df[get_ma_names(span, \"vwma\")] = vwma\n",
      "/home/romain/mtal/src/mtal/analysis.py:64: PerformanceWarning: DataFrame is highly fragmented.  This is usually the result of calling `frame.insert` many times, which has poor performance.  Consider joining all columns at once using pd.concat(axis=1) instead. To get a de-fragmented frame, use `newframe = frame.copy()`\n",
      "  df[get_ma_names(span, \"vwma\")] = vwma\n",
      "/home/romain/mtal/src/mtal/analysis.py:64: PerformanceWarning: DataFrame is highly fragmented.  This is usually the result of calling `frame.insert` many times, which has poor performance.  Consider joining all columns at once using pd.concat(axis=1) instead. To get a de-fragmented frame, use `newframe = frame.copy()`\n",
      "  df[get_ma_names(span, \"vwma\")] = vwma\n",
      "/home/romain/mtal/src/mtal/analysis.py:64: PerformanceWarning: DataFrame is highly fragmented.  This is usually the result of calling `frame.insert` many times, which has poor performance.  Consider joining all columns at once using pd.concat(axis=1) instead. To get a de-fragmented frame, use `newframe = frame.copy()`\n",
      "  df[get_ma_names(span, \"vwma\")] = vwma\n",
      "/home/romain/mtal/src/mtal/analysis.py:64: PerformanceWarning: DataFrame is highly fragmented.  This is usually the result of calling `frame.insert` many times, which has poor performance.  Consider joining all columns at once using pd.concat(axis=1) instead. To get a de-fragmented frame, use `newframe = frame.copy()`\n",
      "  df[get_ma_names(span, \"vwma\")] = vwma\n",
      "/home/romain/mtal/src/mtal/analysis.py:64: PerformanceWarning: DataFrame is highly fragmented.  This is usually the result of calling `frame.insert` many times, which has poor performance.  Consider joining all columns at once using pd.concat(axis=1) instead. To get a de-fragmented frame, use `newframe = frame.copy()`\n",
      "  df[get_ma_names(span, \"vwma\")] = vwma\n",
      "/home/romain/mtal/src/mtal/analysis.py:64: PerformanceWarning: DataFrame is highly fragmented.  This is usually the result of calling `frame.insert` many times, which has poor performance.  Consider joining all columns at once using pd.concat(axis=1) instead. To get a de-fragmented frame, use `newframe = frame.copy()`\n",
      "  df[get_ma_names(span, \"vwma\")] = vwma\n",
      "/home/romain/mtal/src/mtal/analysis.py:64: PerformanceWarning: DataFrame is highly fragmented.  This is usually the result of calling `frame.insert` many times, which has poor performance.  Consider joining all columns at once using pd.concat(axis=1) instead. To get a de-fragmented frame, use `newframe = frame.copy()`\n",
      "  df[get_ma_names(span, \"vwma\")] = vwma\n",
      "/home/romain/mtal/src/mtal/analysis.py:64: PerformanceWarning: DataFrame is highly fragmented.  This is usually the result of calling `frame.insert` many times, which has poor performance.  Consider joining all columns at once using pd.concat(axis=1) instead. To get a de-fragmented frame, use `newframe = frame.copy()`\n",
      "  df[get_ma_names(span, \"vwma\")] = vwma\n"
     ]
    },
    {
     "name": "stdout",
     "output_type": "stream",
     "text": [
      "Meilleure combinaison: Short EMA = 56, Long EMA = 58\n",
      "Résultat du test: BacktestResults(pnl=3577.2975760474555, pnl_percentage=2.5772975760474557, max_drawdown=-0.17333902100011148, win_rate=0.6, average_return=0.1732078101534478, trade_number=10, entry_dates=[Timestamp('2022-03-19 23:59:59.999000'), Timestamp('2022-08-12 23:59:59.999000'), Timestamp('2022-11-02 23:59:59.999000'), Timestamp('2023-01-06 23:59:59.999000'), Timestamp('2023-01-09 23:59:59.999000'), Timestamp('2023-04-17 23:59:59.999000'), Timestamp('2023-04-20 23:59:59.999000'), Timestamp('2023-07-05 23:59:59.999000'), Timestamp('2023-10-14 23:59:59.999000'), Timestamp('2024-02-06 23:59:59.999000')], exit_dates=[Timestamp('2022-04-04 23:59:59.999000'), Timestamp('2022-09-13 23:59:59.999000'), Timestamp('2022-11-05 23:59:59.999000'), Timestamp('2023-01-07 23:59:59.999000'), Timestamp('2023-04-16 23:59:59.999000'), Timestamp('2023-04-18 23:59:59.999000'), Timestamp('2023-05-28 23:59:59.999000'), Timestamp('2023-08-18 23:59:59.999000'), Timestamp('2024-02-01 23:59:59.999000'), Timestamp('2024-04-25 23:59:59.999000')], entry_prices=[42201.13, 24403.68, 20151.84, 16950.65, 17178.26, 29430.27, 28243.65, 30504.81, 26852.48, 43098.95], exit_prices=[46580.51, 20173.57, 21299.37, 16943.57, 30304.65, 30380.01, 28065.0, 26054.0, 43082.94, 64498.34])\n"
     ]
    }
   ],
   "source": [
    "from itertools import combinations\n",
    "from src.mtal.backtesting.ma_cross_backtest import MACrossBacktester\n",
    "\n",
    "\n",
    "ema_values = range(1, 60)  \n",
    "\n",
    "combinations = [(short_ema, long_ema) for short_ema, long_ema in combinations(ema_values, 2)]\n",
    "\n",
    "results = {}\n",
    "\n",
    "for short_ema, long_ema in combinations:\n",
    "    tester = MACrossBacktester(short_ma=short_ema, long_ma=long_ema, data=df, ma_type=\"vwma\")\n",
    "    test_results = tester.run()\n",
    "    results[(short_ema, long_ema)] = test_results\n",
    "\n",
    "best_combination = max(results, key=lambda x: results[x].pnl)  # Ajuster le critère si nécessaire\n",
    "best_result = results[best_combination]\n",
    "\n",
    "print(f\"Meilleure combinaison: Short EMA = {best_combination[0]}, Long EMA = {best_combination[1]}\")\n",
    "print(f\"Résultat du test: {best_result}\")\n"
   ]
  },
  {
   "cell_type": "markdown",
   "metadata": {},
   "source": [
    "27, 28 vwma daily cross marche bien, même en bear !\n",
    "9, 10 en bear gagne meme bien en bear.\n",
    "Avec la strat \"on rentre que le close est supérieur au prix\", ça nous donne 1,2 comme best values, autrement dit \"si la ligne close crossover\"."
   ]
  }
 ],
 "metadata": {
  "kernelspec": {
   "display_name": ".venv",
   "language": "python",
   "name": "python3"
  },
  "language_info": {
   "codemirror_mode": {
    "name": "ipython",
    "version": 3
   },
   "file_extension": ".py",
   "mimetype": "text/x-python",
   "name": "python",
   "nbconvert_exporter": "python",
   "pygments_lexer": "ipython3",
   "version": "3.10.12"
  }
 },
 "nbformat": 4,
 "nbformat_minor": 2
}
