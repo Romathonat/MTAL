{
 "cells": [
  {
   "cell_type": "markdown",
   "metadata": {},
   "source": [
    "# Data"
   ]
  },
  {
   "cell_type": "code",
   "execution_count": 9,
   "metadata": {},
   "outputs": [
    {
     "data": {
      "text/html": [
       "<div>\n",
       "<style scoped>\n",
       "    .dataframe tbody tr th:only-of-type {\n",
       "        vertical-align: middle;\n",
       "    }\n",
       "\n",
       "    .dataframe tbody tr th {\n",
       "        vertical-align: top;\n",
       "    }\n",
       "\n",
       "    .dataframe thead th {\n",
       "        text-align: right;\n",
       "    }\n",
       "</style>\n",
       "<table border=\"1\" class=\"dataframe\">\n",
       "  <thead>\n",
       "    <tr style=\"text-align: right;\">\n",
       "      <th></th>\n",
       "      <th>Open Time</th>\n",
       "      <th>Open</th>\n",
       "      <th>High</th>\n",
       "      <th>Low</th>\n",
       "      <th>Close</th>\n",
       "      <th>Volume</th>\n",
       "      <th>Close Time</th>\n",
       "    </tr>\n",
       "  </thead>\n",
       "  <tbody>\n",
       "    <tr>\n",
       "      <th>338</th>\n",
       "      <td>2024-02-05</td>\n",
       "      <td>42582.88</td>\n",
       "      <td>48592.66</td>\n",
       "      <td>42258.10</td>\n",
       "      <td>48299.99</td>\n",
       "      <td>262240.483570</td>\n",
       "      <td>2024-02-11 23:59:59.999</td>\n",
       "    </tr>\n",
       "    <tr>\n",
       "      <th>339</th>\n",
       "      <td>2024-02-12</td>\n",
       "      <td>48300.00</td>\n",
       "      <td>52816.62</td>\n",
       "      <td>47710.01</td>\n",
       "      <td>52137.67</td>\n",
       "      <td>310862.301700</td>\n",
       "      <td>2024-02-18 23:59:59.999</td>\n",
       "    </tr>\n",
       "    <tr>\n",
       "      <th>340</th>\n",
       "      <td>2024-02-19</td>\n",
       "      <td>52137.68</td>\n",
       "      <td>52985.00</td>\n",
       "      <td>50521.00</td>\n",
       "      <td>51728.85</td>\n",
       "      <td>223366.161860</td>\n",
       "      <td>2024-02-25 23:59:59.999</td>\n",
       "    </tr>\n",
       "    <tr>\n",
       "      <th>341</th>\n",
       "      <td>2024-02-26</td>\n",
       "      <td>51728.85</td>\n",
       "      <td>64000.00</td>\n",
       "      <td>50901.44</td>\n",
       "      <td>63113.97</td>\n",
       "      <td>417907.833830</td>\n",
       "      <td>2024-03-03 23:59:59.999</td>\n",
       "    </tr>\n",
       "    <tr>\n",
       "      <th>342</th>\n",
       "      <td>2024-03-04</td>\n",
       "      <td>63113.97</td>\n",
       "      <td>69990.00</td>\n",
       "      <td>59005.00</td>\n",
       "      <td>68955.88</td>\n",
       "      <td>481870.181782</td>\n",
       "      <td>2024-03-10 23:59:59.999</td>\n",
       "    </tr>\n",
       "    <tr>\n",
       "      <th>343</th>\n",
       "      <td>2024-03-11</td>\n",
       "      <td>68955.88</td>\n",
       "      <td>73777.00</td>\n",
       "      <td>64533.00</td>\n",
       "      <td>68393.48</td>\n",
       "      <td>477496.917520</td>\n",
       "      <td>2024-03-17 23:59:59.999</td>\n",
       "    </tr>\n",
       "    <tr>\n",
       "      <th>344</th>\n",
       "      <td>2024-03-18</td>\n",
       "      <td>68393.47</td>\n",
       "      <td>68956.00</td>\n",
       "      <td>60775.00</td>\n",
       "      <td>67209.99</td>\n",
       "      <td>409762.744140</td>\n",
       "      <td>2024-03-24 23:59:59.999</td>\n",
       "    </tr>\n",
       "    <tr>\n",
       "      <th>345</th>\n",
       "      <td>2024-03-25</td>\n",
       "      <td>67210.00</td>\n",
       "      <td>71769.54</td>\n",
       "      <td>66385.06</td>\n",
       "      <td>71280.01</td>\n",
       "      <td>235409.957550</td>\n",
       "      <td>2024-03-31 23:59:59.999</td>\n",
       "    </tr>\n",
       "    <tr>\n",
       "      <th>346</th>\n",
       "      <td>2024-04-01</td>\n",
       "      <td>71280.00</td>\n",
       "      <td>71288.23</td>\n",
       "      <td>64493.07</td>\n",
       "      <td>69360.39</td>\n",
       "      <td>274227.114880</td>\n",
       "      <td>2024-04-07 23:59:59.999</td>\n",
       "    </tr>\n",
       "    <tr>\n",
       "      <th>347</th>\n",
       "      <td>2024-04-08</td>\n",
       "      <td>69360.38</td>\n",
       "      <td>72797.99</td>\n",
       "      <td>60660.57</td>\n",
       "      <td>65661.84</td>\n",
       "      <td>348008.319040</td>\n",
       "      <td>2024-04-14 23:59:59.999</td>\n",
       "    </tr>\n",
       "    <tr>\n",
       "      <th>348</th>\n",
       "      <td>2024-04-15</td>\n",
       "      <td>65661.85</td>\n",
       "      <td>66867.07</td>\n",
       "      <td>59600.01</td>\n",
       "      <td>64941.15</td>\n",
       "      <td>312265.132250</td>\n",
       "      <td>2024-04-21 23:59:59.999</td>\n",
       "    </tr>\n",
       "    <tr>\n",
       "      <th>349</th>\n",
       "      <td>2024-04-22</td>\n",
       "      <td>64941.15</td>\n",
       "      <td>67232.35</td>\n",
       "      <td>62391.24</td>\n",
       "      <td>63118.62</td>\n",
       "      <td>183902.507530</td>\n",
       "      <td>2024-04-28 23:59:59.999</td>\n",
       "    </tr>\n",
       "    <tr>\n",
       "      <th>350</th>\n",
       "      <td>2024-04-29</td>\n",
       "      <td>63118.62</td>\n",
       "      <td>64734.00</td>\n",
       "      <td>56552.82</td>\n",
       "      <td>64012.00</td>\n",
       "      <td>298372.017200</td>\n",
       "      <td>2024-05-05 23:59:59.999</td>\n",
       "    </tr>\n",
       "    <tr>\n",
       "      <th>351</th>\n",
       "      <td>2024-05-06</td>\n",
       "      <td>64012.00</td>\n",
       "      <td>65500.00</td>\n",
       "      <td>61103.26</td>\n",
       "      <td>61290.01</td>\n",
       "      <td>84254.987800</td>\n",
       "      <td>2024-05-12 23:59:59.999</td>\n",
       "    </tr>\n",
       "  </tbody>\n",
       "</table>\n",
       "</div>"
      ],
      "text/plain": [
       "     Open Time      Open      High       Low     Close         Volume  \\\n",
       "338 2024-02-05  42582.88  48592.66  42258.10  48299.99  262240.483570   \n",
       "339 2024-02-12  48300.00  52816.62  47710.01  52137.67  310862.301700   \n",
       "340 2024-02-19  52137.68  52985.00  50521.00  51728.85  223366.161860   \n",
       "341 2024-02-26  51728.85  64000.00  50901.44  63113.97  417907.833830   \n",
       "342 2024-03-04  63113.97  69990.00  59005.00  68955.88  481870.181782   \n",
       "343 2024-03-11  68955.88  73777.00  64533.00  68393.48  477496.917520   \n",
       "344 2024-03-18  68393.47  68956.00  60775.00  67209.99  409762.744140   \n",
       "345 2024-03-25  67210.00  71769.54  66385.06  71280.01  235409.957550   \n",
       "346 2024-04-01  71280.00  71288.23  64493.07  69360.39  274227.114880   \n",
       "347 2024-04-08  69360.38  72797.99  60660.57  65661.84  348008.319040   \n",
       "348 2024-04-15  65661.85  66867.07  59600.01  64941.15  312265.132250   \n",
       "349 2024-04-22  64941.15  67232.35  62391.24  63118.62  183902.507530   \n",
       "350 2024-04-29  63118.62  64734.00  56552.82  64012.00  298372.017200   \n",
       "351 2024-05-06  64012.00  65500.00  61103.26  61290.01   84254.987800   \n",
       "\n",
       "                 Close Time  \n",
       "338 2024-02-11 23:59:59.999  \n",
       "339 2024-02-18 23:59:59.999  \n",
       "340 2024-02-25 23:59:59.999  \n",
       "341 2024-03-03 23:59:59.999  \n",
       "342 2024-03-10 23:59:59.999  \n",
       "343 2024-03-17 23:59:59.999  \n",
       "344 2024-03-24 23:59:59.999  \n",
       "345 2024-03-31 23:59:59.999  \n",
       "346 2024-04-07 23:59:59.999  \n",
       "347 2024-04-14 23:59:59.999  \n",
       "348 2024-04-21 23:59:59.999  \n",
       "349 2024-04-28 23:59:59.999  \n",
       "350 2024-05-05 23:59:59.999  \n",
       "351 2024-05-12 23:59:59.999  "
      ]
     },
     "execution_count": 9,
     "metadata": {},
     "output_type": "execute_result"
    }
   ],
   "source": [
    "from src.mtal.data_collect import get_pair_df\n",
    "from src.mtal.data_collect import get_spot_pairs\n",
    "\n",
    "cryptos = get_spot_pairs()\n",
    "\n",
    "# df = get_pair_df(pair=\"BTCUSDT\")\n",
    "df = get_pair_df(pair=\"BTCUSDT\", limit=500, frequency=\"1w\")\n",
    "df.tail(14)"
   ]
  },
  {
   "cell_type": "markdown",
   "metadata": {},
   "source": [
    "# EMA backtest"
   ]
  },
  {
   "cell_type": "code",
   "execution_count": 9,
   "metadata": {},
   "outputs": [
    {
     "name": "stdout",
     "output_type": "stream",
     "text": [
      "BacktestResults(pnl=2292.8809535292007, pnl_percentage=2.2928809535292007, max_drawdown=0.5421258689109649, win_rate=1.0, average_return=0.8387063155546539, trade_number=2, entry_dates=[Timestamp('2022-12-21 00:00:00'), Timestamp('2023-10-22 00:00:00')], exit_dates=[Timestamp('2023-08-23 00:00:00'), Timestamp('2024-04-30 00:00:00')], entry_prices=[16896.15, 29909.8], exit_prices=[26055.99, 63866.0], profit_pct_history=[0.5421258689109649, 1.135286762198343], profit_history=[542.125868910965, 1750.7550846182355])\n"
     ]
    }
   ],
   "source": [
    "from src.mtal.utils import generate_pinescript\n",
    "from src.mtal.backtesting.ma_cross_backtest import MACrossBacktester \n",
    "\n",
    "short_ema = 55 \n",
    "long_ema = 59 \n",
    "\n",
    "df = get_pair_df(pair=\"BTCUSDT\", limit=500, frequency=\"1d\")\n",
    "\n",
    "tester = MACrossBacktester(\n",
    "    short_ma=short_ema, long_ma=long_ema, data=df\n",
    ")\n",
    "results = tester.run()\n",
    "\n",
    "entry_dates = [int(entry_date.timestamp() * 1000) for entry_date in results.entry_dates]\n",
    "exit_dates = [int(exit_date.timestamp() * 1000) for exit_date in results.exit_dates]\n",
    "\n",
    "print(results)\n"
   ]
  },
  {
   "cell_type": "code",
   "execution_count": 4,
   "metadata": {},
   "outputs": [
    {
     "name": "stdout",
     "output_type": "stream",
     "text": [
      "Meilleure combinaison: Short EMA = 55, Long EMA = 59\n",
      "Résultat du test: BacktestResults(pnl=2697.621393230537, pnl_percentage=1.6976213932305368, max_drawdown=0.25442455932371505, win_rate=1.0, average_return=0.7024548572963697, trade_number=2, entry_dates=[Timestamp('2023-01-19 23:59:59.999000'), Timestamp('2023-10-22 23:59:59.999000')], exit_dates=[Timestamp('2023-08-23 23:59:59.999000'), Timestamp('2024-04-25 23:59:59.999000')], entry_prices=[21071.59, 29992.46], exit_prices=[26432.72, 64498.34])\n"
     ]
    }
   ],
   "source": [
    "from itertools import combinations\n",
    "from src.mtal.backtesting.ma_cross_backtest import MACrossBacktester\n",
    "\n",
    "\n",
    "ema_values = range(1, 60)  \n",
    "\n",
    "combinations = [(short_ema, long_ema) for short_ema, long_ema in combinations(ema_values, 2)]\n",
    "\n",
    "results = {}\n",
    "\n",
    "for short_ema, long_ema in combinations:\n",
    "    tester = MACrossBacktester(short_ma=short_ema, long_ma=long_ema, data=df)\n",
    "    test_results = tester.run()\n",
    "    results[(short_ema, long_ema)] = test_results\n",
    "\n",
    "best_combination = max(results, key=lambda x: results[x].pnl)  # Ajuster le critère si nécessaire\n",
    "best_result = results[best_combination]\n",
    "\n",
    "print(f\"Meilleure combinaison: Short EMA = {best_combination[0]}, Long EMA = {best_combination[1]}\")\n",
    "print(f\"Résultat du test: {best_result}\")\n"
   ]
  },
  {
   "cell_type": "markdown",
   "metadata": {},
   "source": [
    "# EMA cross price"
   ]
  },
  {
   "cell_type": "code",
   "execution_count": 3,
   "metadata": {},
   "outputs": [
    {
     "name": "stdout",
     "output_type": "stream",
     "text": [
      "BacktestResults(pnl=1042.0140055858515, pnl_percentage=1.0420140055858516, max_drawdown=-0.03015747704325425, win_rate=0.4444444444444444, average_return=0.09765909335046505, trade_number=9, entry_dates=[Timestamp('2022-12-21 00:00:00'), Timestamp('2023-02-16 00:00:00'), Timestamp('2023-03-16 00:00:00'), Timestamp('2023-04-29 00:00:00'), Timestamp('2023-06-21 00:00:00'), Timestamp('2023-07-24 00:00:00'), Timestamp('2023-09-19 00:00:00'), Timestamp('2023-09-29 00:00:00'), Timestamp('2024-02-02 00:00:00')], exit_dates=[Timestamp('2022-12-28 23:59:59.999000'), Timestamp('2023-02-24 23:59:59.999000'), Timestamp('2023-04-19 23:59:59.999000'), Timestamp('2023-05-01 23:59:59.999000'), Timestamp('2023-07-17 23:59:59.999000'), Timestamp('2023-07-25 23:59:59.999000'), Timestamp('2023-09-24 23:59:59.999000'), Timestamp('2023-10-11 23:59:59.999000'), Timestamp('2024-03-16 23:59:59.999000')], entry_prices=[16896.15, 24322.87, 24285.66, 29311.69, 28308.0, 30083.75, 26762.5, 27021.39, 43082.95], exit_prices=[16547.31, 23185.29, 28797.1, 28068.26, 30138.0, 29228.91, 26248.38, 26875.52, 65300.63], profit_pct_history=[-0.011250491975982702, -0.015732929543265176, 0.25094438446391815, -0.002677771223699417, 0.06796665253638548, -0.03015747704325425, -0.006969827183559041, 0.013645856116210142, 0.6131634440074322], profit_history=[-11.250491975982703, -15.55592634567997, 244.21746431850616, -3.2599482663841544, 82.52178578611714, -39.10438271726145, -8.765035122058656, 17.040992410056415, 776.1695474985383])\n"
     ]
    }
   ],
   "source": [
    "from src.mtal.utils import generate_pinescript\n",
    "from src.mtal.backtesting.ma_cross_backtest import MACrossPriceAboveBacktester \n",
    "\n",
    "short_ema = 10 \n",
    "long_ema = 20 \n",
    "\n",
    "df = get_pair_df(pair=\"BTCUSDT\", limit=500, frequency=\"1d\")\n",
    "\n",
    "tester = MACrossPriceAboveBacktester(\n",
    "    short_ma=short_ema, long_ma=long_ema, data=df\n",
    ")\n",
    "results = tester.run()\n",
    "\n",
    "entry_dates = [int(entry_date.timestamp() * 1000) for entry_date in results.entry_dates]\n",
    "exit_dates = [int(exit_date.timestamp() * 1000) for exit_date in results.exit_dates]\n",
    "\n",
    "print(results)"
   ]
  },
  {
   "cell_type": "code",
   "execution_count": 12,
   "metadata": {},
   "outputs": [
    {
     "name": "stdout",
     "output_type": "stream",
     "text": [
      "Meilleure combinaison: Short EMA = 19, Long EMA = 47\n",
      "Résultat du test: BacktestResults(pnl=2607.640337455214, pnl_percentage=2.6076403374552144, max_drawdown=-0.03862851230654122, win_rate=0.75, average_return=0.40636658069417786, trade_number=4, entry_dates=[Timestamp('2022-12-21 00:00:00'), Timestamp('2023-06-23 00:00:00'), Timestamp('2023-10-06 00:00:00'), Timestamp('2024-01-28 00:00:00')], exit_dates=[Timestamp('2023-05-18 00:00:00'), Timestamp('2023-08-17 00:00:00'), Timestamp('2024-01-27 00:00:00'), Timestamp('2024-04-30 00:00:00')], entry_prices=[16896.15, 29884.92, 27410.39, 42120.63], exit_prices=[27405.62, 28730.51, 41823.51, 63866.0], profit_pct_history=[0.6220038292747162, -0.03862851230654122, 0.5258268853525981, 0.5162641204559382], profit_history=[622.0038292747162, -62.65559488039536, 819.947225271639, 1228.344877789254])\n"
     ]
    }
   ],
   "source": [
    "from itertools import combinations\n",
    "from src.mtal.backtesting.ma_cross_backtest import MACrossPriceAboveBacktester\n",
    "\n",
    "\n",
    "ema_values = range(1, 60)  \n",
    "\n",
    "combinations = [(short_ema, long_ema) for short_ema, long_ema in combinations(ema_values, 2)]\n",
    "\n",
    "results = {}\n",
    "\n",
    "for short_ema, long_ema in combinations:\n",
    "    tester = MACrossPriceAboveBacktester(short_ma=short_ema, long_ma=long_ema, data=df)\n",
    "    test_results = tester.run()\n",
    "    results[(short_ema, long_ema)] = test_results\n",
    "\n",
    "best_combination = max(results, key=lambda x: results[x].pnl)  # Ajuster le critère si nécessaire\n",
    "best_result = results[best_combination]\n",
    "\n",
    "print(f\"Meilleure combinaison: Short EMA = {best_combination[0]}, Long EMA = {best_combination[1]}\")\n",
    "print(f\"Résultat du test: {best_result}\")\n"
   ]
  },
  {
   "cell_type": "markdown",
   "metadata": {},
   "source": [
    "# VWMA Backtest"
   ]
  },
  {
   "cell_type": "code",
   "execution_count": 2,
   "metadata": {},
   "outputs": [
    {
     "name": "stdout",
     "output_type": "stream",
     "text": [
      "BacktestResults(pnl=1179.117873891592, pnl_percentage=1.179117873891592, max_drawdown=-0.1109015064237315, win_rate=0.4375, average_return=0.06589637292548531, trade_number=16, entry_dates=[Timestamp('2023-01-09 23:59:59.999000'), Timestamp('2023-02-20 23:59:59.999000'), Timestamp('2023-03-18 23:59:59.999000'), Timestamp('2023-05-05 23:59:59.999000'), Timestamp('2023-05-31 23:59:59.999000'), Timestamp('2023-06-22 23:59:59.999000'), Timestamp('2023-07-14 23:59:59.999000'), Timestamp('2023-07-17 23:59:59.999000'), Timestamp('2023-08-11 23:59:59.999000'), Timestamp('2023-08-13 23:59:59.999000'), Timestamp('2023-09-05 23:59:59.999000'), Timestamp('2023-09-19 23:59:59.999000'), Timestamp('2023-12-22 23:59:59.999000'), Timestamp('2023-12-26 23:59:59.999000'), Timestamp('2024-02-03 23:59:59.999000'), Timestamp('2024-04-01 23:59:59.999000')], exit_dates=[Timestamp('2023-02-11 23:59:59.999000'), Timestamp('2023-03-04 23:59:59.999000'), Timestamp('2023-04-24 23:59:59.999000'), Timestamp('2023-05-11 23:59:59.999000'), Timestamp('2023-06-08 23:59:59.999000'), Timestamp('2023-07-13 23:59:59.999000'), Timestamp('2023-07-15 23:59:59.999000'), Timestamp('2023-07-21 23:59:59.999000'), Timestamp('2023-08-12 23:59:59.999000'), Timestamp('2023-08-18 23:59:59.999000'), Timestamp('2023-09-09 23:59:59.999000'), Timestamp('2023-12-21 23:59:59.999000'), Timestamp('2023-12-25 23:59:59.999000'), Timestamp('2024-01-19 23:59:59.999000'), Timestamp('2024-03-23 23:59:59.999000'), Timestamp('2024-04-12 23:59:59.999000')], entry_prices=[17178.26, 24842.2, 26907.49, 29505.61, 27210.35, 29884.92, 30312.01, 30138.0, 29426.03, 29303.84, 25792.1, 27210.26, 43969.04, 42508.93, 43011.09, 69649.8], exit_prices=[21862.55, 22346.57, 27510.93, 26968.62, 26498.61, 31454.23, 30289.52, 29901.72, 29430.17, 26054.0, 25901.61, 43861.8, 43576.13, 41659.03, 63990.01, 67116.52], profit_pct_history=[0.2726871056789222, -0.10045929909589332, 0.02242646935853172, -0.0859833096146801, -0.026156958657275558, 0.052511768477211965, -0.0007419501379155643, -0.007839936293051922, 0.00014069176168172935, -0.1109015064237315, 0.004245873736531808, 0.6119581363794394, -0.008936060464363186, -0.01999344608297601, 0.48775606477306216, -0.03637167658772888], profit_history=[272.6871056789222, -127.85325460488562, 25.674581281721743, -100.64418894583899, -27.984394783770647, 54.71095339212896, -0.8136156967944003, -8.590823332140115, 0.15295816468532275, -120.58756870973933, 4.104705875449306, 594.1235089252899, -13.98475561281869, -31.00973913872254, 741.3821325756466, -82.24973117754152])\n"
     ]
    }
   ],
   "source": [
    "from src.mtal.utils import generate_pinescript\n",
    "from src.mtal.backtesting.ma_cross_backtest import MACrossBacktester \n",
    "\n",
    "short_ema = 10\n",
    "long_ema = 20\n",
    "\n",
    "df = get_pair_df(pair=\"BTCUSDT\", limit=500, frequency=\"1d\")\n",
    "\n",
    "tester = MACrossBacktester(short_ma=short_ema, long_ma=long_ema, data=df, ma_type=\"vwma\"\n",
    ")\n",
    "results = tester.run()\n",
    "\n",
    "entry_dates = [int(entry_date.timestamp() * 1000) for entry_date in results.entry_dates]\n",
    "exit_dates = [int(exit_date.timestamp() * 1000) for exit_date in results.exit_dates]\n",
    "\n",
    "print(results)\n",
    "# print(generate_pinescript(entry_dates, exit_dates))\n",
    "\n"
   ]
  },
  {
   "cell_type": "code",
   "execution_count": 6,
   "metadata": {},
   "outputs": [
    {
     "name": "stderr",
     "output_type": "stream",
     "text": [
      "/home/romain/mtal/src/mtal/analysis.py:64: PerformanceWarning: DataFrame is highly fragmented.  This is usually the result of calling `frame.insert` many times, which has poor performance.  Consider joining all columns at once using pd.concat(axis=1) instead. To get a de-fragmented frame, use `newframe = frame.copy()`\n",
      "  df[get_ma_names(span, \"vwma\")] = vwma\n",
      "/home/romain/mtal/src/mtal/analysis.py:64: PerformanceWarning: DataFrame is highly fragmented.  This is usually the result of calling `frame.insert` many times, which has poor performance.  Consider joining all columns at once using pd.concat(axis=1) instead. To get a de-fragmented frame, use `newframe = frame.copy()`\n",
      "  df[get_ma_names(span, \"vwma\")] = vwma\n",
      "/home/romain/mtal/src/mtal/analysis.py:64: PerformanceWarning: DataFrame is highly fragmented.  This is usually the result of calling `frame.insert` many times, which has poor performance.  Consider joining all columns at once using pd.concat(axis=1) instead. To get a de-fragmented frame, use `newframe = frame.copy()`\n",
      "  df[get_ma_names(span, \"vwma\")] = vwma\n",
      "/home/romain/mtal/src/mtal/analysis.py:64: PerformanceWarning: DataFrame is highly fragmented.  This is usually the result of calling `frame.insert` many times, which has poor performance.  Consider joining all columns at once using pd.concat(axis=1) instead. To get a de-fragmented frame, use `newframe = frame.copy()`\n",
      "  df[get_ma_names(span, \"vwma\")] = vwma\n",
      "/home/romain/mtal/src/mtal/analysis.py:64: PerformanceWarning: DataFrame is highly fragmented.  This is usually the result of calling `frame.insert` many times, which has poor performance.  Consider joining all columns at once using pd.concat(axis=1) instead. To get a de-fragmented frame, use `newframe = frame.copy()`\n",
      "  df[get_ma_names(span, \"vwma\")] = vwma\n",
      "/home/romain/mtal/src/mtal/analysis.py:64: PerformanceWarning: DataFrame is highly fragmented.  This is usually the result of calling `frame.insert` many times, which has poor performance.  Consider joining all columns at once using pd.concat(axis=1) instead. To get a de-fragmented frame, use `newframe = frame.copy()`\n",
      "  df[get_ma_names(span, \"vwma\")] = vwma\n",
      "/home/romain/mtal/src/mtal/analysis.py:64: PerformanceWarning: DataFrame is highly fragmented.  This is usually the result of calling `frame.insert` many times, which has poor performance.  Consider joining all columns at once using pd.concat(axis=1) instead. To get a de-fragmented frame, use `newframe = frame.copy()`\n",
      "  df[get_ma_names(span, \"vwma\")] = vwma\n",
      "/home/romain/mtal/src/mtal/analysis.py:64: PerformanceWarning: DataFrame is highly fragmented.  This is usually the result of calling `frame.insert` many times, which has poor performance.  Consider joining all columns at once using pd.concat(axis=1) instead. To get a de-fragmented frame, use `newframe = frame.copy()`\n",
      "  df[get_ma_names(span, \"vwma\")] = vwma\n",
      "/home/romain/mtal/src/mtal/analysis.py:64: PerformanceWarning: DataFrame is highly fragmented.  This is usually the result of calling `frame.insert` many times, which has poor performance.  Consider joining all columns at once using pd.concat(axis=1) instead. To get a de-fragmented frame, use `newframe = frame.copy()`\n",
      "  df[get_ma_names(span, \"vwma\")] = vwma\n",
      "/home/romain/mtal/src/mtal/analysis.py:64: PerformanceWarning: DataFrame is highly fragmented.  This is usually the result of calling `frame.insert` many times, which has poor performance.  Consider joining all columns at once using pd.concat(axis=1) instead. To get a de-fragmented frame, use `newframe = frame.copy()`\n",
      "  df[get_ma_names(span, \"vwma\")] = vwma\n",
      "/home/romain/mtal/src/mtal/analysis.py:64: PerformanceWarning: DataFrame is highly fragmented.  This is usually the result of calling `frame.insert` many times, which has poor performance.  Consider joining all columns at once using pd.concat(axis=1) instead. To get a de-fragmented frame, use `newframe = frame.copy()`\n",
      "  df[get_ma_names(span, \"vwma\")] = vwma\n",
      "/home/romain/mtal/src/mtal/analysis.py:64: PerformanceWarning: DataFrame is highly fragmented.  This is usually the result of calling `frame.insert` many times, which has poor performance.  Consider joining all columns at once using pd.concat(axis=1) instead. To get a de-fragmented frame, use `newframe = frame.copy()`\n",
      "  df[get_ma_names(span, \"vwma\")] = vwma\n",
      "/home/romain/mtal/src/mtal/analysis.py:64: PerformanceWarning: DataFrame is highly fragmented.  This is usually the result of calling `frame.insert` many times, which has poor performance.  Consider joining all columns at once using pd.concat(axis=1) instead. To get a de-fragmented frame, use `newframe = frame.copy()`\n",
      "  df[get_ma_names(span, \"vwma\")] = vwma\n",
      "/home/romain/mtal/src/mtal/analysis.py:64: PerformanceWarning: DataFrame is highly fragmented.  This is usually the result of calling `frame.insert` many times, which has poor performance.  Consider joining all columns at once using pd.concat(axis=1) instead. To get a de-fragmented frame, use `newframe = frame.copy()`\n",
      "  df[get_ma_names(span, \"vwma\")] = vwma\n",
      "/home/romain/mtal/src/mtal/analysis.py:64: PerformanceWarning: DataFrame is highly fragmented.  This is usually the result of calling `frame.insert` many times, which has poor performance.  Consider joining all columns at once using pd.concat(axis=1) instead. To get a de-fragmented frame, use `newframe = frame.copy()`\n",
      "  df[get_ma_names(span, \"vwma\")] = vwma\n",
      "/home/romain/mtal/src/mtal/analysis.py:64: PerformanceWarning: DataFrame is highly fragmented.  This is usually the result of calling `frame.insert` many times, which has poor performance.  Consider joining all columns at once using pd.concat(axis=1) instead. To get a de-fragmented frame, use `newframe = frame.copy()`\n",
      "  df[get_ma_names(span, \"vwma\")] = vwma\n",
      "/home/romain/mtal/src/mtal/analysis.py:64: PerformanceWarning: DataFrame is highly fragmented.  This is usually the result of calling `frame.insert` many times, which has poor performance.  Consider joining all columns at once using pd.concat(axis=1) instead. To get a de-fragmented frame, use `newframe = frame.copy()`\n",
      "  df[get_ma_names(span, \"vwma\")] = vwma\n",
      "/home/romain/mtal/src/mtal/analysis.py:64: PerformanceWarning: DataFrame is highly fragmented.  This is usually the result of calling `frame.insert` many times, which has poor performance.  Consider joining all columns at once using pd.concat(axis=1) instead. To get a de-fragmented frame, use `newframe = frame.copy()`\n",
      "  df[get_ma_names(span, \"vwma\")] = vwma\n",
      "/home/romain/mtal/src/mtal/analysis.py:64: PerformanceWarning: DataFrame is highly fragmented.  This is usually the result of calling `frame.insert` many times, which has poor performance.  Consider joining all columns at once using pd.concat(axis=1) instead. To get a de-fragmented frame, use `newframe = frame.copy()`\n",
      "  df[get_ma_names(span, \"vwma\")] = vwma\n",
      "/home/romain/mtal/src/mtal/analysis.py:64: PerformanceWarning: DataFrame is highly fragmented.  This is usually the result of calling `frame.insert` many times, which has poor performance.  Consider joining all columns at once using pd.concat(axis=1) instead. To get a de-fragmented frame, use `newframe = frame.copy()`\n",
      "  df[get_ma_names(span, \"vwma\")] = vwma\n",
      "/home/romain/mtal/src/mtal/analysis.py:64: PerformanceWarning: DataFrame is highly fragmented.  This is usually the result of calling `frame.insert` many times, which has poor performance.  Consider joining all columns at once using pd.concat(axis=1) instead. To get a de-fragmented frame, use `newframe = frame.copy()`\n",
      "  df[get_ma_names(span, \"vwma\")] = vwma\n",
      "/home/romain/mtal/src/mtal/analysis.py:64: PerformanceWarning: DataFrame is highly fragmented.  This is usually the result of calling `frame.insert` many times, which has poor performance.  Consider joining all columns at once using pd.concat(axis=1) instead. To get a de-fragmented frame, use `newframe = frame.copy()`\n",
      "  df[get_ma_names(span, \"vwma\")] = vwma\n",
      "/home/romain/mtal/src/mtal/analysis.py:64: PerformanceWarning: DataFrame is highly fragmented.  This is usually the result of calling `frame.insert` many times, which has poor performance.  Consider joining all columns at once using pd.concat(axis=1) instead. To get a de-fragmented frame, use `newframe = frame.copy()`\n",
      "  df[get_ma_names(span, \"vwma\")] = vwma\n",
      "/home/romain/mtal/src/mtal/analysis.py:64: PerformanceWarning: DataFrame is highly fragmented.  This is usually the result of calling `frame.insert` many times, which has poor performance.  Consider joining all columns at once using pd.concat(axis=1) instead. To get a de-fragmented frame, use `newframe = frame.copy()`\n",
      "  df[get_ma_names(span, \"vwma\")] = vwma\n",
      "/home/romain/mtal/src/mtal/analysis.py:64: PerformanceWarning: DataFrame is highly fragmented.  This is usually the result of calling `frame.insert` many times, which has poor performance.  Consider joining all columns at once using pd.concat(axis=1) instead. To get a de-fragmented frame, use `newframe = frame.copy()`\n",
      "  df[get_ma_names(span, \"vwma\")] = vwma\n"
     ]
    },
    {
     "name": "stdout",
     "output_type": "stream",
     "text": [
      "Meilleure combinaison: Short EMA = 56, Long EMA = 58\n",
      "Résultat du test: BacktestResults(pnl=3577.2975760474555, pnl_percentage=2.5772975760474557, max_drawdown=-0.17333902100011148, win_rate=0.6, average_return=0.1732078101534478, trade_number=10, entry_dates=[Timestamp('2022-03-19 23:59:59.999000'), Timestamp('2022-08-12 23:59:59.999000'), Timestamp('2022-11-02 23:59:59.999000'), Timestamp('2023-01-06 23:59:59.999000'), Timestamp('2023-01-09 23:59:59.999000'), Timestamp('2023-04-17 23:59:59.999000'), Timestamp('2023-04-20 23:59:59.999000'), Timestamp('2023-07-05 23:59:59.999000'), Timestamp('2023-10-14 23:59:59.999000'), Timestamp('2024-02-06 23:59:59.999000')], exit_dates=[Timestamp('2022-04-04 23:59:59.999000'), Timestamp('2022-09-13 23:59:59.999000'), Timestamp('2022-11-05 23:59:59.999000'), Timestamp('2023-01-07 23:59:59.999000'), Timestamp('2023-04-16 23:59:59.999000'), Timestamp('2023-04-18 23:59:59.999000'), Timestamp('2023-05-28 23:59:59.999000'), Timestamp('2023-08-18 23:59:59.999000'), Timestamp('2024-02-01 23:59:59.999000'), Timestamp('2024-04-25 23:59:59.999000')], entry_prices=[42201.13, 24403.68, 20151.84, 16950.65, 17178.26, 29430.27, 28243.65, 30504.81, 26852.48, 43098.95], exit_prices=[46580.51, 20173.57, 21299.37, 16943.57, 30304.65, 30380.01, 28065.0, 26054.0, 43082.94, 64498.34])\n"
     ]
    }
   ],
   "source": [
    "from itertools import combinations\n",
    "from src.mtal.backtesting.ma_cross_backtest import MACrossBacktester\n",
    "\n",
    "\n",
    "ema_values = range(1, 60)  \n",
    "\n",
    "combinations = [(short_ema, long_ema) for short_ema, long_ema in combinations(ema_values, 2)]\n",
    "\n",
    "results = {}\n",
    "\n",
    "for short_ema, long_ema in combinations:\n",
    "    tester = MACrossBacktester(short_ma=short_ema, long_ma=long_ema, data=df, ma_type=\"vwma\")\n",
    "    test_results = tester.run()\n",
    "    results[(short_ema, long_ema)] = test_results\n",
    "\n",
    "best_combination = max(results, key=lambda x: results[x].pnl)  # Ajuster le critère si nécessaire\n",
    "best_result = results[best_combination]\n",
    "\n",
    "print(f\"Meilleure combinaison: Short EMA = {best_combination[0]}, Long EMA = {best_combination[1]}\")\n",
    "print(f\"Résultat du test: {best_result}\")\n"
   ]
  },
  {
   "cell_type": "markdown",
   "metadata": {},
   "source": [
    "# VWMA above"
   ]
  },
  {
   "cell_type": "code",
   "execution_count": 3,
   "metadata": {},
   "outputs": [
    {
     "name": "stdout",
     "output_type": "stream",
     "text": [
      "BacktestResults(pnl=3115.5126566516756, pnl_percentage=3.1155126566516755, max_drawdown=-0.04734561471993561, win_rate=0.5111111111111111, average_return=0.03486297837435225, trade_number=45, entry_dates=[Timestamp('2022-12-25 23:59:59.999000'), Timestamp('2023-01-02 23:59:59.999000'), Timestamp('2023-01-20 23:59:59.999000'), Timestamp('2023-02-01 23:59:59.999000'), Timestamp('2023-02-13 23:59:59.999000'), Timestamp('2023-03-02 23:59:59.999000'), Timestamp('2023-03-12 23:59:59.999000'), Timestamp('2023-03-26 23:59:59.999000'), Timestamp('2023-03-29 23:59:59.999000'), Timestamp('2023-04-05 23:59:59.999000'), Timestamp('2023-04-09 23:59:59.999000'), Timestamp('2023-04-25 23:59:59.999000'), Timestamp('2023-05-03 23:59:59.999000'), Timestamp('2023-05-15 23:59:59.999000'), Timestamp('2023-05-23 23:59:59.999000'), Timestamp('2023-05-27 23:59:59.999000'), Timestamp('2023-06-09 23:59:59.999000'), Timestamp('2023-06-16 23:59:59.999000'), Timestamp('2023-06-30 23:59:59.999000'), Timestamp('2023-07-08 23:59:59.999000'), Timestamp('2023-07-28 23:59:59.999000'), Timestamp('2023-08-01 23:59:59.999000'), Timestamp('2023-08-07 23:59:59.999000'), Timestamp('2023-08-28 23:59:59.999000'), Timestamp('2023-09-07 23:59:59.999000'), Timestamp('2023-09-13 23:59:59.999000'), Timestamp('2023-09-28 23:59:59.999000'), Timestamp('2023-10-15 23:59:59.999000'), Timestamp('2023-10-29 23:59:59.999000'), Timestamp('2023-11-06 23:59:59.999000'), Timestamp('2023-11-23 23:59:59.999000'), Timestamp('2023-11-29 23:59:59.999000'), Timestamp('2023-12-13 23:59:59.999000'), Timestamp('2023-12-19 23:59:59.999000'), Timestamp('2024-01-01 23:59:59.999000'), Timestamp('2024-01-05 23:59:59.999000'), Timestamp('2024-01-16 23:59:59.999000'), Timestamp('2024-01-25 23:59:59.999000'), Timestamp('2024-02-07 23:59:59.999000'), Timestamp('2024-02-25 23:59:59.999000'), Timestamp('2024-03-07 23:59:59.999000'), Timestamp('2024-03-25 23:59:59.999000'), Timestamp('2024-03-31 23:59:59.999000'), Timestamp('2024-04-05 23:59:59.999000'), Timestamp('2024-04-19 23:59:59.999000')], exit_dates=[Timestamp('2022-12-27 23:59:59.999000'), Timestamp('2023-01-18 23:59:59.999000'), Timestamp('2023-01-24 23:59:59.999000'), Timestamp('2023-02-04 23:59:59.999000'), Timestamp('2023-02-21 23:59:59.999000'), Timestamp('2023-03-03 23:59:59.999000'), Timestamp('2023-03-22 23:59:59.999000'), Timestamp('2023-03-27 23:59:59.999000'), Timestamp('2023-04-02 23:59:59.999000'), Timestamp('2023-04-06 23:59:59.999000'), Timestamp('2023-04-17 23:59:59.999000'), Timestamp('2023-05-01 23:59:59.999000'), Timestamp('2023-05-06 23:59:59.999000'), Timestamp('2023-05-18 23:59:59.999000'), Timestamp('2023-05-24 23:59:59.999000'), Timestamp('2023-05-31 23:59:59.999000'), Timestamp('2023-06-10 23:59:59.999000'), Timestamp('2023-06-26 23:59:59.999000'), Timestamp('2023-07-05 23:59:59.999000'), Timestamp('2023-07-09 23:59:59.999000'), Timestamp('2023-07-30 23:59:59.999000'), Timestamp('2023-08-02 23:59:59.999000'), Timestamp('2023-08-10 23:59:59.999000'), Timestamp('2023-08-31 23:59:59.999000'), Timestamp('2023-09-08 23:59:59.999000'), Timestamp('2023-09-21 23:59:59.999000'), Timestamp('2023-10-05 23:59:59.999000'), Timestamp('2023-10-28 23:59:59.999000'), Timestamp('2023-11-03 23:59:59.999000'), Timestamp('2023-11-13 23:59:59.999000'), Timestamp('2023-11-26 23:59:59.999000'), Timestamp('2023-12-09 23:59:59.999000'), Timestamp('2023-12-15 23:59:59.999000'), Timestamp('2023-12-24 23:59:59.999000'), Timestamp('2024-01-03 23:59:59.999000'), Timestamp('2024-01-11 23:59:59.999000'), Timestamp('2024-01-18 23:59:59.999000'), Timestamp('2024-01-31 23:59:59.999000'), Timestamp('2024-02-19 23:59:59.999000'), Timestamp('2024-03-05 23:59:59.999000'), Timestamp('2024-03-14 23:59:59.999000'), Timestamp('2024-03-29 23:59:59.999000'), Timestamp('2024-04-01 23:59:59.999000'), Timestamp('2024-04-09 23:59:59.999000'), Timestamp('2024-04-24 23:59:59.999000')], entry_prices=[16832.11, 16672.87, 22667.21, 23732.66, 21773.97, 23465.32, 21997.11, 27968.05, 28348.6, 28170.01, 28323.76, 28300.79, 29026.16, 27162.14, 27219.61, 26854.27, 26477.81, 26345.0, 30472.0, 30284.63, 29314.14, 29705.99, 29211.06, 26120.0, 26255.0, 26222.0, 27021.39, 27154.15, 34525.89, 35046.09, 37294.28, 37854.64, 42869.03, 42275.99, 44179.55, 44145.11, 43137.95, 39961.09, 44349.6, 51728.85, 66823.17, 69880.01, 71280.01, 67820.62, 63818.01], exit_prices=[16706.36, 20677.47, 22632.89, 23326.84, 24452.16, 22354.34, 27250.97, 27124.91, 28171.87, 28033.82, 29430.27, 28068.26, 28848.2, 26821.28, 26329.01, 27210.35, 25841.21, 30267.99, 30504.81, 30160.71, 29281.09, 29186.01, 29455.75, 25940.78, 25910.5, 26568.08, 27410.39, 34081.0, 34716.78, 36462.93, 37447.43, 43713.6, 41940.3, 42991.5, 42845.23, 46339.16, 41327.5, 42580.0, 51774.73, 63724.01, 71388.94, 69850.54, 69649.8, 69146.0, 64289.59], profit_pct_history=[-0.007470839960052542, 0.24018660254653232, -0.001514081353638128, -0.017099642433675774, 0.12299961835163724, -0.04734561471993561, 0.23884319349223604, -0.03014654221513475, -0.006234170294123857, -0.0048345740736335805, 0.039066493996559856, -0.008216378412051481, -0.006131021120258385, -0.012549084865920011, -0.03271905806144916, 0.013259716238795472, -0.024042773930321358, 0.1489083317517556, 0.0010767261748490847, -0.004091844608965072, -0.0011274422514185739, -0.017504213796611497, 0.00837662173163174, -0.00686140888208274, -0.0131213102266235, 0.013198077949813201, 0.014396002574256913, 0.25509360447666374, 0.005528894403591027, 0.04042790508156556, 0.004106527864326686, 0.15477521381790976, -0.02166435769598696, 0.016924736712256815, -0.03020220894056186, 0.04970086154502736, -0.04196884645654226, 0.06553650063098888, 0.16742270505258233, 0.23188530191566223, 0.06832615094435066, -0.00042172289328523514, -0.0228705074536324, 0.01954243414465991, 0.007389450094103443], profit_history=[-7.470839960052542, 238.39220687835845, -1.8637150894457633, -21.01644637664668, 148.58860722367405, -64.230472428531, 308.6807856919376, -48.2670296064422, -9.680501277484755, -7.4603888362335855, 59.99332902494361, -13.11059185663401, -9.702677781877728, -19.737856562638804, -50.81644052554881, 19.920044768659324, -36.5983435660991, 221.22114663559012, 1.8378001832707769, -6.991647385538181, -1.9185537877118017, -29.753109747286107, 13.989086501199564, -11.554642693554824, -21.94473200065607, 21.783493876536266, 24.074269713600795, 432.7312963092728, 11.77153632883912, 86.5507118211713, 9.146947206017897, 346.1645587464377, -55.95313957141799, 42.76499639085172, -77.60577454548881, 123.85126242421516, -109.78148642010156, 164.23471239162438, 447.058536414333, 722.855341747426, 262.38282435023933, -1.7301329741198717, -93.78749066966397, 78.30687523826006, 30.188300448389455])\n"
     ]
    }
   ],
   "source": [
    "from src.mtal.backtesting.ma_cross_backtest import MACrossPriceAboveBacktester \n",
    "\n",
    "short_ema = 2 \n",
    "long_ema = 5\n",
    "\n",
    "df = get_pair_df(pair=\"BTCUSDT\", limit=500, frequency=\"1d\")\n",
    "\n",
    "tester = MACrossPriceAboveBacktester(short_ma=short_ema, long_ma=long_ema, data=df, ma_type=\"vwma\"\n",
    ")\n",
    "results = tester.run()\n",
    "\n",
    "entry_dates = [int(entry_date.timestamp() * 1000) for entry_date in results.entry_dates]\n",
    "exit_dates = [int(exit_date.timestamp() * 1000) for exit_date in results.exit_dates]\n",
    "\n",
    "print(results)"
   ]
  },
  {
   "cell_type": "code",
   "execution_count": 4,
   "metadata": {},
   "outputs": [
    {
     "name": "stdout",
     "output_type": "stream",
     "text": [
      "Meilleure combinaison: Short EMA = 2, Long EMA = 5\n",
      "Résultat du test: BacktestResults(pnl=3115.5126566516756, pnl_percentage=3.1155126566516755, max_drawdown=-0.04734561471993561, win_rate=0.5111111111111111, average_return=0.03486297837435225, trade_number=45, entry_dates=[Timestamp('2022-12-25 23:59:59.999000'), Timestamp('2023-01-02 23:59:59.999000'), Timestamp('2023-01-20 23:59:59.999000'), Timestamp('2023-02-01 23:59:59.999000'), Timestamp('2023-02-13 23:59:59.999000'), Timestamp('2023-03-02 23:59:59.999000'), Timestamp('2023-03-12 23:59:59.999000'), Timestamp('2023-03-26 23:59:59.999000'), Timestamp('2023-03-29 23:59:59.999000'), Timestamp('2023-04-05 23:59:59.999000'), Timestamp('2023-04-09 23:59:59.999000'), Timestamp('2023-04-25 23:59:59.999000'), Timestamp('2023-05-03 23:59:59.999000'), Timestamp('2023-05-15 23:59:59.999000'), Timestamp('2023-05-23 23:59:59.999000'), Timestamp('2023-05-27 23:59:59.999000'), Timestamp('2023-06-09 23:59:59.999000'), Timestamp('2023-06-16 23:59:59.999000'), Timestamp('2023-06-30 23:59:59.999000'), Timestamp('2023-07-08 23:59:59.999000'), Timestamp('2023-07-28 23:59:59.999000'), Timestamp('2023-08-01 23:59:59.999000'), Timestamp('2023-08-07 23:59:59.999000'), Timestamp('2023-08-28 23:59:59.999000'), Timestamp('2023-09-07 23:59:59.999000'), Timestamp('2023-09-13 23:59:59.999000'), Timestamp('2023-09-28 23:59:59.999000'), Timestamp('2023-10-15 23:59:59.999000'), Timestamp('2023-10-29 23:59:59.999000'), Timestamp('2023-11-06 23:59:59.999000'), Timestamp('2023-11-23 23:59:59.999000'), Timestamp('2023-11-29 23:59:59.999000'), Timestamp('2023-12-13 23:59:59.999000'), Timestamp('2023-12-19 23:59:59.999000'), Timestamp('2024-01-01 23:59:59.999000'), Timestamp('2024-01-05 23:59:59.999000'), Timestamp('2024-01-16 23:59:59.999000'), Timestamp('2024-01-25 23:59:59.999000'), Timestamp('2024-02-07 23:59:59.999000'), Timestamp('2024-02-25 23:59:59.999000'), Timestamp('2024-03-07 23:59:59.999000'), Timestamp('2024-03-25 23:59:59.999000'), Timestamp('2024-03-31 23:59:59.999000'), Timestamp('2024-04-05 23:59:59.999000'), Timestamp('2024-04-19 23:59:59.999000')], exit_dates=[Timestamp('2022-12-27 23:59:59.999000'), Timestamp('2023-01-18 23:59:59.999000'), Timestamp('2023-01-24 23:59:59.999000'), Timestamp('2023-02-04 23:59:59.999000'), Timestamp('2023-02-21 23:59:59.999000'), Timestamp('2023-03-03 23:59:59.999000'), Timestamp('2023-03-22 23:59:59.999000'), Timestamp('2023-03-27 23:59:59.999000'), Timestamp('2023-04-02 23:59:59.999000'), Timestamp('2023-04-06 23:59:59.999000'), Timestamp('2023-04-17 23:59:59.999000'), Timestamp('2023-05-01 23:59:59.999000'), Timestamp('2023-05-06 23:59:59.999000'), Timestamp('2023-05-18 23:59:59.999000'), Timestamp('2023-05-24 23:59:59.999000'), Timestamp('2023-05-31 23:59:59.999000'), Timestamp('2023-06-10 23:59:59.999000'), Timestamp('2023-06-26 23:59:59.999000'), Timestamp('2023-07-05 23:59:59.999000'), Timestamp('2023-07-09 23:59:59.999000'), Timestamp('2023-07-30 23:59:59.999000'), Timestamp('2023-08-02 23:59:59.999000'), Timestamp('2023-08-10 23:59:59.999000'), Timestamp('2023-08-31 23:59:59.999000'), Timestamp('2023-09-08 23:59:59.999000'), Timestamp('2023-09-21 23:59:59.999000'), Timestamp('2023-10-05 23:59:59.999000'), Timestamp('2023-10-28 23:59:59.999000'), Timestamp('2023-11-03 23:59:59.999000'), Timestamp('2023-11-13 23:59:59.999000'), Timestamp('2023-11-26 23:59:59.999000'), Timestamp('2023-12-09 23:59:59.999000'), Timestamp('2023-12-15 23:59:59.999000'), Timestamp('2023-12-24 23:59:59.999000'), Timestamp('2024-01-03 23:59:59.999000'), Timestamp('2024-01-11 23:59:59.999000'), Timestamp('2024-01-18 23:59:59.999000'), Timestamp('2024-01-31 23:59:59.999000'), Timestamp('2024-02-19 23:59:59.999000'), Timestamp('2024-03-05 23:59:59.999000'), Timestamp('2024-03-14 23:59:59.999000'), Timestamp('2024-03-29 23:59:59.999000'), Timestamp('2024-04-01 23:59:59.999000'), Timestamp('2024-04-09 23:59:59.999000'), Timestamp('2024-04-24 23:59:59.999000')], entry_prices=[16832.11, 16672.87, 22667.21, 23732.66, 21773.97, 23465.32, 21997.11, 27968.05, 28348.6, 28170.01, 28323.76, 28300.79, 29026.16, 27162.14, 27219.61, 26854.27, 26477.81, 26345.0, 30472.0, 30284.63, 29314.14, 29705.99, 29211.06, 26120.0, 26255.0, 26222.0, 27021.39, 27154.15, 34525.89, 35046.09, 37294.28, 37854.64, 42869.03, 42275.99, 44179.55, 44145.11, 43137.95, 39961.09, 44349.6, 51728.85, 66823.17, 69880.01, 71280.01, 67820.62, 63818.01], exit_prices=[16706.36, 20677.47, 22632.89, 23326.84, 24452.16, 22354.34, 27250.97, 27124.91, 28171.87, 28033.82, 29430.27, 28068.26, 28848.2, 26821.28, 26329.01, 27210.35, 25841.21, 30267.99, 30504.81, 30160.71, 29281.09, 29186.01, 29455.75, 25940.78, 25910.5, 26568.08, 27410.39, 34081.0, 34716.78, 36462.93, 37447.43, 43713.6, 41940.3, 42991.5, 42845.23, 46339.16, 41327.5, 42580.0, 51774.73, 63724.01, 71388.94, 69850.54, 69649.8, 69146.0, 64289.59], profit_pct_history=[-0.007470839960052542, 0.24018660254653232, -0.001514081353638128, -0.017099642433675774, 0.12299961835163724, -0.04734561471993561, 0.23884319349223604, -0.03014654221513475, -0.006234170294123857, -0.0048345740736335805, 0.039066493996559856, -0.008216378412051481, -0.006131021120258385, -0.012549084865920011, -0.03271905806144916, 0.013259716238795472, -0.024042773930321358, 0.1489083317517556, 0.0010767261748490847, -0.004091844608965072, -0.0011274422514185739, -0.017504213796611497, 0.00837662173163174, -0.00686140888208274, -0.0131213102266235, 0.013198077949813201, 0.014396002574256913, 0.25509360447666374, 0.005528894403591027, 0.04042790508156556, 0.004106527864326686, 0.15477521381790976, -0.02166435769598696, 0.016924736712256815, -0.03020220894056186, 0.04970086154502736, -0.04196884645654226, 0.06553650063098888, 0.16742270505258233, 0.23188530191566223, 0.06832615094435066, -0.00042172289328523514, -0.0228705074536324, 0.01954243414465991, 0.007389450094103443], profit_history=[-7.470839960052542, 238.39220687835845, -1.8637150894457633, -21.01644637664668, 148.58860722367405, -64.230472428531, 308.6807856919376, -48.2670296064422, -9.680501277484755, -7.4603888362335855, 59.99332902494361, -13.11059185663401, -9.702677781877728, -19.737856562638804, -50.81644052554881, 19.920044768659324, -36.5983435660991, 221.22114663559012, 1.8378001832707769, -6.991647385538181, -1.9185537877118017, -29.753109747286107, 13.989086501199564, -11.554642693554824, -21.94473200065607, 21.783493876536266, 24.074269713600795, 432.7312963092728, 11.77153632883912, 86.5507118211713, 9.146947206017897, 346.1645587464377, -55.95313957141799, 42.76499639085172, -77.60577454548881, 123.85126242421516, -109.78148642010156, 164.23471239162438, 447.058536414333, 722.855341747426, 262.38282435023933, -1.7301329741198717, -93.78749066966397, 78.30687523826006, 30.188300448389455])\n"
     ]
    }
   ],
   "source": [
    "from itertools import combinations\n",
    "from src.mtal.backtesting.ma_cross_backtest import MACrossPriceAboveBacktester \n",
    "\n",
    "ema_values = range(1, 60)  \n",
    "combinations = [(short_ema, long_ema) for short_ema, long_ema in combinations(ema_values, 2)]\n",
    "\n",
    "results = {}\n",
    "\n",
    "for short_ema, long_ema in combinations:\n",
    "    tester = MACrossPriceAboveBacktester(short_ma=short_ema, long_ma=long_ema, data=df, ma_type=\"vwma\")\n",
    "    test_results = tester.run()\n",
    "    results[(short_ema, long_ema)] = test_results\n",
    "\n",
    "best_combination = max(results, key=lambda x: results[x].pnl)  # Ajuster le critère si nécessaire\n",
    "best_result = results[best_combination]\n",
    "\n",
    "print(f\"Meilleure combinaison: Short EMA = {best_combination[0]}, Long EMA = {best_combination[1]}\")\n",
    "print(f\"Résultat du test: {best_result}\")"
   ]
  },
  {
   "cell_type": "markdown",
   "metadata": {},
   "source": [
    "EMA price above + close en dessous de la long: 2-5 nous donne un bon x3"
   ]
  },
  {
   "cell_type": "markdown",
   "metadata": {},
   "source": [
    "# HMA cross"
   ]
  },
  {
   "cell_type": "code",
   "execution_count": 4,
   "metadata": {},
   "outputs": [
    {
     "name": "stdout",
     "output_type": "stream",
     "text": [
      "BacktestResults(pnl=1050.1035746832313, pnl_percentage=1.0501035746832312, max_drawdown=-0.10308253424657529, win_rate=0.5714285714285714, average_return=0.12436630789771057, trade_number=7, entry_dates=[Timestamp('2023-02-22 23:59:59.999000'), Timestamp('2023-03-20 23:59:59.999000'), Timestamp('2023-06-01 23:59:59.999000'), Timestamp('2023-08-15 23:59:59.999000'), Timestamp('2023-09-10 23:59:59.999000'), Timestamp('2023-12-09 23:59:59.999000'), Timestamp('2024-02-08 23:59:59.999000')], exit_dates=[Timestamp('2023-02-24 23:59:59.999000'), Timestamp('2023-04-11 23:59:59.999000'), Timestamp('2023-07-16 23:59:59.999000'), Timestamp('2023-08-20 23:59:59.999000'), Timestamp('2023-11-17 23:59:59.999000'), Timestamp('2023-12-26 23:59:59.999000'), Timestamp('2024-03-22 23:59:59.999000')], entry_prices=[24182.21, 27717.01, 26817.93, 29200.0, 25841.61, 43713.6, 45288.65], exit_prices=[23185.29, 30200.42, 30231.99, 26189.99, 36613.92, 42508.93, 63796.64], profit_pct_history=[-0.04122534706298549, 0.08959876985288096, 0.1273051275769607, -0.10308253424657529, 0.41685908888803747, -0.027558242743676985, 0.4086672930193326], profit_history=[-41.225347062985485, 85.90502946927937, 132.99308024579204, -121.3974928873426, 440.31794656909693, -41.24347914426825, 594.7538374936595])\n"
     ]
    }
   ],
   "source": [
    "from src.mtal.backtesting.ma_cross_backtest import MACrossBacktester \n",
    "\n",
    "short_ema = 53 \n",
    "long_ema = 55 \n",
    "\n",
    "df = get_pair_df(pair=\"BTCUSDT\", limit=500, frequency=\"1d\")\n",
    "\n",
    "tester = MACrossBacktester(short_ma=short_ema, long_ma=long_ema, data=df, ma_type=\"hma\"\n",
    ")\n",
    "results = tester.run()\n",
    "\n",
    "entry_dates = [int(entry_date.timestamp() * 1000) for entry_date in results.entry_dates]\n",
    "exit_dates = [int(exit_date.timestamp() * 1000) for exit_date in results.exit_dates]\n",
    "\n",
    "print(results)"
   ]
  },
  {
   "cell_type": "code",
   "execution_count": 5,
   "metadata": {},
   "outputs": [
    {
     "name": "stdout",
     "output_type": "stream",
     "text": [
      "Meilleure combinaison: Short EMA = 6, Long EMA = 15\n",
      "Résultat du test: BacktestResults(pnl=2716.3159239382962, pnl_percentage=2.7163159239382964, max_drawdown=-0.04331413447480797, win_rate=0.5121951219512195, average_return=0.035472466141545, trade_number=41, entry_dates=[Timestamp('2023-01-01 23:59:59.999000'), Timestamp('2023-01-21 23:59:59.999000'), Timestamp('2023-02-13 23:59:59.999000'), Timestamp('2023-03-07 23:59:59.999000'), Timestamp('2023-03-12 23:59:59.999000'), Timestamp('2023-03-30 23:59:59.999000'), Timestamp('2023-04-09 23:59:59.999000'), Timestamp('2023-04-24 23:59:59.999000'), Timestamp('2023-05-05 23:59:59.999000'), Timestamp('2023-05-14 23:59:59.999000'), Timestamp('2023-05-23 23:59:59.999000'), Timestamp('2023-05-27 23:59:59.999000'), Timestamp('2023-06-08 23:59:59.999000'), Timestamp('2023-06-13 23:59:59.999000'), Timestamp('2023-06-16 23:59:59.999000'), Timestamp('2023-07-03 23:59:59.999000'), Timestamp('2023-07-10 23:59:59.999000'), Timestamp('2023-07-21 23:59:59.999000'), Timestamp('2023-07-28 23:59:59.999000'), Timestamp('2023-08-07 23:59:59.999000'), Timestamp('2023-08-21 23:59:59.999000'), Timestamp('2023-09-13 23:59:59.999000'), Timestamp('2023-09-19 23:59:59.999000'), Timestamp('2023-09-27 23:59:59.999000'), Timestamp('2023-10-15 23:59:59.999000'), Timestamp('2023-11-08 23:59:59.999000'), Timestamp('2023-11-19 23:59:59.999000'), Timestamp('2023-11-23 23:59:59.999000'), Timestamp('2023-12-01 23:59:59.999000'), Timestamp('2023-12-18 23:59:59.999000'), Timestamp('2024-01-01 23:59:59.999000'), Timestamp('2024-01-08 23:59:59.999000'), Timestamp('2024-01-17 23:59:59.999000'), Timestamp('2024-01-25 23:59:59.999000'), Timestamp('2024-02-07 23:59:59.999000'), Timestamp('2024-02-26 23:59:59.999000'), Timestamp('2024-03-11 23:59:59.999000'), Timestamp('2024-03-21 23:59:59.999000'), Timestamp('2024-04-05 23:59:59.999000'), Timestamp('2024-04-18 23:59:59.999000'), Timestamp('2024-05-03 23:59:59.999000')], exit_dates=[Timestamp('2023-01-17 23:59:59.999000'), Timestamp('2023-01-22 23:59:59.999000'), Timestamp('2023-02-19 23:59:59.999000'), Timestamp('2023-03-08 23:59:59.999000'), Timestamp('2023-03-20 23:59:59.999000'), Timestamp('2023-04-02 23:59:59.999000'), Timestamp('2023-04-15 23:59:59.999000'), Timestamp('2023-04-30 23:59:59.999000'), Timestamp('2023-05-06 23:59:59.999000'), Timestamp('2023-05-21 23:59:59.999000'), Timestamp('2023-05-24 23:59:59.999000'), Timestamp('2023-05-31 23:59:59.999000'), Timestamp('2023-06-10 23:59:59.999000'), Timestamp('2023-06-14 23:59:59.999000'), Timestamp('2023-06-24 23:59:59.999000'), Timestamp('2023-07-04 23:59:59.999000'), Timestamp('2023-07-14 23:59:59.999000'), Timestamp('2023-07-24 23:59:59.999000'), Timestamp('2023-08-02 23:59:59.999000'), Timestamp('2023-08-11 23:59:59.999000'), Timestamp('2023-08-31 23:59:59.999000'), Timestamp('2023-09-17 23:59:59.999000'), Timestamp('2023-09-20 23:59:59.999000'), Timestamp('2023-10-03 23:59:59.999000'), Timestamp('2023-10-26 23:59:59.999000'), Timestamp('2023-11-12 23:59:59.999000'), Timestamp('2023-11-21 23:59:59.999000'), Timestamp('2023-11-26 23:59:59.999000'), Timestamp('2023-12-07 23:59:59.999000'), Timestamp('2023-12-23 23:59:59.999000'), Timestamp('2024-01-03 23:59:59.999000'), Timestamp('2024-01-11 23:59:59.999000'), Timestamp('2024-01-18 23:59:59.999000'), Timestamp('2024-01-31 23:59:59.999000'), Timestamp('2024-02-13 23:59:59.999000'), Timestamp('2024-03-02 23:59:59.999000'), Timestamp('2024-03-14 23:59:59.999000'), Timestamp('2024-03-22 23:59:59.999000'), Timestamp('2024-04-09 23:59:59.999000'), Timestamp('2024-04-24 23:59:59.999000'), Timestamp('2024-05-07 23:59:59.999000')], entry_prices=[16616.75, 22783.55, 21773.97, 22197.96, 21997.11, 28028.53, 28323.76, 27510.93, 29505.61, 26917.62, 27219.61, 26854.27, 26498.61, 25934.25, 26345.0, 31156.2, 30411.57, 29901.72, 29314.14, 29211.06, 26126.92, 26222.0, 27210.26, 26372.99, 27154.15, 35624.72, 37359.86, 37294.28, 38682.52, 42657.8, 44179.55, 46951.04, 42776.1, 39961.09, 44349.6, 54476.47, 72078.1, 65501.27, 67820.62, 63470.08, 62882.01], exit_prices=[21134.81, 22707.88, 24271.76, 21705.44, 27717.01, 28171.87, 30295.09, 29233.21, 28848.2, 26747.78, 26329.01, 27210.35, 25841.21, 25128.6, 30527.43, 30766.51, 30312.01, 29176.5, 29186.01, 29426.03, 25940.78, 26527.51, 27125.0, 27426.46, 34151.66, 37064.13, 35741.65, 37447.43, 43273.14, 43702.16, 42845.23, 46339.16, 41327.5, 42580.0, 49699.59, 61987.28, 71388.94, 63796.64, 69146.0, 64289.59, 62312.08], profit_pct_history=[0.2718979343132683, -0.003321255906125176, 0.11471449625401325, -0.022187624448372755, 0.2600296129809779, 0.005114074837317553, 0.06959986950885058, 0.06260348159804117, -0.02228084760830228, -0.006309621727329539, -0.03271905806144916, 0.013259716238795472, -0.02480884846412704, -0.031065097313398363, 0.15875612070601633, -0.012507622880839201, -0.0032737540350597258, -0.024253454316340368, -0.004370928159584454, 0.00735919887878076, -0.007124452480430124, 0.011650903821218762, -0.0031333768953328046, 0.03994503467373239, 0.25769578499050794, 0.04040480879569008, -0.04331413447480797, 0.004106527864326686, 0.11867427458190426, 0.024482275222819753, -0.03020220894056186, -0.01303229917803732, -0.03386470482348785, 0.06553650063098888, 0.12063220412359972, 0.1378725530490503, -0.009561295317162958, -0.026024380901316837, 0.01954243414465991, 0.012911753065381275, -0.009063482544530627], profit_history=[271.8979343132683, -4.224298526326353, 145.4205425437925, -31.353202938984207, 359.29357107107563, 8.903780964966113, 121.79547923751053, 117.17705292200282, -44.31461976896224, -12.26966668564114, -63.223905340009956, 24.783770996106696, -46.98514166817652, -57.37416852329379, 284.09838483428825, -25.936125918089225, -6.703631394921389, -49.50095479632402, -8.704636997484014, 14.591673562167783, -14.230180744775067, 23.105392711216055, -6.286328152340265, 79.88850037445194, 535.968377944648, 105.69160997321573, -117.87981589608175, 10.691876655240572, 310.2526803305999, 71.60022437990685, -90.4910784696506, -37.86773143658398, -97.11772084284439, 181.58182794107645, 356.13997997523677, 456.14023649127853, -35.99406692677842, -97.03361196755243, 70.96897515409006, 47.80577844757445, -33.99083989059833])\n"
     ]
    }
   ],
   "source": [
    "from itertools import combinations\n",
    "from src.mtal.backtesting.ma_cross_backtest import MACrossPriceAboveBacktester \n",
    "\n",
    "ema_values = range(2, 60)  \n",
    "combinations = [(short_ema, long_ema) for short_ema, long_ema in combinations(ema_values, 2)]\n",
    "\n",
    "results = {}\n",
    "\n",
    "for short_ema, long_ema in combinations:\n",
    "    tester = MACrossPriceAboveBacktester(short_ma=short_ema, long_ma=long_ema, data=df, ma_type=\"hma\")\n",
    "    test_results = tester.run()\n",
    "    results[(short_ema, long_ema)] = test_results\n",
    "\n",
    "best_combination = max(results, key=lambda x: results[x].pnl)\n",
    "best_result = results[best_combination]\n",
    "\n",
    "print(f\"Meilleure combinaison: Short EMA = {best_combination[0]}, Long EMA = {best_combination[1]}\")\n",
    "print(f\"Résultat du test: {best_result}\")"
   ]
  }
 ],
 "metadata": {
  "kernelspec": {
   "display_name": ".venv",
   "language": "python",
   "name": "python3"
  },
  "language_info": {
   "codemirror_mode": {
    "name": "ipython",
    "version": 3
   },
   "file_extension": ".py",
   "mimetype": "text/x-python",
   "name": "python",
   "nbconvert_exporter": "python",
   "pygments_lexer": "ipython3",
   "version": "3.10.12"
  }
 },
 "nbformat": 4,
 "nbformat_minor": 2
}
