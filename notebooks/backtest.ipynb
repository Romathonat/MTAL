{
 "cells": [
  {
   "cell_type": "markdown",
   "metadata": {},
   "source": [
    "# Data"
   ]
  },
  {
   "cell_type": "code",
   "execution_count": 9,
   "metadata": {},
   "outputs": [
    {
     "data": {
      "text/html": [
       "<div>\n",
       "<style scoped>\n",
       "    .dataframe tbody tr th:only-of-type {\n",
       "        vertical-align: middle;\n",
       "    }\n",
       "\n",
       "    .dataframe tbody tr th {\n",
       "        vertical-align: top;\n",
       "    }\n",
       "\n",
       "    .dataframe thead th {\n",
       "        text-align: right;\n",
       "    }\n",
       "</style>\n",
       "<table border=\"1\" class=\"dataframe\">\n",
       "  <thead>\n",
       "    <tr style=\"text-align: right;\">\n",
       "      <th></th>\n",
       "      <th>Open Time</th>\n",
       "      <th>Open</th>\n",
       "      <th>High</th>\n",
       "      <th>Low</th>\n",
       "      <th>Close</th>\n",
       "      <th>Volume</th>\n",
       "      <th>Close Time</th>\n",
       "    </tr>\n",
       "  </thead>\n",
       "  <tbody>\n",
       "    <tr>\n",
       "      <th>0</th>\n",
       "      <td>2021-11-22</td>\n",
       "      <td>58617.70</td>\n",
       "      <td>59444.00</td>\n",
       "      <td>55610.00</td>\n",
       "      <td>56247.18</td>\n",
       "      <td>51724.320470</td>\n",
       "      <td>2021-11-22 23:59:59.999</td>\n",
       "    </tr>\n",
       "    <tr>\n",
       "      <th>1</th>\n",
       "      <td>2021-11-23</td>\n",
       "      <td>56243.83</td>\n",
       "      <td>58009.99</td>\n",
       "      <td>55317.00</td>\n",
       "      <td>57541.27</td>\n",
       "      <td>49917.850170</td>\n",
       "      <td>2021-11-23 23:59:59.999</td>\n",
       "    </tr>\n",
       "    <tr>\n",
       "      <th>2</th>\n",
       "      <td>2021-11-24</td>\n",
       "      <td>57541.26</td>\n",
       "      <td>57735.00</td>\n",
       "      <td>55837.00</td>\n",
       "      <td>57138.29</td>\n",
       "      <td>39612.049640</td>\n",
       "      <td>2021-11-24 23:59:59.999</td>\n",
       "    </tr>\n",
       "    <tr>\n",
       "      <th>3</th>\n",
       "      <td>2021-11-25</td>\n",
       "      <td>57138.29</td>\n",
       "      <td>59398.90</td>\n",
       "      <td>57000.00</td>\n",
       "      <td>58960.36</td>\n",
       "      <td>42153.515220</td>\n",
       "      <td>2021-11-25 23:59:59.999</td>\n",
       "    </tr>\n",
       "    <tr>\n",
       "      <th>4</th>\n",
       "      <td>2021-11-26</td>\n",
       "      <td>58960.37</td>\n",
       "      <td>59150.00</td>\n",
       "      <td>53500.00</td>\n",
       "      <td>53726.53</td>\n",
       "      <td>65927.870660</td>\n",
       "      <td>2021-11-26 23:59:59.999</td>\n",
       "    </tr>\n",
       "    <tr>\n",
       "      <th>5</th>\n",
       "      <td>2021-11-27</td>\n",
       "      <td>53723.72</td>\n",
       "      <td>55280.00</td>\n",
       "      <td>53610.00</td>\n",
       "      <td>54721.03</td>\n",
       "      <td>29716.999570</td>\n",
       "      <td>2021-11-27 23:59:59.999</td>\n",
       "    </tr>\n",
       "    <tr>\n",
       "      <th>6</th>\n",
       "      <td>2021-11-28</td>\n",
       "      <td>54716.47</td>\n",
       "      <td>57445.05</td>\n",
       "      <td>53256.64</td>\n",
       "      <td>57274.88</td>\n",
       "      <td>36163.713700</td>\n",
       "      <td>2021-11-28 23:59:59.999</td>\n",
       "    </tr>\n",
       "    <tr>\n",
       "      <th>7</th>\n",
       "      <td>2021-11-29</td>\n",
       "      <td>57274.89</td>\n",
       "      <td>58865.97</td>\n",
       "      <td>56666.67</td>\n",
       "      <td>57776.25</td>\n",
       "      <td>40125.280090</td>\n",
       "      <td>2021-11-29 23:59:59.999</td>\n",
       "    </tr>\n",
       "    <tr>\n",
       "      <th>8</th>\n",
       "      <td>2021-11-30</td>\n",
       "      <td>57776.25</td>\n",
       "      <td>59176.99</td>\n",
       "      <td>55875.55</td>\n",
       "      <td>56950.56</td>\n",
       "      <td>49161.051940</td>\n",
       "      <td>2021-11-30 23:59:59.999</td>\n",
       "    </tr>\n",
       "    <tr>\n",
       "      <th>9</th>\n",
       "      <td>2021-12-01</td>\n",
       "      <td>56950.56</td>\n",
       "      <td>59053.55</td>\n",
       "      <td>56458.01</td>\n",
       "      <td>57184.07</td>\n",
       "      <td>44956.636560</td>\n",
       "      <td>2021-12-01 23:59:59.999</td>\n",
       "    </tr>\n",
       "    <tr>\n",
       "      <th>10</th>\n",
       "      <td>2021-12-02</td>\n",
       "      <td>57184.07</td>\n",
       "      <td>57375.47</td>\n",
       "      <td>55777.77</td>\n",
       "      <td>56480.34</td>\n",
       "      <td>37574.059760</td>\n",
       "      <td>2021-12-02 23:59:59.999</td>\n",
       "    </tr>\n",
       "    <tr>\n",
       "      <th>11</th>\n",
       "      <td>2021-12-03</td>\n",
       "      <td>56484.26</td>\n",
       "      <td>57600.00</td>\n",
       "      <td>51680.00</td>\n",
       "      <td>53601.05</td>\n",
       "      <td>58927.690270</td>\n",
       "      <td>2021-12-03 23:59:59.999</td>\n",
       "    </tr>\n",
       "    <tr>\n",
       "      <th>12</th>\n",
       "      <td>2021-12-04</td>\n",
       "      <td>53601.05</td>\n",
       "      <td>53859.10</td>\n",
       "      <td>42000.30</td>\n",
       "      <td>49152.47</td>\n",
       "      <td>114203.373748</td>\n",
       "      <td>2021-12-04 23:59:59.999</td>\n",
       "    </tr>\n",
       "    <tr>\n",
       "      <th>13</th>\n",
       "      <td>2021-12-05</td>\n",
       "      <td>49152.46</td>\n",
       "      <td>49699.05</td>\n",
       "      <td>47727.21</td>\n",
       "      <td>49396.33</td>\n",
       "      <td>45580.820120</td>\n",
       "      <td>2021-12-05 23:59:59.999</td>\n",
       "    </tr>\n",
       "  </tbody>\n",
       "</table>\n",
       "</div>"
      ],
      "text/plain": [
       "    Open Time      Open      High       Low     Close         Volume  \\\n",
       "0  2021-11-22  58617.70  59444.00  55610.00  56247.18   51724.320470   \n",
       "1  2021-11-23  56243.83  58009.99  55317.00  57541.27   49917.850170   \n",
       "2  2021-11-24  57541.26  57735.00  55837.00  57138.29   39612.049640   \n",
       "3  2021-11-25  57138.29  59398.90  57000.00  58960.36   42153.515220   \n",
       "4  2021-11-26  58960.37  59150.00  53500.00  53726.53   65927.870660   \n",
       "5  2021-11-27  53723.72  55280.00  53610.00  54721.03   29716.999570   \n",
       "6  2021-11-28  54716.47  57445.05  53256.64  57274.88   36163.713700   \n",
       "7  2021-11-29  57274.89  58865.97  56666.67  57776.25   40125.280090   \n",
       "8  2021-11-30  57776.25  59176.99  55875.55  56950.56   49161.051940   \n",
       "9  2021-12-01  56950.56  59053.55  56458.01  57184.07   44956.636560   \n",
       "10 2021-12-02  57184.07  57375.47  55777.77  56480.34   37574.059760   \n",
       "11 2021-12-03  56484.26  57600.00  51680.00  53601.05   58927.690270   \n",
       "12 2021-12-04  53601.05  53859.10  42000.30  49152.47  114203.373748   \n",
       "13 2021-12-05  49152.46  49699.05  47727.21  49396.33   45580.820120   \n",
       "\n",
       "                Close Time  \n",
       "0  2021-11-22 23:59:59.999  \n",
       "1  2021-11-23 23:59:59.999  \n",
       "2  2021-11-24 23:59:59.999  \n",
       "3  2021-11-25 23:59:59.999  \n",
       "4  2021-11-26 23:59:59.999  \n",
       "5  2021-11-27 23:59:59.999  \n",
       "6  2021-11-28 23:59:59.999  \n",
       "7  2021-11-29 23:59:59.999  \n",
       "8  2021-11-30 23:59:59.999  \n",
       "9  2021-12-01 23:59:59.999  \n",
       "10 2021-12-02 23:59:59.999  \n",
       "11 2021-12-03 23:59:59.999  \n",
       "12 2021-12-04 23:59:59.999  \n",
       "13 2021-12-05 23:59:59.999  "
      ]
     },
     "execution_count": 9,
     "metadata": {},
     "output_type": "execute_result"
    }
   ],
   "source": [
    "from src.mtal.data_collect import get_pair_df\n",
    "from src.mtal.data_collect import get_spot_pairs\n",
    "\n",
    "cryptos = get_spot_pairs()\n",
    "\n",
    "# df = get_pair_df(pair=\"BTCUSDT\")\n",
    "df = get_pair_df(pair=\"BTCUSDT\", limit=900, frequency=\"1d\")\n",
    "df.head(14)"
   ]
  },
  {
   "cell_type": "markdown",
   "metadata": {},
   "source": [
    "# EMA backtest"
   ]
  },
  {
   "cell_type": "code",
   "execution_count": 10,
   "metadata": {},
   "outputs": [
    {
     "name": "stdout",
     "output_type": "stream",
     "text": [
      "BacktestResults(pnl=1218.030106374897, pnl_percentage=1.218030106374897, max_drawdown=-0.13966291910500764, win_rate=0.6666666666666666, average_return=0.3887905408521121, trade_number=3, entry_dates=[Timestamp('2022-04-04 23:59:59.999000'), Timestamp('2023-01-18 23:59:59.999000'), Timestamp('2023-10-21 23:59:59.999000')], exit_dates=[Timestamp('2022-04-12 23:59:59.999000'), Timestamp('2023-08-22 23:59:59.999000'), Timestamp('2024-05-08 23:59:59.999000')], entry_prices=[46580.51, 20677.47, 29909.8], exit_prices=[40074.94, 26056.0, 61193.03], profit_pct_history=[-0.13966291910500764, 0.26011547834430415, 1.0459190633170399], profit_history=[-139.66291910500763, 223.78699133434324, 1133.9060341455615])\n"
     ]
    }
   ],
   "source": [
    "from src.mtal.utils import generate_pinescript\n",
    "from src.mtal.backtesting.ma_cross_backtest import MACrossBacktester \n",
    "\n",
    "short_ema = 55 \n",
    "long_ema = 59 \n",
    "\n",
    "df = get_pair_df(pair=\"BTCUSDT\", limit=900, frequency=\"1d\")\n",
    "\n",
    "tester = MACrossBacktester(\n",
    "    short_ma=short_ema, long_ma=long_ema, data=df\n",
    ")\n",
    "results = tester.run()\n",
    "\n",
    "entry_dates = [int(entry_date.timestamp() * 1000) for entry_date in results.entry_dates]\n",
    "exit_dates = [int(exit_date.timestamp() * 1000) for exit_date in results.exit_dates]\n",
    "\n",
    "print(results)\n"
   ]
  },
  {
   "cell_type": "code",
   "execution_count": 4,
   "metadata": {},
   "outputs": [
    {
     "name": "stdout",
     "output_type": "stream",
     "text": [
      "Meilleure combinaison: Short EMA = 55, Long EMA = 59\n",
      "Résultat du test: BacktestResults(pnl=2697.621393230537, pnl_percentage=1.6976213932305368, max_drawdown=0.25442455932371505, win_rate=1.0, average_return=0.7024548572963697, trade_number=2, entry_dates=[Timestamp('2023-01-19 23:59:59.999000'), Timestamp('2023-10-22 23:59:59.999000')], exit_dates=[Timestamp('2023-08-23 23:59:59.999000'), Timestamp('2024-04-25 23:59:59.999000')], entry_prices=[21071.59, 29992.46], exit_prices=[26432.72, 64498.34])\n"
     ]
    }
   ],
   "source": [
    "from itertools import combinations\n",
    "from src.mtal.backtesting.ma_cross_backtest import MACrossBacktester\n",
    "\n",
    "\n",
    "ema_values = range(1, 60)  \n",
    "\n",
    "combinations = [(short_ema, long_ema) for short_ema, long_ema in combinations(ema_values, 2)]\n",
    "\n",
    "results = {}\n",
    "\n",
    "for short_ema, long_ema in combinations:\n",
    "    tester = MACrossBacktester(short_ma=short_ema, long_ma=long_ema, data=df)\n",
    "    test_results = tester.run()\n",
    "    results[(short_ema, long_ema)] = test_results\n",
    "\n",
    "best_combination = max(results, key=lambda x: results[x].pnl)  # Ajuster le critère si nécessaire\n",
    "best_result = results[best_combination]\n",
    "\n",
    "print(f\"Meilleure combinaison: Short EMA = {best_combination[0]}, Long EMA = {best_combination[1]}\")\n",
    "print(f\"Résultat du test: {best_result}\")\n"
   ]
  },
  {
   "cell_type": "markdown",
   "metadata": {},
   "source": [
    "# EMA  price above"
   ]
  },
  {
   "cell_type": "code",
   "execution_count": 11,
   "metadata": {},
   "outputs": [
    {
     "name": "stdout",
     "output_type": "stream",
     "text": [
      "BacktestResults(pnl=506.089915434442, pnl_percentage=0.506089915434442, max_drawdown=-0.10084847979491436, win_rate=0.3333333333333333, average_return=0.06034990954966727, trade_number=9, entry_dates=[Timestamp('2021-11-28 23:59:59.999000'), Timestamp('2022-03-24 23:59:59.999000'), Timestamp('2022-08-12 23:59:59.999000'), Timestamp('2022-10-30 23:59:59.999000'), Timestamp('2023-01-12 23:59:59.999000'), Timestamp('2023-03-13 23:59:59.999000'), Timestamp('2023-06-22 23:59:59.999000'), Timestamp('2023-10-05 23:59:59.999000'), Timestamp('2024-01-27 23:59:59.999000')], exit_dates=[Timestamp('2021-12-03 23:59:59.999000'), Timestamp('2022-04-08 23:59:59.999000'), Timestamp('2022-08-17 23:59:59.999000'), Timestamp('2022-11-08 23:59:59.999000'), Timestamp('2023-03-03 23:59:59.999000'), Timestamp('2023-04-21 23:59:59.999000'), Timestamp('2023-07-24 23:59:59.999000'), Timestamp('2023-10-11 23:59:59.999000'), Timestamp('2024-04-13 23:59:59.999000')], entry_prices=[57274.88, 43991.46, 24403.68, 20627.48, 18846.62, 24113.48, 29884.92, 27410.39, 42120.63], exit_prices=[53601.05, 42252.01, 23342.66, 18547.23, 22354.34, 27262.84, 29176.5, 26875.52, 63924.51], profit_pct_history=[-0.06414382710186375, -0.0395406290220874, -0.04347786891157401, -0.10084847979491436, 0.18611931476307164, 0.13060578564354877, -0.02370493211961077, -0.01951340349407648, 0.5176532259845118], profit_history=[-64.14382710186375, -37.00434175059569, -39.08016208556102, -86.70666579563684, 143.88232867524343, 119.75862668198675, -24.575044377167806, -19.75011891851862, 513.7091201065559])\n"
     ]
    }
   ],
   "source": [
    "from src.mtal.utils import generate_pinescript\n",
    "from src.mtal.backtesting.ma_cross_backtest import MACrossPriceAboveBacktester \n",
    "\n",
    "short_ema = 19 \n",
    "long_ema = 47 \n",
    "\n",
    "df = get_pair_df(pair=\"BTCUSDT\", limit=900, frequency=\"1d\")\n",
    "\n",
    "tester = MACrossPriceAboveBacktester(\n",
    "    short_ma=short_ema, long_ma=long_ema, data=df\n",
    ")\n",
    "results = tester.run()\n",
    "\n",
    "entry_dates = [int(entry_date.timestamp() * 1000) for entry_date in results.entry_dates]\n",
    "exit_dates = [int(exit_date.timestamp() * 1000) for exit_date in results.exit_dates]\n",
    "\n",
    "print(results)"
   ]
  },
  {
   "cell_type": "code",
   "execution_count": 12,
   "metadata": {},
   "outputs": [
    {
     "name": "stdout",
     "output_type": "stream",
     "text": [
      "Meilleure combinaison: Short EMA = 19, Long EMA = 47\n",
      "Résultat du test: BacktestResults(pnl=2607.640337455214, pnl_percentage=2.6076403374552144, max_drawdown=-0.03862851230654122, win_rate=0.75, average_return=0.40636658069417786, trade_number=4, entry_dates=[Timestamp('2022-12-21 00:00:00'), Timestamp('2023-06-23 00:00:00'), Timestamp('2023-10-06 00:00:00'), Timestamp('2024-01-28 00:00:00')], exit_dates=[Timestamp('2023-05-18 00:00:00'), Timestamp('2023-08-17 00:00:00'), Timestamp('2024-01-27 00:00:00'), Timestamp('2024-04-30 00:00:00')], entry_prices=[16896.15, 29884.92, 27410.39, 42120.63], exit_prices=[27405.62, 28730.51, 41823.51, 63866.0], profit_pct_history=[0.6220038292747162, -0.03862851230654122, 0.5258268853525981, 0.5162641204559382], profit_history=[622.0038292747162, -62.65559488039536, 819.947225271639, 1228.344877789254])\n"
     ]
    }
   ],
   "source": [
    "from itertools import combinations\n",
    "from src.mtal.backtesting.ma_cross_backtest import MACrossPriceAboveBacktester\n",
    "\n",
    "\n",
    "ema_values = range(1, 60)  \n",
    "\n",
    "combinations = [(short_ema, long_ema) for short_ema, long_ema in combinations(ema_values, 2)]\n",
    "\n",
    "results = {}\n",
    "\n",
    "for short_ema, long_ema in combinations:\n",
    "    tester = MACrossPriceAboveBacktester(short_ma=short_ema, long_ma=long_ema, data=df)\n",
    "    test_results = tester.run()\n",
    "    results[(short_ema, long_ema)] = test_results\n",
    "\n",
    "best_combination = max(results, key=lambda x: results[x].pnl)  # Ajuster le critère si nécessaire\n",
    "best_result = results[best_combination]\n",
    "\n",
    "print(f\"Meilleure combinaison: Short EMA = {best_combination[0]}, Long EMA = {best_combination[1]}\")\n",
    "print(f\"Résultat du test: {best_result}\")\n"
   ]
  },
  {
   "cell_type": "markdown",
   "metadata": {},
   "source": [
    "# VWMA cross "
   ]
  },
  {
   "cell_type": "code",
   "execution_count": 13,
   "metadata": {},
   "outputs": [
    {
     "name": "stdout",
     "output_type": "stream",
     "text": [
      "BacktestResults(pnl=1159.5127621144893, pnl_percentage=1.1595127621144894, max_drawdown=-0.2459359246307465, win_rate=0.4375, average_return=0.07763763819426156, trade_number=16, entry_dates=[Timestamp('2022-03-18 23:59:59.999000'), Timestamp('2022-04-15 23:59:59.999000'), Timestamp('2022-04-29 23:59:59.999000'), Timestamp('2022-08-11 23:59:59.999000'), Timestamp('2022-09-20 23:59:59.999000'), Timestamp('2022-11-01 23:59:59.999000'), Timestamp('2022-11-16 23:59:59.999000'), Timestamp('2022-11-20 23:59:59.999000'), Timestamp('2023-01-05 23:59:59.999000'), Timestamp('2023-01-08 23:59:59.999000'), Timestamp('2023-04-16 23:59:59.999000'), Timestamp('2023-04-19 23:59:59.999000'), Timestamp('2023-05-28 23:59:59.999000'), Timestamp('2023-07-04 23:59:59.999000'), Timestamp('2023-10-13 23:59:59.999000'), Timestamp('2024-02-05 23:59:59.999000')], exit_dates=[Timestamp('2022-04-03 23:59:59.999000'), Timestamp('2022-04-26 23:59:59.999000'), Timestamp('2022-05-11 23:59:59.999000'), Timestamp('2022-09-12 23:59:59.999000'), Timestamp('2022-09-21 23:59:59.999000'), Timestamp('2022-11-04 23:59:59.999000'), Timestamp('2022-11-18 23:59:59.999000'), Timestamp('2022-11-21 23:59:59.999000'), Timestamp('2023-01-06 23:59:59.999000'), Timestamp('2023-04-15 23:59:59.999000'), Timestamp('2023-04-17 23:59:59.999000'), Timestamp('2023-05-27 23:59:59.999000'), Timestamp('2023-06-05 23:59:59.999000'), Timestamp('2023-08-17 23:59:59.999000'), Timestamp('2024-01-31 23:59:59.999000'), Timestamp('2024-05-03 23:59:59.999000')], entry_prices=[41757.51, 40551.9, 38596.11, 23934.39, 18875.0, 20483.62, 16662.76, 16280.23, 16831.85, 17127.83, 30304.65, 28797.1, 28065.0, 30766.51, 26862.0, 42708.7], exit_prices=[46407.35, 38112.65, 29103.94, 22395.74, 18461.36, 21148.52, 16700.45, 15781.29, 16950.65, 30295.09, 29430.27, 26854.27, 25728.2, 26623.41, 42580.0, 62882.01], profit_pct_history=[0.111353382900465, -0.0601513122689689, -0.2459359246307465, -0.06428615895370628, -0.021914701986754936, 0.032460082739281505, 0.002261930196438185, -0.030646987174014047, 0.007058047689351018, 0.7687640524222856, -0.028852997807267234, -0.06746616846835266, -0.08326385177267057, -0.13466265754549342, 0.5851388578661306, 0.47234661790220744], profit_history=[111.353382900465, -66.84936437602083, -256.88106157633956, -50.633254605954015, -16.15090969413546, 23.398486851038363, 1.683412775813915, -22.86022188897955, 5.103395282268177, 559.7862041985286, -37.16122054173314, -84.38593122689414, -97.11919967972706, -143.99258719233944, 541.4237957192363, 692.7978351692615])\n"
     ]
    }
   ],
   "source": [
    "from src.mtal.utils import generate_pinescript\n",
    "from src.mtal.backtesting.ma_cross_backtest import MACrossBacktester \n",
    "\n",
    "short_ema = 56 \n",
    "long_ema = 58 \n",
    "\n",
    "df = get_pair_df(pair=\"BTCUSDT\", limit=900, frequency=\"1d\")\n",
    "\n",
    "tester = MACrossBacktester(short_ma=short_ema, long_ma=long_ema, data=df, ma_type=\"vwma\"\n",
    ")\n",
    "results = tester.run()\n",
    "\n",
    "entry_dates = [int(entry_date.timestamp() * 1000) for entry_date in results.entry_dates]\n",
    "exit_dates = [int(exit_date.timestamp() * 1000) for exit_date in results.exit_dates]\n",
    "\n",
    "print(results)\n",
    "# print(generate_pinescript(entry_dates, exit_dates))\n",
    "\n"
   ]
  },
  {
   "cell_type": "code",
   "execution_count": 6,
   "metadata": {},
   "outputs": [
    {
     "name": "stderr",
     "output_type": "stream",
     "text": [
      "/home/romain/mtal/src/mtal/analysis.py:64: PerformanceWarning: DataFrame is highly fragmented.  This is usually the result of calling `frame.insert` many times, which has poor performance.  Consider joining all columns at once using pd.concat(axis=1) instead. To get a de-fragmented frame, use `newframe = frame.copy()`\n",
      "  df[get_ma_names(span, \"vwma\")] = vwma\n",
      "/home/romain/mtal/src/mtal/analysis.py:64: PerformanceWarning: DataFrame is highly fragmented.  This is usually the result of calling `frame.insert` many times, which has poor performance.  Consider joining all columns at once using pd.concat(axis=1) instead. To get a de-fragmented frame, use `newframe = frame.copy()`\n",
      "  df[get_ma_names(span, \"vwma\")] = vwma\n",
      "/home/romain/mtal/src/mtal/analysis.py:64: PerformanceWarning: DataFrame is highly fragmented.  This is usually the result of calling `frame.insert` many times, which has poor performance.  Consider joining all columns at once using pd.concat(axis=1) instead. To get a de-fragmented frame, use `newframe = frame.copy()`\n",
      "  df[get_ma_names(span, \"vwma\")] = vwma\n",
      "/home/romain/mtal/src/mtal/analysis.py:64: PerformanceWarning: DataFrame is highly fragmented.  This is usually the result of calling `frame.insert` many times, which has poor performance.  Consider joining all columns at once using pd.concat(axis=1) instead. To get a de-fragmented frame, use `newframe = frame.copy()`\n",
      "  df[get_ma_names(span, \"vwma\")] = vwma\n",
      "/home/romain/mtal/src/mtal/analysis.py:64: PerformanceWarning: DataFrame is highly fragmented.  This is usually the result of calling `frame.insert` many times, which has poor performance.  Consider joining all columns at once using pd.concat(axis=1) instead. To get a de-fragmented frame, use `newframe = frame.copy()`\n",
      "  df[get_ma_names(span, \"vwma\")] = vwma\n",
      "/home/romain/mtal/src/mtal/analysis.py:64: PerformanceWarning: DataFrame is highly fragmented.  This is usually the result of calling `frame.insert` many times, which has poor performance.  Consider joining all columns at once using pd.concat(axis=1) instead. To get a de-fragmented frame, use `newframe = frame.copy()`\n",
      "  df[get_ma_names(span, \"vwma\")] = vwma\n",
      "/home/romain/mtal/src/mtal/analysis.py:64: PerformanceWarning: DataFrame is highly fragmented.  This is usually the result of calling `frame.insert` many times, which has poor performance.  Consider joining all columns at once using pd.concat(axis=1) instead. To get a de-fragmented frame, use `newframe = frame.copy()`\n",
      "  df[get_ma_names(span, \"vwma\")] = vwma\n",
      "/home/romain/mtal/src/mtal/analysis.py:64: PerformanceWarning: DataFrame is highly fragmented.  This is usually the result of calling `frame.insert` many times, which has poor performance.  Consider joining all columns at once using pd.concat(axis=1) instead. To get a de-fragmented frame, use `newframe = frame.copy()`\n",
      "  df[get_ma_names(span, \"vwma\")] = vwma\n",
      "/home/romain/mtal/src/mtal/analysis.py:64: PerformanceWarning: DataFrame is highly fragmented.  This is usually the result of calling `frame.insert` many times, which has poor performance.  Consider joining all columns at once using pd.concat(axis=1) instead. To get a de-fragmented frame, use `newframe = frame.copy()`\n",
      "  df[get_ma_names(span, \"vwma\")] = vwma\n",
      "/home/romain/mtal/src/mtal/analysis.py:64: PerformanceWarning: DataFrame is highly fragmented.  This is usually the result of calling `frame.insert` many times, which has poor performance.  Consider joining all columns at once using pd.concat(axis=1) instead. To get a de-fragmented frame, use `newframe = frame.copy()`\n",
      "  df[get_ma_names(span, \"vwma\")] = vwma\n",
      "/home/romain/mtal/src/mtal/analysis.py:64: PerformanceWarning: DataFrame is highly fragmented.  This is usually the result of calling `frame.insert` many times, which has poor performance.  Consider joining all columns at once using pd.concat(axis=1) instead. To get a de-fragmented frame, use `newframe = frame.copy()`\n",
      "  df[get_ma_names(span, \"vwma\")] = vwma\n",
      "/home/romain/mtal/src/mtal/analysis.py:64: PerformanceWarning: DataFrame is highly fragmented.  This is usually the result of calling `frame.insert` many times, which has poor performance.  Consider joining all columns at once using pd.concat(axis=1) instead. To get a de-fragmented frame, use `newframe = frame.copy()`\n",
      "  df[get_ma_names(span, \"vwma\")] = vwma\n",
      "/home/romain/mtal/src/mtal/analysis.py:64: PerformanceWarning: DataFrame is highly fragmented.  This is usually the result of calling `frame.insert` many times, which has poor performance.  Consider joining all columns at once using pd.concat(axis=1) instead. To get a de-fragmented frame, use `newframe = frame.copy()`\n",
      "  df[get_ma_names(span, \"vwma\")] = vwma\n",
      "/home/romain/mtal/src/mtal/analysis.py:64: PerformanceWarning: DataFrame is highly fragmented.  This is usually the result of calling `frame.insert` many times, which has poor performance.  Consider joining all columns at once using pd.concat(axis=1) instead. To get a de-fragmented frame, use `newframe = frame.copy()`\n",
      "  df[get_ma_names(span, \"vwma\")] = vwma\n",
      "/home/romain/mtal/src/mtal/analysis.py:64: PerformanceWarning: DataFrame is highly fragmented.  This is usually the result of calling `frame.insert` many times, which has poor performance.  Consider joining all columns at once using pd.concat(axis=1) instead. To get a de-fragmented frame, use `newframe = frame.copy()`\n",
      "  df[get_ma_names(span, \"vwma\")] = vwma\n",
      "/home/romain/mtal/src/mtal/analysis.py:64: PerformanceWarning: DataFrame is highly fragmented.  This is usually the result of calling `frame.insert` many times, which has poor performance.  Consider joining all columns at once using pd.concat(axis=1) instead. To get a de-fragmented frame, use `newframe = frame.copy()`\n",
      "  df[get_ma_names(span, \"vwma\")] = vwma\n",
      "/home/romain/mtal/src/mtal/analysis.py:64: PerformanceWarning: DataFrame is highly fragmented.  This is usually the result of calling `frame.insert` many times, which has poor performance.  Consider joining all columns at once using pd.concat(axis=1) instead. To get a de-fragmented frame, use `newframe = frame.copy()`\n",
      "  df[get_ma_names(span, \"vwma\")] = vwma\n",
      "/home/romain/mtal/src/mtal/analysis.py:64: PerformanceWarning: DataFrame is highly fragmented.  This is usually the result of calling `frame.insert` many times, which has poor performance.  Consider joining all columns at once using pd.concat(axis=1) instead. To get a de-fragmented frame, use `newframe = frame.copy()`\n",
      "  df[get_ma_names(span, \"vwma\")] = vwma\n",
      "/home/romain/mtal/src/mtal/analysis.py:64: PerformanceWarning: DataFrame is highly fragmented.  This is usually the result of calling `frame.insert` many times, which has poor performance.  Consider joining all columns at once using pd.concat(axis=1) instead. To get a de-fragmented frame, use `newframe = frame.copy()`\n",
      "  df[get_ma_names(span, \"vwma\")] = vwma\n",
      "/home/romain/mtal/src/mtal/analysis.py:64: PerformanceWarning: DataFrame is highly fragmented.  This is usually the result of calling `frame.insert` many times, which has poor performance.  Consider joining all columns at once using pd.concat(axis=1) instead. To get a de-fragmented frame, use `newframe = frame.copy()`\n",
      "  df[get_ma_names(span, \"vwma\")] = vwma\n",
      "/home/romain/mtal/src/mtal/analysis.py:64: PerformanceWarning: DataFrame is highly fragmented.  This is usually the result of calling `frame.insert` many times, which has poor performance.  Consider joining all columns at once using pd.concat(axis=1) instead. To get a de-fragmented frame, use `newframe = frame.copy()`\n",
      "  df[get_ma_names(span, \"vwma\")] = vwma\n",
      "/home/romain/mtal/src/mtal/analysis.py:64: PerformanceWarning: DataFrame is highly fragmented.  This is usually the result of calling `frame.insert` many times, which has poor performance.  Consider joining all columns at once using pd.concat(axis=1) instead. To get a de-fragmented frame, use `newframe = frame.copy()`\n",
      "  df[get_ma_names(span, \"vwma\")] = vwma\n",
      "/home/romain/mtal/src/mtal/analysis.py:64: PerformanceWarning: DataFrame is highly fragmented.  This is usually the result of calling `frame.insert` many times, which has poor performance.  Consider joining all columns at once using pd.concat(axis=1) instead. To get a de-fragmented frame, use `newframe = frame.copy()`\n",
      "  df[get_ma_names(span, \"vwma\")] = vwma\n",
      "/home/romain/mtal/src/mtal/analysis.py:64: PerformanceWarning: DataFrame is highly fragmented.  This is usually the result of calling `frame.insert` many times, which has poor performance.  Consider joining all columns at once using pd.concat(axis=1) instead. To get a de-fragmented frame, use `newframe = frame.copy()`\n",
      "  df[get_ma_names(span, \"vwma\")] = vwma\n",
      "/home/romain/mtal/src/mtal/analysis.py:64: PerformanceWarning: DataFrame is highly fragmented.  This is usually the result of calling `frame.insert` many times, which has poor performance.  Consider joining all columns at once using pd.concat(axis=1) instead. To get a de-fragmented frame, use `newframe = frame.copy()`\n",
      "  df[get_ma_names(span, \"vwma\")] = vwma\n"
     ]
    },
    {
     "name": "stdout",
     "output_type": "stream",
     "text": [
      "Meilleure combinaison: Short EMA = 56, Long EMA = 58\n",
      "Résultat du test: BacktestResults(pnl=3577.2975760474555, pnl_percentage=2.5772975760474557, max_drawdown=-0.17333902100011148, win_rate=0.6, average_return=0.1732078101534478, trade_number=10, entry_dates=[Timestamp('2022-03-19 23:59:59.999000'), Timestamp('2022-08-12 23:59:59.999000'), Timestamp('2022-11-02 23:59:59.999000'), Timestamp('2023-01-06 23:59:59.999000'), Timestamp('2023-01-09 23:59:59.999000'), Timestamp('2023-04-17 23:59:59.999000'), Timestamp('2023-04-20 23:59:59.999000'), Timestamp('2023-07-05 23:59:59.999000'), Timestamp('2023-10-14 23:59:59.999000'), Timestamp('2024-02-06 23:59:59.999000')], exit_dates=[Timestamp('2022-04-04 23:59:59.999000'), Timestamp('2022-09-13 23:59:59.999000'), Timestamp('2022-11-05 23:59:59.999000'), Timestamp('2023-01-07 23:59:59.999000'), Timestamp('2023-04-16 23:59:59.999000'), Timestamp('2023-04-18 23:59:59.999000'), Timestamp('2023-05-28 23:59:59.999000'), Timestamp('2023-08-18 23:59:59.999000'), Timestamp('2024-02-01 23:59:59.999000'), Timestamp('2024-04-25 23:59:59.999000')], entry_prices=[42201.13, 24403.68, 20151.84, 16950.65, 17178.26, 29430.27, 28243.65, 30504.81, 26852.48, 43098.95], exit_prices=[46580.51, 20173.57, 21299.37, 16943.57, 30304.65, 30380.01, 28065.0, 26054.0, 43082.94, 64498.34])\n"
     ]
    }
   ],
   "source": [
    "from itertools import combinations\n",
    "from src.mtal.backtesting.ma_cross_backtest import MACrossBacktester\n",
    "\n",
    "\n",
    "ema_values = range(1, 60)  \n",
    "\n",
    "combinations = [(short_ema, long_ema) for short_ema, long_ema in combinations(ema_values, 2)]\n",
    "\n",
    "results = {}\n",
    "\n",
    "for short_ema, long_ema in combinations:\n",
    "    tester = MACrossBacktester(short_ma=short_ema, long_ma=long_ema, data=df, ma_type=\"vwma\")\n",
    "    test_results = tester.run()\n",
    "    results[(short_ema, long_ema)] = test_results\n",
    "\n",
    "best_combination = max(results, key=lambda x: results[x].pnl)  # Ajuster le critère si nécessaire\n",
    "best_result = results[best_combination]\n",
    "\n",
    "print(f\"Meilleure combinaison: Short EMA = {best_combination[0]}, Long EMA = {best_combination[1]}\")\n",
    "print(f\"Résultat du test: {best_result}\")\n"
   ]
  },
  {
   "cell_type": "markdown",
   "metadata": {},
   "source": [
    "# VWMA above"
   ]
  },
  {
   "cell_type": "code",
   "execution_count": 21,
   "metadata": {},
   "outputs": [
    {
     "name": "stdout",
     "output_type": "stream",
     "text": [
      "BacktestResults(pnl=1340.095983977189, pnl_percentage=1.340095983977189, max_drawdown=-0.09045173786605241, win_rate=0.39325842696629215, average_return=0.011773915644904986, trade_number=89, entry_dates=[Timestamp('2021-11-29 23:59:59.999000'), Timestamp('2021-12-07 23:59:59.999000'), Timestamp('2021-12-12 23:59:59.999000'), Timestamp('2021-12-15 23:59:59.999000'), Timestamp('2021-12-20 23:59:59.999000'), Timestamp('2022-01-02 23:59:59.999000'), Timestamp('2022-01-11 23:59:59.999000'), Timestamp('2022-01-25 23:59:59.999000'), Timestamp('2022-02-04 23:59:59.999000'), Timestamp('2022-02-15 23:59:59.999000'), Timestamp('2022-02-24 23:59:59.999000'), Timestamp('2022-02-28 23:59:59.999000'), Timestamp('2022-03-09 23:59:59.999000'), Timestamp('2022-03-15 23:59:59.999000'), Timestamp('2022-03-22 23:59:59.999000'), Timestamp('2022-04-04 23:59:59.999000'), Timestamp('2022-04-18 23:59:59.999000'), Timestamp('2022-04-25 23:59:59.999000'), Timestamp('2022-04-28 23:59:59.999000'), Timestamp('2022-05-04 23:59:59.999000'), Timestamp('2022-05-15 23:59:59.999000'), Timestamp('2022-05-22 23:59:59.999000'), Timestamp('2022-05-29 23:59:59.999000'), Timestamp('2022-06-06 23:59:59.999000'), Timestamp('2022-06-20 23:59:59.999000'), Timestamp('2022-06-24 23:59:59.999000'), Timestamp('2022-07-04 23:59:59.999000'), Timestamp('2022-07-14 23:59:59.999000'), Timestamp('2022-07-27 23:59:59.999000'), Timestamp('2022-08-06 23:59:59.999000'), Timestamp('2022-08-23 23:59:59.999000'), Timestamp('2022-09-01 23:59:59.999000'), Timestamp('2022-09-09 23:59:59.999000'), Timestamp('2022-09-23 23:59:59.999000'), Timestamp('2022-10-04 23:59:59.999000'), Timestamp('2022-10-13 23:59:59.999000'), Timestamp('2022-10-17 23:59:59.999000'), Timestamp('2022-10-22 23:59:59.999000'), Timestamp('2022-11-04 23:59:59.999000'), Timestamp('2022-11-23 23:59:59.999000'), Timestamp('2022-11-30 23:59:59.999000'), Timestamp('2022-12-09 23:59:59.999000'), Timestamp('2022-12-20 23:59:59.999000'), Timestamp('2022-12-25 23:59:59.999000'), Timestamp('2023-01-02 23:59:59.999000'), Timestamp('2023-01-20 23:59:59.999000'), Timestamp('2023-02-01 23:59:59.999000'), Timestamp('2023-02-13 23:59:59.999000'), Timestamp('2023-03-02 23:59:59.999000'), Timestamp('2023-03-12 23:59:59.999000'), Timestamp('2023-03-26 23:59:59.999000'), Timestamp('2023-03-29 23:59:59.999000'), Timestamp('2023-04-05 23:59:59.999000'), Timestamp('2023-04-09 23:59:59.999000'), Timestamp('2023-04-25 23:59:59.999000'), Timestamp('2023-05-03 23:59:59.999000'), Timestamp('2023-05-15 23:59:59.999000'), Timestamp('2023-05-23 23:59:59.999000'), Timestamp('2023-05-27 23:59:59.999000'), Timestamp('2023-06-09 23:59:59.999000'), Timestamp('2023-06-16 23:59:59.999000'), Timestamp('2023-06-30 23:59:59.999000'), Timestamp('2023-07-08 23:59:59.999000'), Timestamp('2023-07-28 23:59:59.999000'), Timestamp('2023-08-01 23:59:59.999000'), Timestamp('2023-08-07 23:59:59.999000'), Timestamp('2023-08-28 23:59:59.999000'), Timestamp('2023-09-07 23:59:59.999000'), Timestamp('2023-09-13 23:59:59.999000'), Timestamp('2023-09-28 23:59:59.999000'), Timestamp('2023-10-15 23:59:59.999000'), Timestamp('2023-10-29 23:59:59.999000'), Timestamp('2023-11-06 23:59:59.999000'), Timestamp('2023-11-23 23:59:59.999000'), Timestamp('2023-11-29 23:59:59.999000'), Timestamp('2023-12-13 23:59:59.999000'), Timestamp('2023-12-19 23:59:59.999000'), Timestamp('2024-01-01 23:59:59.999000'), Timestamp('2024-01-05 23:59:59.999000'), Timestamp('2024-01-16 23:59:59.999000'), Timestamp('2024-01-25 23:59:59.999000'), Timestamp('2024-02-07 23:59:59.999000'), Timestamp('2024-02-25 23:59:59.999000'), Timestamp('2024-03-07 23:59:59.999000'), Timestamp('2024-03-25 23:59:59.999000'), Timestamp('2024-03-31 23:59:59.999000'), Timestamp('2024-04-05 23:59:59.999000'), Timestamp('2024-04-19 23:59:59.999000'), Timestamp('2024-05-03 23:59:59.999000')], exit_dates=[Timestamp('2021-12-02 23:59:59.999000'), Timestamp('2021-12-09 23:59:59.999000'), Timestamp('2021-12-13 23:59:59.999000'), Timestamp('2021-12-16 23:59:59.999000'), Timestamp('2021-12-27 23:59:59.999000'), Timestamp('2022-01-03 23:59:59.999000'), Timestamp('2022-01-16 23:59:59.999000'), Timestamp('2022-02-02 23:59:59.999000'), Timestamp('2022-02-10 23:59:59.999000'), Timestamp('2022-02-17 23:59:59.999000'), Timestamp('2022-02-27 23:59:59.999000'), Timestamp('2022-03-03 23:59:59.999000'), Timestamp('2022-03-11 23:59:59.999000'), Timestamp('2022-03-20 23:59:59.999000'), Timestamp('2022-03-31 23:59:59.999000'), Timestamp('2022-04-05 23:59:59.999000'), Timestamp('2022-04-21 23:59:59.999000'), Timestamp('2022-04-26 23:59:59.999000'), Timestamp('2022-04-29 23:59:59.999000'), Timestamp('2022-05-05 23:59:59.999000'), Timestamp('2022-05-18 23:59:59.999000'), Timestamp('2022-05-23 23:59:59.999000'), Timestamp('2022-06-01 23:59:59.999000'), Timestamp('2022-06-08 23:59:59.999000'), Timestamp('2022-06-22 23:59:59.999000'), Timestamp('2022-06-27 23:59:59.999000'), Timestamp('2022-07-10 23:59:59.999000'), Timestamp('2022-07-22 23:59:59.999000'), Timestamp('2022-07-31 23:59:59.999000'), Timestamp('2022-08-09 23:59:59.999000'), Timestamp('2022-08-24 23:59:59.999000'), Timestamp('2022-09-02 23:59:59.999000'), Timestamp('2022-09-13 23:59:59.999000'), Timestamp('2022-09-24 23:59:59.999000'), Timestamp('2022-10-07 23:59:59.999000'), Timestamp('2022-10-14 23:59:59.999000'), Timestamp('2022-10-19 23:59:59.999000'), Timestamp('2022-10-31 23:59:59.999000'), Timestamp('2022-11-07 23:59:59.999000'), Timestamp('2022-11-26 23:59:59.999000'), Timestamp('2022-12-03 23:59:59.999000'), Timestamp('2022-12-15 23:59:59.999000'), Timestamp('2022-12-24 23:59:59.999000'), Timestamp('2022-12-27 23:59:59.999000'), Timestamp('2023-01-18 23:59:59.999000'), Timestamp('2023-01-24 23:59:59.999000'), Timestamp('2023-02-04 23:59:59.999000'), Timestamp('2023-02-21 23:59:59.999000'), Timestamp('2023-03-03 23:59:59.999000'), Timestamp('2023-03-22 23:59:59.999000'), Timestamp('2023-03-27 23:59:59.999000'), Timestamp('2023-04-02 23:59:59.999000'), Timestamp('2023-04-06 23:59:59.999000'), Timestamp('2023-04-17 23:59:59.999000'), Timestamp('2023-05-01 23:59:59.999000'), Timestamp('2023-05-06 23:59:59.999000'), Timestamp('2023-05-18 23:59:59.999000'), Timestamp('2023-05-24 23:59:59.999000'), Timestamp('2023-05-31 23:59:59.999000'), Timestamp('2023-06-10 23:59:59.999000'), Timestamp('2023-06-26 23:59:59.999000'), Timestamp('2023-07-05 23:59:59.999000'), Timestamp('2023-07-09 23:59:59.999000'), Timestamp('2023-07-30 23:59:59.999000'), Timestamp('2023-08-02 23:59:59.999000'), Timestamp('2023-08-10 23:59:59.999000'), Timestamp('2023-08-31 23:59:59.999000'), Timestamp('2023-09-08 23:59:59.999000'), Timestamp('2023-09-21 23:59:59.999000'), Timestamp('2023-10-05 23:59:59.999000'), Timestamp('2023-10-28 23:59:59.999000'), Timestamp('2023-11-03 23:59:59.999000'), Timestamp('2023-11-13 23:59:59.999000'), Timestamp('2023-11-26 23:59:59.999000'), Timestamp('2023-12-09 23:59:59.999000'), Timestamp('2023-12-15 23:59:59.999000'), Timestamp('2023-12-24 23:59:59.999000'), Timestamp('2024-01-03 23:59:59.999000'), Timestamp('2024-01-11 23:59:59.999000'), Timestamp('2024-01-18 23:59:59.999000'), Timestamp('2024-01-31 23:59:59.999000'), Timestamp('2024-02-19 23:59:59.999000'), Timestamp('2024-03-05 23:59:59.999000'), Timestamp('2024-03-14 23:59:59.999000'), Timestamp('2024-03-29 23:59:59.999000'), Timestamp('2024-04-01 23:59:59.999000'), Timestamp('2024-04-09 23:59:59.999000'), Timestamp('2024-04-24 23:59:59.999000'), Timestamp('2024-05-07 23:59:59.999000')], entry_prices=[57776.25, 50588.95, 50053.9, 48864.98, 46914.16, 47286.18, 42729.29, 36958.32, 41574.25, 44544.86, 38327.21, 43160.0, 41941.71, 39280.33, 42364.13, 46580.51, 40801.13, 40426.08, 39742.07, 39690.0, 31328.89, 30293.94, 29468.1, 31373.1, 20573.89, 21237.69, 20236.71, 20588.84, 22952.45, 22954.21, 21529.12, 20131.46, 21360.11, 19289.91, 20337.82, 19375.13, 19549.86, 19204.35, 21148.52, 16603.11, 17163.64, 17128.56, 16895.56, 16832.11, 16672.87, 22667.21, 23732.66, 21773.97, 23465.32, 21997.11, 27968.05, 28348.6, 28170.01, 28323.76, 28300.79, 29026.16, 27162.14, 27219.61, 26854.27, 26477.81, 26345.0, 30472.0, 30284.63, 29314.14, 29705.99, 29211.06, 26120.0, 26255.0, 26222.0, 27021.39, 27154.15, 34525.89, 35046.09, 37294.28, 37854.64, 42869.03, 42275.99, 44179.55, 44145.11, 43137.95, 39961.09, 44349.6, 51728.85, 66823.17, 69880.01, 71280.01, 67820.62, 63818.01, 62882.01], exit_prices=[56480.34, 47545.59, 46702.75, 47632.38, 50701.44, 46446.1, 43071.66, 36896.36, 43495.44, 40515.7, 37699.07, 42454.0, 38729.57, 41262.11, 45510.34, 45497.55, 40480.01, 38112.65, 38596.11, 36552.97, 28715.32, 29109.15, 29805.83, 30204.77, 19987.99, 20742.56, 20862.47, 22684.83, 23293.32, 23149.95, 21368.08, 19951.86, 20173.57, 18920.5, 19530.09, 19176.93, 19123.97, 20490.74, 20591.13, 16458.57, 16885.2, 17356.34, 16836.12, 16706.36, 20677.47, 22632.89, 23326.84, 24452.16, 22354.34, 27250.97, 27124.91, 28171.87, 28033.82, 29430.27, 28068.26, 28848.2, 26821.28, 26329.01, 27210.35, 25841.21, 30267.99, 30504.81, 30160.71, 29281.09, 29186.01, 29455.75, 25940.78, 25910.5, 26568.08, 27410.39, 34081.0, 34716.78, 36462.93, 37447.43, 43713.6, 41940.3, 42991.5, 42845.23, 46339.16, 41327.5, 42580.0, 51774.73, 63724.01, 71388.94, 69850.54, 69649.8, 69146.0, 64289.59, 62312.08], profit_pct_history=[-0.022429804634257217, -0.06015859194547427, -0.06695082700848488, -0.025224608707503936, 0.08072786553143013, -0.017765867321065092, 0.00801253659960188, -0.0016764831301855476, 0.046211056122479714, -0.09045173786605241, -0.016388878814815884, -0.016357738646895274, -0.07658581397849538, 0.0504522237975088, 0.07426589428367818, -0.023249208735584885, -0.007870370256902084, -0.057226176765098176, -0.02883493486876751, -0.07903829680020154, -0.08342363869259331, -0.039109802158451404, 0.011460867853713107, -0.03723986472487571, -0.028477842547034025, -0.023313740807027385, 0.030922022403839462, 0.10180223849425231, 0.014851137895954417, 0.008527411747126196, -0.007480101369679636, -0.008921359901368234, -0.055549339399469426, -0.01915042631095738, -0.0397156627406477, -0.010229608781979822, -0.02178481073521751, 0.06698430303551035, -0.02635598141146517, -0.00870559792713539, -0.016222666054519826, 0.013298257413349331, -0.003518084041014463, -0.007470839960052542, 0.24018660254653232, -0.001514081353638128, -0.017099642433675774, 0.12299961835163724, -0.04734561471993561, 0.23884319349223604, -0.03014654221513475, -0.006234170294123857, -0.0048345740736335805, 0.039066493996559856, -0.008216378412051481, -0.006131021120258385, -0.012549084865920011, -0.03271905806144916, 0.013259716238795472, -0.024042773930321358, 0.1489083317517556, 0.0010767261748490847, -0.004091844608965072, -0.0011274422514185739, -0.017504213796611497, 0.00837662173163174, -0.00686140888208274, -0.0131213102266235, 0.013198077949813201, 0.014396002574256913, 0.25509360447666374, 0.005528894403591027, 0.04042790508156556, 0.004106527864326686, 0.15477521381790976, -0.02166435769598696, 0.016924736712256815, -0.03020220894056186, 0.04970086154502736, -0.04196884645654226, 0.06553650063098888, 0.16742270505258233, 0.23188530191566223, 0.06832615094435066, -0.00042172289328523514, -0.0228705074536324, 0.01954243414465991, 0.007389450094103443, -0.009063482544530627], profit_history=[-22.429804634257216, -58.80924648106528, -61.51180535092947, -21.623774210481674, 67.45825244938028, -16.04406380423977, 7.107436923516532, -1.499022352842412, 41.25020555662119, -84.47271319869637, -13.921131006415667, -13.666961532130594, -62.94108412002041, 38.288005373304465, 59.20360447397841, -19.910341001223745, -6.583388085843951, -47.49167041144125, -22.56052508792325, -60.05661542268774, -58.37864087454948, -25.085289812874066, 7.063578434719213, -23.21477328839781, -17.091553383562765, -13.593745195852145, 17.609625886439098, 59.76754039976673, 9.606638250364952, 5.597979232243389, -4.952326162073319, -5.862353983500579, -36.17662047008996, -11.778956451031785, -23.960318764127646, -5.926382084837947, -12.491623091170778, 37.57271044803683, -15.773813642841876, -5.072900199146593, -9.370927873269652, 7.557043367194496, -2.0258192087001348, -4.286801061980614, 136.79050429114827, -1.0694079738537465, -12.05933002556703, 85.26080101442655, -36.85572959539167, 177.12240216532518, -27.695835392261696, -5.554714513859627, -4.280804160838901, 34.42443794152324, -7.522915682136737, -5.567439490313567, -11.325669526635929, -29.158698670539497, 11.430209926273083, -21.00029165459216, 126.937673862759, 1.054537885897629, -4.0118382400883705, -1.1008746618328096, -17.072466167645604, 8.026999800576537, -6.630105160114955, -12.59198442856629, 12.499465278724445, 13.813922601274115, 248.3031346528526, 6.754559688795158, 49.66318182882958, 5.248558824215847, 198.63075718246859, -32.1061593366293, 24.538744361298154, -44.53053719746524, 71.06640299172345, -62.993103196951864, 94.23860546593001, 256.5241684892127, 414.7775970614462, 150.5564268655767, -0.9927579643631635, -53.8156775881978, 44.932831880579535, 17.322180519663483, -21.403408522843726])\n"
     ]
    }
   ],
   "source": [
    "from src.mtal.backtesting.ma_cross_backtest import MACrossPriceAboveBacktester \n",
    "\n",
    "short_ema = 2 \n",
    "long_ema = 5\n",
    "\n",
    "df = get_pair_df(pair=\"BTCUSDT\", limit=900, frequency=\"1d\")\n",
    "\n",
    "tester = MACrossPriceAboveBacktester(short_ma=short_ema, long_ma=long_ema, data=df, ma_type=\"vwma\"\n",
    ")\n",
    "results = tester.run()\n",
    "\n",
    "entry_dates = [int(entry_date.timestamp() * 1000) for entry_date in results.entry_dates]\n",
    "exit_dates = [int(exit_date.timestamp() * 1000) for exit_date in results.exit_dates]\n",
    "\n",
    "print(results)"
   ]
  },
  {
   "cell_type": "code",
   "execution_count": 4,
   "metadata": {},
   "outputs": [
    {
     "name": "stdout",
     "output_type": "stream",
     "text": [
      "Meilleure combinaison: Short EMA = 2, Long EMA = 5\n",
      "Résultat du test: BacktestResults(pnl=3115.5126566516756, pnl_percentage=3.1155126566516755, max_drawdown=-0.04734561471993561, win_rate=0.5111111111111111, average_return=0.03486297837435225, trade_number=45, entry_dates=[Timestamp('2022-12-25 23:59:59.999000'), Timestamp('2023-01-02 23:59:59.999000'), Timestamp('2023-01-20 23:59:59.999000'), Timestamp('2023-02-01 23:59:59.999000'), Timestamp('2023-02-13 23:59:59.999000'), Timestamp('2023-03-02 23:59:59.999000'), Timestamp('2023-03-12 23:59:59.999000'), Timestamp('2023-03-26 23:59:59.999000'), Timestamp('2023-03-29 23:59:59.999000'), Timestamp('2023-04-05 23:59:59.999000'), Timestamp('2023-04-09 23:59:59.999000'), Timestamp('2023-04-25 23:59:59.999000'), Timestamp('2023-05-03 23:59:59.999000'), Timestamp('2023-05-15 23:59:59.999000'), Timestamp('2023-05-23 23:59:59.999000'), Timestamp('2023-05-27 23:59:59.999000'), Timestamp('2023-06-09 23:59:59.999000'), Timestamp('2023-06-16 23:59:59.999000'), Timestamp('2023-06-30 23:59:59.999000'), Timestamp('2023-07-08 23:59:59.999000'), Timestamp('2023-07-28 23:59:59.999000'), Timestamp('2023-08-01 23:59:59.999000'), Timestamp('2023-08-07 23:59:59.999000'), Timestamp('2023-08-28 23:59:59.999000'), Timestamp('2023-09-07 23:59:59.999000'), Timestamp('2023-09-13 23:59:59.999000'), Timestamp('2023-09-28 23:59:59.999000'), Timestamp('2023-10-15 23:59:59.999000'), Timestamp('2023-10-29 23:59:59.999000'), Timestamp('2023-11-06 23:59:59.999000'), Timestamp('2023-11-23 23:59:59.999000'), Timestamp('2023-11-29 23:59:59.999000'), Timestamp('2023-12-13 23:59:59.999000'), Timestamp('2023-12-19 23:59:59.999000'), Timestamp('2024-01-01 23:59:59.999000'), Timestamp('2024-01-05 23:59:59.999000'), Timestamp('2024-01-16 23:59:59.999000'), Timestamp('2024-01-25 23:59:59.999000'), Timestamp('2024-02-07 23:59:59.999000'), Timestamp('2024-02-25 23:59:59.999000'), Timestamp('2024-03-07 23:59:59.999000'), Timestamp('2024-03-25 23:59:59.999000'), Timestamp('2024-03-31 23:59:59.999000'), Timestamp('2024-04-05 23:59:59.999000'), Timestamp('2024-04-19 23:59:59.999000')], exit_dates=[Timestamp('2022-12-27 23:59:59.999000'), Timestamp('2023-01-18 23:59:59.999000'), Timestamp('2023-01-24 23:59:59.999000'), Timestamp('2023-02-04 23:59:59.999000'), Timestamp('2023-02-21 23:59:59.999000'), Timestamp('2023-03-03 23:59:59.999000'), Timestamp('2023-03-22 23:59:59.999000'), Timestamp('2023-03-27 23:59:59.999000'), Timestamp('2023-04-02 23:59:59.999000'), Timestamp('2023-04-06 23:59:59.999000'), Timestamp('2023-04-17 23:59:59.999000'), Timestamp('2023-05-01 23:59:59.999000'), Timestamp('2023-05-06 23:59:59.999000'), Timestamp('2023-05-18 23:59:59.999000'), Timestamp('2023-05-24 23:59:59.999000'), Timestamp('2023-05-31 23:59:59.999000'), Timestamp('2023-06-10 23:59:59.999000'), Timestamp('2023-06-26 23:59:59.999000'), Timestamp('2023-07-05 23:59:59.999000'), Timestamp('2023-07-09 23:59:59.999000'), Timestamp('2023-07-30 23:59:59.999000'), Timestamp('2023-08-02 23:59:59.999000'), Timestamp('2023-08-10 23:59:59.999000'), Timestamp('2023-08-31 23:59:59.999000'), Timestamp('2023-09-08 23:59:59.999000'), Timestamp('2023-09-21 23:59:59.999000'), Timestamp('2023-10-05 23:59:59.999000'), Timestamp('2023-10-28 23:59:59.999000'), Timestamp('2023-11-03 23:59:59.999000'), Timestamp('2023-11-13 23:59:59.999000'), Timestamp('2023-11-26 23:59:59.999000'), Timestamp('2023-12-09 23:59:59.999000'), Timestamp('2023-12-15 23:59:59.999000'), Timestamp('2023-12-24 23:59:59.999000'), Timestamp('2024-01-03 23:59:59.999000'), Timestamp('2024-01-11 23:59:59.999000'), Timestamp('2024-01-18 23:59:59.999000'), Timestamp('2024-01-31 23:59:59.999000'), Timestamp('2024-02-19 23:59:59.999000'), Timestamp('2024-03-05 23:59:59.999000'), Timestamp('2024-03-14 23:59:59.999000'), Timestamp('2024-03-29 23:59:59.999000'), Timestamp('2024-04-01 23:59:59.999000'), Timestamp('2024-04-09 23:59:59.999000'), Timestamp('2024-04-24 23:59:59.999000')], entry_prices=[16832.11, 16672.87, 22667.21, 23732.66, 21773.97, 23465.32, 21997.11, 27968.05, 28348.6, 28170.01, 28323.76, 28300.79, 29026.16, 27162.14, 27219.61, 26854.27, 26477.81, 26345.0, 30472.0, 30284.63, 29314.14, 29705.99, 29211.06, 26120.0, 26255.0, 26222.0, 27021.39, 27154.15, 34525.89, 35046.09, 37294.28, 37854.64, 42869.03, 42275.99, 44179.55, 44145.11, 43137.95, 39961.09, 44349.6, 51728.85, 66823.17, 69880.01, 71280.01, 67820.62, 63818.01], exit_prices=[16706.36, 20677.47, 22632.89, 23326.84, 24452.16, 22354.34, 27250.97, 27124.91, 28171.87, 28033.82, 29430.27, 28068.26, 28848.2, 26821.28, 26329.01, 27210.35, 25841.21, 30267.99, 30504.81, 30160.71, 29281.09, 29186.01, 29455.75, 25940.78, 25910.5, 26568.08, 27410.39, 34081.0, 34716.78, 36462.93, 37447.43, 43713.6, 41940.3, 42991.5, 42845.23, 46339.16, 41327.5, 42580.0, 51774.73, 63724.01, 71388.94, 69850.54, 69649.8, 69146.0, 64289.59], profit_pct_history=[-0.007470839960052542, 0.24018660254653232, -0.001514081353638128, -0.017099642433675774, 0.12299961835163724, -0.04734561471993561, 0.23884319349223604, -0.03014654221513475, -0.006234170294123857, -0.0048345740736335805, 0.039066493996559856, -0.008216378412051481, -0.006131021120258385, -0.012549084865920011, -0.03271905806144916, 0.013259716238795472, -0.024042773930321358, 0.1489083317517556, 0.0010767261748490847, -0.004091844608965072, -0.0011274422514185739, -0.017504213796611497, 0.00837662173163174, -0.00686140888208274, -0.0131213102266235, 0.013198077949813201, 0.014396002574256913, 0.25509360447666374, 0.005528894403591027, 0.04042790508156556, 0.004106527864326686, 0.15477521381790976, -0.02166435769598696, 0.016924736712256815, -0.03020220894056186, 0.04970086154502736, -0.04196884645654226, 0.06553650063098888, 0.16742270505258233, 0.23188530191566223, 0.06832615094435066, -0.00042172289328523514, -0.0228705074536324, 0.01954243414465991, 0.007389450094103443], profit_history=[-7.470839960052542, 238.39220687835845, -1.8637150894457633, -21.01644637664668, 148.58860722367405, -64.230472428531, 308.6807856919376, -48.2670296064422, -9.680501277484755, -7.4603888362335855, 59.99332902494361, -13.11059185663401, -9.702677781877728, -19.737856562638804, -50.81644052554881, 19.920044768659324, -36.5983435660991, 221.22114663559012, 1.8378001832707769, -6.991647385538181, -1.9185537877118017, -29.753109747286107, 13.989086501199564, -11.554642693554824, -21.94473200065607, 21.783493876536266, 24.074269713600795, 432.7312963092728, 11.77153632883912, 86.5507118211713, 9.146947206017897, 346.1645587464377, -55.95313957141799, 42.76499639085172, -77.60577454548881, 123.85126242421516, -109.78148642010156, 164.23471239162438, 447.058536414333, 722.855341747426, 262.38282435023933, -1.7301329741198717, -93.78749066966397, 78.30687523826006, 30.188300448389455])\n"
     ]
    }
   ],
   "source": [
    "from itertools import combinations\n",
    "from src.mtal.backtesting.ma_cross_backtest import MACrossPriceAboveBacktester \n",
    "\n",
    "ema_values = range(1, 60)  \n",
    "combinations = [(short_ema, long_ema) for short_ema, long_ema in combinations(ema_values, 2)]\n",
    "\n",
    "results = {}\n",
    "\n",
    "for short_ema, long_ema in combinations:\n",
    "    tester = MACrossPriceAboveBacktester(short_ma=short_ema, long_ma=long_ema, data=df, ma_type=\"vwma\")\n",
    "    test_results = tester.run()\n",
    "    results[(short_ema, long_ema)] = test_results\n",
    "\n",
    "best_combination = max(results, key=lambda x: results[x].pnl)  # Ajuster le critère si nécessaire\n",
    "best_result = results[best_combination]\n",
    "\n",
    "print(f\"Meilleure combinaison: Short EMA = {best_combination[0]}, Long EMA = {best_combination[1]}\")\n",
    "print(f\"Résultat du test: {best_result}\")"
   ]
  },
  {
   "cell_type": "markdown",
   "metadata": {},
   "source": [
    "EMA price above + close en dessous de la long: 2-5 nous donne un bon x3"
   ]
  },
  {
   "cell_type": "markdown",
   "metadata": {},
   "source": [
    "# HMA cross"
   ]
  },
  {
   "cell_type": "code",
   "execution_count": 16,
   "metadata": {},
   "outputs": [
    {
     "name": "stdout",
     "output_type": "stream",
     "text": [
      "BacktestResults(pnl=428.3108619083414, pnl_percentage=0.4283108619083414, max_drawdown=-0.19456487730746883, win_rate=0.39759036144578314, average_return=0.007250050602931209, trade_number=83, entry_dates=[Timestamp('2021-11-28 23:59:59.999000'), Timestamp('2021-12-20 23:59:59.999000'), Timestamp('2022-01-02 23:59:59.999000'), Timestamp('2022-01-10 23:59:59.999000'), Timestamp('2022-01-25 23:59:59.999000'), Timestamp('2022-02-04 23:59:59.999000'), Timestamp('2022-02-15 23:59:59.999000'), Timestamp('2022-02-23 23:59:59.999000'), Timestamp('2022-03-09 23:59:59.999000'), Timestamp('2022-03-15 23:59:59.999000'), Timestamp('2022-03-24 23:59:59.999000'), Timestamp('2022-04-13 23:59:59.999000'), Timestamp('2022-04-28 23:59:59.999000'), Timestamp('2022-05-02 23:59:59.999000'), Timestamp('2022-05-13 23:59:59.999000'), Timestamp('2022-05-22 23:59:59.999000'), Timestamp('2022-05-29 23:59:59.999000'), Timestamp('2022-06-06 23:59:59.999000'), Timestamp('2022-06-17 23:59:59.999000'), Timestamp('2022-07-04 23:59:59.999000'), Timestamp('2022-07-15 23:59:59.999000'), Timestamp('2022-07-28 23:59:59.999000'), Timestamp('2022-08-06 23:59:59.999000'), Timestamp('2022-08-22 23:59:59.999000'), Timestamp('2022-08-30 23:59:59.999000'), Timestamp('2022-09-09 23:59:59.999000'), Timestamp('2022-09-19 23:59:59.999000'), Timestamp('2022-09-22 23:59:59.999000'), Timestamp('2022-10-04 23:59:59.999000'), Timestamp('2022-10-13 23:59:59.999000'), Timestamp('2022-10-23 23:59:59.999000'), Timestamp('2022-11-05 23:59:59.999000'), Timestamp('2022-11-12 23:59:59.999000'), Timestamp('2022-11-23 23:59:59.999000'), Timestamp('2022-11-30 23:59:59.999000'), Timestamp('2022-12-10 23:59:59.999000'), Timestamp('2022-12-13 23:59:59.999000'), Timestamp('2022-12-21 23:59:59.999000'), Timestamp('2023-01-01 23:59:59.999000'), Timestamp('2023-01-21 23:59:59.999000'), Timestamp('2023-02-02 23:59:59.999000'), Timestamp('2023-02-13 23:59:59.999000'), Timestamp('2023-02-28 23:59:59.999000'), Timestamp('2023-03-07 23:59:59.999000'), Timestamp('2023-03-12 23:59:59.999000'), Timestamp('2023-03-30 23:59:59.999000'), Timestamp('2023-04-09 23:59:59.999000'), Timestamp('2023-04-24 23:59:59.999000'), Timestamp('2023-05-05 23:59:59.999000'), Timestamp('2023-05-14 23:59:59.999000'), Timestamp('2023-05-23 23:59:59.999000'), Timestamp('2023-05-27 23:59:59.999000'), Timestamp('2023-06-08 23:59:59.999000'), Timestamp('2023-06-13 23:59:59.999000'), Timestamp('2023-06-16 23:59:59.999000'), Timestamp('2023-07-03 23:59:59.999000'), Timestamp('2023-07-10 23:59:59.999000'), Timestamp('2023-07-21 23:59:59.999000'), Timestamp('2023-07-28 23:59:59.999000'), Timestamp('2023-08-07 23:59:59.999000'), Timestamp('2023-08-21 23:59:59.999000'), Timestamp('2023-09-05 23:59:59.999000'), Timestamp('2023-09-13 23:59:59.999000'), Timestamp('2023-09-19 23:59:59.999000'), Timestamp('2023-09-27 23:59:59.999000'), Timestamp('2023-10-15 23:59:59.999000'), Timestamp('2023-11-08 23:59:59.999000'), Timestamp('2023-11-19 23:59:59.999000'), Timestamp('2023-11-23 23:59:59.999000'), Timestamp('2023-12-01 23:59:59.999000'), Timestamp('2023-12-15 23:59:59.999000'), Timestamp('2023-12-18 23:59:59.999000'), Timestamp('2024-01-01 23:59:59.999000'), Timestamp('2024-01-08 23:59:59.999000'), Timestamp('2024-01-17 23:59:59.999000'), Timestamp('2024-01-25 23:59:59.999000'), Timestamp('2024-02-07 23:59:59.999000'), Timestamp('2024-02-26 23:59:59.999000'), Timestamp('2024-03-11 23:59:59.999000'), Timestamp('2024-03-21 23:59:59.999000'), Timestamp('2024-04-05 23:59:59.999000'), Timestamp('2024-04-18 23:59:59.999000'), Timestamp('2024-05-03 23:59:59.999000')], exit_dates=[Timestamp('2021-12-17 23:59:59.999000'), Timestamp('2021-12-27 23:59:59.999000'), Timestamp('2022-01-05 23:59:59.999000'), Timestamp('2022-01-17 23:59:59.999000'), Timestamp('2022-02-02 23:59:59.999000'), Timestamp('2022-02-10 23:59:59.999000'), Timestamp('2022-02-17 23:59:59.999000'), Timestamp('2022-03-04 23:59:59.999000'), Timestamp('2022-03-13 23:59:59.999000'), Timestamp('2022-03-21 23:59:59.999000'), Timestamp('2022-03-30 23:59:59.999000'), Timestamp('2022-04-22 23:59:59.999000'), Timestamp('2022-04-30 23:59:59.999000'), Timestamp('2022-05-06 23:59:59.999000'), Timestamp('2022-05-20 23:59:59.999000'), Timestamp('2022-05-26 23:59:59.999000'), Timestamp('2022-06-02 23:59:59.999000'), Timestamp('2022-06-09 23:59:59.999000'), Timestamp('2022-06-27 23:59:59.999000'), Timestamp('2022-07-10 23:59:59.999000'), Timestamp('2022-07-22 23:59:59.999000'), Timestamp('2022-08-01 23:59:59.999000'), Timestamp('2022-08-15 23:59:59.999000'), Timestamp('2022-08-27 23:59:59.999000'), Timestamp('2022-09-06 23:59:59.999000'), Timestamp('2022-09-13 23:59:59.999000'), Timestamp('2022-09-20 23:59:59.999000'), Timestamp('2022-10-02 23:59:59.999000'), Timestamp('2022-10-07 23:59:59.999000'), Timestamp('2022-10-20 23:59:59.999000'), Timestamp('2022-10-30 23:59:59.999000'), Timestamp('2022-11-08 23:59:59.999000'), Timestamp('2022-11-21 23:59:59.999000'), Timestamp('2022-11-28 23:59:59.999000'), Timestamp('2022-12-04 23:59:59.999000'), Timestamp('2022-12-11 23:59:59.999000'), Timestamp('2022-12-16 23:59:59.999000'), Timestamp('2022-12-28 23:59:59.999000'), Timestamp('2023-01-17 23:59:59.999000'), Timestamp('2023-01-24 23:59:59.999000'), Timestamp('2023-02-04 23:59:59.999000'), Timestamp('2023-02-20 23:59:59.999000'), Timestamp('2023-03-03 23:59:59.999000'), Timestamp('2023-03-09 23:59:59.999000'), Timestamp('2023-03-20 23:59:59.999000'), Timestamp('2023-04-03 23:59:59.999000'), Timestamp('2023-04-15 23:59:59.999000'), Timestamp('2023-05-01 23:59:59.999000'), Timestamp('2023-05-07 23:59:59.999000'), Timestamp('2023-05-20 23:59:59.999000'), Timestamp('2023-05-24 23:59:59.999000'), Timestamp('2023-05-31 23:59:59.999000'), Timestamp('2023-06-10 23:59:59.999000'), Timestamp('2023-06-14 23:59:59.999000'), Timestamp('2023-06-25 23:59:59.999000'), Timestamp('2023-07-05 23:59:59.999000'), Timestamp('2023-07-15 23:59:59.999000'), Timestamp('2023-07-25 23:59:59.999000'), Timestamp('2023-08-03 23:59:59.999000'), Timestamp('2023-08-12 23:59:59.999000'), Timestamp('2023-09-01 23:59:59.999000'), Timestamp('2023-09-11 23:59:59.999000'), Timestamp('2023-09-18 23:59:59.999000'), Timestamp('2023-09-21 23:59:59.999000'), Timestamp('2023-10-04 23:59:59.999000'), Timestamp('2023-10-27 23:59:59.999000'), Timestamp('2023-11-13 23:59:59.999000'), Timestamp('2023-11-21 23:59:59.999000'), Timestamp('2023-11-27 23:59:59.999000'), Timestamp('2023-12-08 23:59:59.999000'), Timestamp('2023-12-17 23:59:59.999000'), Timestamp('2023-12-24 23:59:59.999000'), Timestamp('2024-01-05 23:59:59.999000'), Timestamp('2024-01-12 23:59:59.999000'), Timestamp('2024-01-22 23:59:59.999000'), Timestamp('2024-02-01 23:59:59.999000'), Timestamp('2024-02-16 23:59:59.999000'), Timestamp('2024-03-03 23:59:59.999000'), Timestamp('2024-03-14 23:59:59.999000'), Timestamp('2024-03-29 23:59:59.999000'), Timestamp('2024-04-11 23:59:59.999000'), Timestamp('2024-04-25 23:59:59.999000'), Timestamp('2024-05-08 23:59:59.999000')], entry_prices=[57274.88, 46914.16, 47286.18, 41822.49, 36958.32, 41574.25, 44544.86, 37250.01, 41941.71, 39280.33, 43991.46, 41147.79, 39742.07, 38525.16, 29287.05, 30293.94, 29468.1, 31373.1, 20468.81, 20236.71, 20830.04, 23842.93, 22954.21, 21399.83, 19811.66, 21360.11, 19537.02, 19401.63, 20337.82, 19375.13, 19570.4, 21299.37, 16812.08, 16603.11, 17163.64, 17127.49, 17774.7, 16824.67, 16616.75, 22783.55, 23488.94, 21773.97, 23141.57, 22197.96, 21997.11, 28028.53, 28323.76, 27510.93, 29505.61, 26917.62, 27219.61, 26854.27, 26498.61, 25934.25, 26345.0, 31156.2, 30411.57, 29901.72, 29314.14, 29211.06, 26126.92, 25792.1, 26222.0, 27210.26, 26372.99, 27154.15, 35624.72, 37359.86, 37294.28, 38682.52, 41940.3, 42657.8, 44179.55, 46951.04, 42776.1, 39961.09, 44349.6, 54476.47, 72078.1, 65501.27, 67820.62, 63470.08, 62882.01], exit_prices=[46131.2, 50701.44, 43451.13, 42201.62, 36896.36, 43495.44, 40515.7, 39148.66, 37777.34, 41002.25, 47067.99, 39709.18, 37630.8, 36013.77, 29201.01, 29201.35, 30452.62, 30109.93, 20742.56, 20862.47, 22684.83, 23268.01, 24094.82, 20037.6, 18790.61, 20173.57, 18875.0, 19056.8, 19530.09, 19041.92, 20627.48, 18547.23, 15781.29, 16212.91, 17105.7, 17085.05, 16632.12, 16547.31, 21134.81, 22632.89, 23326.84, 24842.2, 22354.34, 20362.22, 27717.01, 27800.0, 30295.09, 28068.26, 28430.1, 27102.43, 26329.01, 27210.35, 25841.21, 25128.6, 30462.66, 30504.81, 30289.52, 29228.91, 29193.64, 29430.17, 25805.05, 25162.52, 26762.51, 26568.08, 27778.57, 33892.02, 36462.93, 35741.65, 37242.7, 44170.99, 41374.65, 42991.5, 44145.11, 42782.73, 39568.02, 43082.94, 52124.11, 63113.97, 71388.94, 69850.54, 70006.23, 64498.34, 61193.03], profit_pct_history=[-0.19456487730746883, 0.08072786553143013, -0.0811029776564739, 0.00906521825936248, -0.0016764831301855476, 0.046211056122479714, -0.09045173786605241, 0.05097045611531383, -0.0992894662616284, 0.04383669892793666, 0.06993471005508795, -0.034962023476838015, -0.05312430882437671, -0.0651883081082598, -0.0029378172263850705, -0.03606628916542385, 0.03340968708535672, -0.04026283663393156, 0.013374006598331803, 0.030922022403839462, 0.08904399607489956, -0.02411280828321024, 0.04969066676657574, -0.06365611315603924, -0.05153783176169989, -0.055549339399469426, -0.033885413435621216, -0.017773248948670897, -0.0397156627406477, -0.017197820092045974, 0.05401422556513909, -0.12921227247566475, -0.06131246103991896, -0.023501621081833506, -0.0033757408102243285, -0.0024778878866665416, -0.06428125369204553, -0.016485315908127587, 0.2718979343132683, -0.006612665717151184, -0.006901120271923661, 0.14091275040794118, -0.03401800310004894, -0.08269859032091229, 0.2600296129809779, -0.008153477902694106, 0.06959986950885058, 0.0202584936241704, -0.03645103422705045, 0.006865763020653435, -0.03271905806144916, 0.013259716238795472, -0.02480884846412704, -0.031065097313398363, 0.15629758967546023, -0.020907235157047375, -0.004013275210717476, -0.02250071233360493, -0.004110644214703212, 0.007500926019117312, -0.012319477381949308, -0.0244097998999693, 0.020612844176645505, -0.023600656517063664, 0.05329619432608885, 0.2481340789529407, 0.02352888668317952, -0.04331413447480797, -0.001383053916042936, 0.14188501679828516, -0.013487027989785514, 0.007822719408877089, -0.0007795461927521291, -0.08877992904949492, -0.07499701936361665, 0.07812224341227944, 0.17530056640871625, 0.15855469343002584, -0.009561295317162958, 0.06639978125614965, 0.03222633470469602, 0.016200704331867783, -0.02685951037506599], profit_history=[-194.56487730746883, 65.02105827901359, -70.5965881962748, 7.250901785352615, -1.353107128326598, 37.234899851736465, -76.25011739251927, 39.08119812221588, -80.00977211123094, 31.817272081380896, 52.984695081237206, -28.340760346572864, -41.55780820514827, -48.2860876593634, -2.0342354462372114, -24.900045989839636, 22.234034011574735, -27.689987188757183, 8.827388305715452, 20.682753153431154, 61.40035994853941, -18.10754168023701, 36.41548870813998, -48.968045632089726, -37.12224024508564, -37.94957747140006, -21.86352129117651, -11.079056680160647, -24.316974101284426, -10.111625232350699, 31.212016536734815, -78.69803915070709, -32.51780298193086, -11.700147025309168, -1.6410965030056655, -1.2005441417590983, -31.067288475587628, -7.455239778734792, 120.93474650281615, -3.7408821032237296, -3.8782488034977605, 78.64277951847893, -21.660566606906094, -50.86606426947656, 146.7117507030041, -5.7964986681602655, 49.07674403955139, 15.279030823771445, -28.048441315190722, 5.090512119017226, -24.425588289996394, 9.574830649402598, -18.151990453012612, -22.16563199148026, 108.057342108549, -16.713531519660034, -3.141191434280434, -17.540633695125827, -3.132386551369403, 5.692347887454638, -9.41920590087133, -18.433284018797497, 15.186015708316825, -17.74561431641522, 39.128268653281474, 191.88073024832997, 22.70949973433969, -42.789374087914425, -1.3071178983932163, 133.90941671027608, -14.534939071203704, 8.316823980243743, -0.835267832575132, -95.05172668355115, -73.16653654159228, 70.49954799565434, 170.55440942534585, 181.30412294542919, -12.666652357730314, 87.1243139097009, 45.092434507254936, 23.399231853276913, -39.42260220724411])\n"
     ]
    }
   ],
   "source": [
    "from src.mtal.backtesting.ma_cross_backtest import MACrossBacktester \n",
    "\n",
    "short_ema = 6\n",
    "long_ema = 15 \n",
    "\n",
    "df = get_pair_df(pair=\"BTCUSDT\", limit=900, frequency=\"1d\")\n",
    "\n",
    "tester = MACrossBacktester(short_ma=short_ema, long_ma=long_ema, data=df, ma_type=\"hma\"\n",
    ")\n",
    "results = tester.run()\n",
    "\n",
    "entry_dates = [int(entry_date.timestamp() * 1000) for entry_date in results.entry_dates]\n",
    "exit_dates = [int(exit_date.timestamp() * 1000) for exit_date in results.exit_dates]\n",
    "\n",
    "print(results)"
   ]
  },
  {
   "cell_type": "code",
   "execution_count": 5,
   "metadata": {},
   "outputs": [
    {
     "name": "stdout",
     "output_type": "stream",
     "text": [
      "Meilleure combinaison: Short EMA = 6, Long EMA = 15\n",
      "Résultat du test: BacktestResults(pnl=2716.3159239382962, pnl_percentage=2.7163159239382964, max_drawdown=-0.04331413447480797, win_rate=0.5121951219512195, average_return=0.035472466141545, trade_number=41, entry_dates=[Timestamp('2023-01-01 23:59:59.999000'), Timestamp('2023-01-21 23:59:59.999000'), Timestamp('2023-02-13 23:59:59.999000'), Timestamp('2023-03-07 23:59:59.999000'), Timestamp('2023-03-12 23:59:59.999000'), Timestamp('2023-03-30 23:59:59.999000'), Timestamp('2023-04-09 23:59:59.999000'), Timestamp('2023-04-24 23:59:59.999000'), Timestamp('2023-05-05 23:59:59.999000'), Timestamp('2023-05-14 23:59:59.999000'), Timestamp('2023-05-23 23:59:59.999000'), Timestamp('2023-05-27 23:59:59.999000'), Timestamp('2023-06-08 23:59:59.999000'), Timestamp('2023-06-13 23:59:59.999000'), Timestamp('2023-06-16 23:59:59.999000'), Timestamp('2023-07-03 23:59:59.999000'), Timestamp('2023-07-10 23:59:59.999000'), Timestamp('2023-07-21 23:59:59.999000'), Timestamp('2023-07-28 23:59:59.999000'), Timestamp('2023-08-07 23:59:59.999000'), Timestamp('2023-08-21 23:59:59.999000'), Timestamp('2023-09-13 23:59:59.999000'), Timestamp('2023-09-19 23:59:59.999000'), Timestamp('2023-09-27 23:59:59.999000'), Timestamp('2023-10-15 23:59:59.999000'), Timestamp('2023-11-08 23:59:59.999000'), Timestamp('2023-11-19 23:59:59.999000'), Timestamp('2023-11-23 23:59:59.999000'), Timestamp('2023-12-01 23:59:59.999000'), Timestamp('2023-12-18 23:59:59.999000'), Timestamp('2024-01-01 23:59:59.999000'), Timestamp('2024-01-08 23:59:59.999000'), Timestamp('2024-01-17 23:59:59.999000'), Timestamp('2024-01-25 23:59:59.999000'), Timestamp('2024-02-07 23:59:59.999000'), Timestamp('2024-02-26 23:59:59.999000'), Timestamp('2024-03-11 23:59:59.999000'), Timestamp('2024-03-21 23:59:59.999000'), Timestamp('2024-04-05 23:59:59.999000'), Timestamp('2024-04-18 23:59:59.999000'), Timestamp('2024-05-03 23:59:59.999000')], exit_dates=[Timestamp('2023-01-17 23:59:59.999000'), Timestamp('2023-01-22 23:59:59.999000'), Timestamp('2023-02-19 23:59:59.999000'), Timestamp('2023-03-08 23:59:59.999000'), Timestamp('2023-03-20 23:59:59.999000'), Timestamp('2023-04-02 23:59:59.999000'), Timestamp('2023-04-15 23:59:59.999000'), Timestamp('2023-04-30 23:59:59.999000'), Timestamp('2023-05-06 23:59:59.999000'), Timestamp('2023-05-21 23:59:59.999000'), Timestamp('2023-05-24 23:59:59.999000'), Timestamp('2023-05-31 23:59:59.999000'), Timestamp('2023-06-10 23:59:59.999000'), Timestamp('2023-06-14 23:59:59.999000'), Timestamp('2023-06-24 23:59:59.999000'), Timestamp('2023-07-04 23:59:59.999000'), Timestamp('2023-07-14 23:59:59.999000'), Timestamp('2023-07-24 23:59:59.999000'), Timestamp('2023-08-02 23:59:59.999000'), Timestamp('2023-08-11 23:59:59.999000'), Timestamp('2023-08-31 23:59:59.999000'), Timestamp('2023-09-17 23:59:59.999000'), Timestamp('2023-09-20 23:59:59.999000'), Timestamp('2023-10-03 23:59:59.999000'), Timestamp('2023-10-26 23:59:59.999000'), Timestamp('2023-11-12 23:59:59.999000'), Timestamp('2023-11-21 23:59:59.999000'), Timestamp('2023-11-26 23:59:59.999000'), Timestamp('2023-12-07 23:59:59.999000'), Timestamp('2023-12-23 23:59:59.999000'), Timestamp('2024-01-03 23:59:59.999000'), Timestamp('2024-01-11 23:59:59.999000'), Timestamp('2024-01-18 23:59:59.999000'), Timestamp('2024-01-31 23:59:59.999000'), Timestamp('2024-02-13 23:59:59.999000'), Timestamp('2024-03-02 23:59:59.999000'), Timestamp('2024-03-14 23:59:59.999000'), Timestamp('2024-03-22 23:59:59.999000'), Timestamp('2024-04-09 23:59:59.999000'), Timestamp('2024-04-24 23:59:59.999000'), Timestamp('2024-05-07 23:59:59.999000')], entry_prices=[16616.75, 22783.55, 21773.97, 22197.96, 21997.11, 28028.53, 28323.76, 27510.93, 29505.61, 26917.62, 27219.61, 26854.27, 26498.61, 25934.25, 26345.0, 31156.2, 30411.57, 29901.72, 29314.14, 29211.06, 26126.92, 26222.0, 27210.26, 26372.99, 27154.15, 35624.72, 37359.86, 37294.28, 38682.52, 42657.8, 44179.55, 46951.04, 42776.1, 39961.09, 44349.6, 54476.47, 72078.1, 65501.27, 67820.62, 63470.08, 62882.01], exit_prices=[21134.81, 22707.88, 24271.76, 21705.44, 27717.01, 28171.87, 30295.09, 29233.21, 28848.2, 26747.78, 26329.01, 27210.35, 25841.21, 25128.6, 30527.43, 30766.51, 30312.01, 29176.5, 29186.01, 29426.03, 25940.78, 26527.51, 27125.0, 27426.46, 34151.66, 37064.13, 35741.65, 37447.43, 43273.14, 43702.16, 42845.23, 46339.16, 41327.5, 42580.0, 49699.59, 61987.28, 71388.94, 63796.64, 69146.0, 64289.59, 62312.08], profit_pct_history=[0.2718979343132683, -0.003321255906125176, 0.11471449625401325, -0.022187624448372755, 0.2600296129809779, 0.005114074837317553, 0.06959986950885058, 0.06260348159804117, -0.02228084760830228, -0.006309621727329539, -0.03271905806144916, 0.013259716238795472, -0.02480884846412704, -0.031065097313398363, 0.15875612070601633, -0.012507622880839201, -0.0032737540350597258, -0.024253454316340368, -0.004370928159584454, 0.00735919887878076, -0.007124452480430124, 0.011650903821218762, -0.0031333768953328046, 0.03994503467373239, 0.25769578499050794, 0.04040480879569008, -0.04331413447480797, 0.004106527864326686, 0.11867427458190426, 0.024482275222819753, -0.03020220894056186, -0.01303229917803732, -0.03386470482348785, 0.06553650063098888, 0.12063220412359972, 0.1378725530490503, -0.009561295317162958, -0.026024380901316837, 0.01954243414465991, 0.012911753065381275, -0.009063482544530627], profit_history=[271.8979343132683, -4.224298526326353, 145.4205425437925, -31.353202938984207, 359.29357107107563, 8.903780964966113, 121.79547923751053, 117.17705292200282, -44.31461976896224, -12.26966668564114, -63.223905340009956, 24.783770996106696, -46.98514166817652, -57.37416852329379, 284.09838483428825, -25.936125918089225, -6.703631394921389, -49.50095479632402, -8.704636997484014, 14.591673562167783, -14.230180744775067, 23.105392711216055, -6.286328152340265, 79.88850037445194, 535.968377944648, 105.69160997321573, -117.87981589608175, 10.691876655240572, 310.2526803305999, 71.60022437990685, -90.4910784696506, -37.86773143658398, -97.11772084284439, 181.58182794107645, 356.13997997523677, 456.14023649127853, -35.99406692677842, -97.03361196755243, 70.96897515409006, 47.80577844757445, -33.99083989059833])\n"
     ]
    }
   ],
   "source": [
    "from itertools import combinations\n",
    "from src.mtal.backtesting.ma_cross_backtest import MACrossPriceAboveBacktester \n",
    "\n",
    "ema_values = range(2, 60)  \n",
    "combinations = [(short_ema, long_ema) for short_ema, long_ema in combinations(ema_values, 2)]\n",
    "\n",
    "results = {}\n",
    "\n",
    "for short_ema, long_ema in combinations:\n",
    "    tester = MACrossPriceAboveBacktester(short_ma=short_ema, long_ma=long_ema, data=df, ma_type=\"hma\")\n",
    "    test_results = tester.run()\n",
    "    results[(short_ema, long_ema)] = test_results\n",
    "\n",
    "best_combination = max(results, key=lambda x: results[x].pnl)\n",
    "best_result = results[best_combination]\n",
    "\n",
    "print(f\"Meilleure combinaison: Short EMA = {best_combination[0]}, Long EMA = {best_combination[1]}\")\n",
    "print(f\"Résultat du test: {best_result}\")"
   ]
  },
  {
   "cell_type": "markdown",
   "metadata": {},
   "source": [
    "# VZO-RSI"
   ]
  },
  {
   "cell_type": "code",
   "execution_count": 20,
   "metadata": {},
   "outputs": [
    {
     "name": "stdout",
     "output_type": "stream",
     "text": [
      "BacktestResults(pnl=256.1130709382244, pnl_percentage=0.2561130709382244, max_drawdown=-0.20047062127843182, win_rate=0.35294117647058826, average_return=0.031009141606314503, trade_number=17, entry_dates=[Timestamp('2021-11-25 23:59:59.999000'), Timestamp('2021-12-23 23:59:59.999000'), Timestamp('2022-02-04 23:59:59.999000'), Timestamp('2022-02-28 23:59:59.999000'), Timestamp('2022-03-18 23:59:59.999000'), Timestamp('2022-07-18 23:59:59.999000'), Timestamp('2022-09-10 23:59:59.999000'), Timestamp('2022-10-04 23:59:59.999000'), Timestamp('2022-10-25 23:59:59.999000'), Timestamp('2022-12-13 23:59:59.999000'), Timestamp('2023-01-08 23:59:59.999000'), Timestamp('2023-03-13 23:59:59.999000'), Timestamp('2023-04-27 23:59:59.999000'), Timestamp('2023-05-28 23:59:59.999000'), Timestamp('2023-06-20 23:59:59.999000'), Timestamp('2023-09-19 23:59:59.999000'), Timestamp('2024-01-29 23:59:59.999000')], exit_dates=[Timestamp('2021-12-10 23:59:59.999000'), Timestamp('2021-12-29 23:59:59.999000'), Timestamp('2022-02-18 23:59:59.999000'), Timestamp('2022-03-06 23:59:59.999000'), Timestamp('2022-04-10 23:59:59.999000'), Timestamp('2022-08-19 23:59:59.999000'), Timestamp('2022-09-21 23:59:59.999000'), Timestamp('2022-10-10 23:59:59.999000'), Timestamp('2022-11-08 23:59:59.999000'), Timestamp('2022-12-16 23:59:59.999000'), Timestamp('2023-03-03 23:59:59.999000'), Timestamp('2023-04-21 23:59:59.999000'), Timestamp('2023-05-08 23:59:59.999000'), Timestamp('2023-06-01 23:59:59.999000'), Timestamp('2023-07-24 23:59:59.999000'), Timestamp('2024-01-14 23:59:59.999000'), Timestamp('2024-04-13 23:59:59.999000')], entry_prices=[58960.36, 50838.81, 41574.25, 43160.0, 41757.51, 22432.58, 21648.34, 20337.82, 20080.07, 17774.7, 17127.83, 24113.48, 29472.77, 28065.0, 28307.99, 27210.26, 43302.7], exit_prices=[47140.54, 46464.66, 39974.44, 38420.81, 42158.85, 20834.39, 18461.36, 19131.87, 18547.23, 16632.12, 22354.34, 27262.84, 27668.79, 26817.93, 29176.5, 41732.35, 63924.51], profit_pct_history=[-0.20047062127843182, -0.0860395827518385, -0.038480790393091824, -0.10980514365152924, 0.00961120526583114, -0.07124414579152297, -0.1472159066237873, -0.05929593240573477, -0.07633638727355035, -0.06428125369204553, 0.3051472369821511, 0.13060578564354877, -0.061208362837968724, -0.0444350614644575, 0.030680737134639313, 0.5336990532247763, 0.4762245772203582], profit_history=[-200.47062127843182, -68.79117414304038, -28.11938368261058, -77.15116056074429, 6.011498070620497, -44.98919322577056, -86.3406519497305, -29.656819870078078, -35.91569718244364, -27.935141283779636, 124.0855774327508, 69.31604714046036, -36.72766676811318, -25.030963874172553, 16.514969814208897, 296.09603119716814, 405.2174211019308])\n"
     ]
    }
   ],
   "source": [
    "from src.mtal.backtesting.vzo_rsi import VZO_RSI_let_grey\n",
    "from src.mtal.data_collect import get_pair_df\n",
    "from src.mtal.data_collect import get_spot_pairs\n",
    "from src.mtal.utils import generate_pinescript\n",
    "\n",
    "cryptos = get_spot_pairs()\n",
    "df = get_pair_df(pair=\"BTCUSDT\", limit=900, frequency=\"1d\")\n",
    "\n",
    "tester = VZO_RSI_let_grey(data=df, grey_zone=5, span=14)\n",
    "results = tester.run()\n",
    "\n",
    "entry_dates = [int(entry_date.timestamp() * 1000) for entry_date in results.entry_dates]\n",
    "exit_dates = [int(exit_date.timestamp() * 1000) for exit_date in results.exit_dates]\n",
    "\n",
    "# print(generate_pinescript(entry_dates=entry_dates, exit_dates=exit_dates))\n",
    "print(results)"
   ]
  },
  {
   "cell_type": "code",
   "execution_count": 19,
   "metadata": {},
   "outputs": [
    {
     "name": "stdout",
     "output_type": "stream",
     "text": [
      "BacktestResults(pnl=223.86806787355727, pnl_percentage=0.22386806787355726, max_drawdown=-0.24599931149497128, win_rate=0.5, average_return=0.08090129836564593, trade_number=10, entry_dates=[Timestamp('2021-11-24 23:59:59.999000'), Timestamp('2022-01-08 23:59:59.999000'), Timestamp('2022-01-23 23:59:59.999000'), Timestamp('2022-05-10 23:59:59.999000'), Timestamp('2022-06-15 23:59:59.999000'), Timestamp('2022-06-19 23:59:59.999000'), Timestamp('2022-07-13 23:59:59.999000'), Timestamp('2022-08-20 23:59:59.999000'), Timestamp('2023-03-11 23:59:59.999000'), Timestamp('2023-08-23 23:59:59.999000')], exit_dates=[Timestamp('2022-01-06 23:59:59.999000'), Timestamp('2022-01-22 23:59:59.999000'), Timestamp('2022-05-09 23:59:59.999000'), Timestamp('2022-06-12 23:59:59.999000'), Timestamp('2022-06-18 23:59:59.999000'), Timestamp('2022-07-10 23:59:59.999000'), Timestamp('2022-08-19 23:59:59.999000'), Timestamp('2023-03-08 23:59:59.999000'), Timestamp('2023-08-17 23:59:59.999000'), Timestamp('2024-05-08 23:59:59.999000')], entry_prices=[57138.29, 41679.74, 36244.55, 31017.1, 22583.72, 20574.0, 20234.87, 21140.07, 20455.73, 26432.72], exit_prices=[43082.31, 35071.42, 30076.31, 26574.53, 18970.79, 20862.47, 20834.39, 21705.44, 26623.41, 61193.03], profit_pct_history=[-0.24599931149497128, -0.1585499333729049, -0.17018393110136562, -0.14322970232549143, -0.1599794010906972, 0.014021094585399104, 0.02962806284399161, 0.026743998482502612, 0.30151356123687595, 1.3150485458931203], profit_history=[-245.9993114949713, -119.54675892559673, -107.97386383853674, -75.40758309637359, -72.16230562196449, 5.312735431403593, 11.383780596287437, 10.580104798603715, 122.47082794681037, 695.210442077895])\n"
     ]
    }
   ],
   "source": [
    "from src.mtal.backtesting.vzo_rsi import VZO_RSI\n",
    "from src.mtal.data_collect import get_pair_df\n",
    "from src.mtal.data_collect import get_spot_pairs\n",
    "from src.mtal.utils import generate_pinescript\n",
    "\n",
    "cryptos = get_spot_pairs()\n",
    "df = get_pair_df(pair=\"BTCUSDT\", limit=900, frequency=\"1d\")\n",
    "\n",
    "tester = VZO_RSI(data=df, grey_zone=-30, span=13)\n",
    "results = tester.run()\n",
    "\n",
    "entry_dates = [int(entry_date.timestamp() * 1000) for entry_date in results.entry_dates]\n",
    "exit_dates = [int(exit_date.timestamp() * 1000) for exit_date in results.exit_dates]\n",
    "\n",
    "# print(generate_pinescript(entry_dates=entry_dates, exit_dates=exit_dates))\n",
    "print(results)"
   ]
  },
  {
   "cell_type": "code",
   "execution_count": 2,
   "metadata": {},
   "outputs": [
    {
     "name": "stdout",
     "output_type": "stream",
     "text": [
      "Meilleure combinaison: span = 13, grey = -30\n",
      "Résultat du test: BacktestResults(pnl=2881.2195504734564, pnl_percentage=2.8812195504734563, max_drawdown=0.2881291556975636, win_rate=1.0, average_return=0.6348970876091866, trade_number=3, entry_dates=[Timestamp('2023-01-04 23:59:59.999000'), Timestamp('2023-03-11 23:59:59.999000'), Timestamp('2023-08-23 23:59:59.999000')], exit_dates=[Timestamp('2023-03-08 23:59:59.999000'), Timestamp('2023-08-17 23:59:59.999000'), Timestamp('2024-05-08 23:59:59.999000')], entry_prices=[16850.36, 20455.73, 26432.72], exit_prices=[21705.44, 26623.41, 61193.03], profit_pct_history=[0.2881291556975636, 0.30151356123687595, 1.3150485458931203], profit_history=[288.1291556975636, 388.3884090674227, 2204.7019857084706])\n"
     ]
    }
   ],
   "source": [
    "from itertools import product\n",
    "from src.mtal.backtesting.vzo_rsi import VZO_RSI\n",
    "\n",
    "span_values = range(1, 40)  \n",
    "grey_zone_values = range(-30, 30)\n",
    "combinations = [(span, grey) for span, grey in product(span_values, grey_zone_values)]\n",
    "\n",
    "results = {}\n",
    "\n",
    "for span, grey in combinations:\n",
    "    tester = VZO_RSI(data=df, grey_zone=grey, span=span)\n",
    "    test_results = tester.run()\n",
    "    results[(span, grey)] = test_results\n",
    "\n",
    "best_combination = max(results, key=lambda x: results[x].pnl)\n",
    "best_result = results[best_combination]\n",
    "\n",
    "print(f\"Meilleure combinaison: span = {best_combination[0]}, grey = {best_combination[1]}\")\n",
    "print(f\"Résultat du test: {best_result}\")"
   ]
  },
  {
   "cell_type": "code",
   "execution_count": 3,
   "metadata": {},
   "outputs": [
    {
     "name": "stdout",
     "output_type": "stream",
     "text": [
      "Meilleure combinaison: span = 17, grey = -26\n",
      "Résultat du test: BacktestResults(pnl=3061.5966618840484, pnl_percentage=3.0615966618840487, max_drawdown=-0.06042056205876715, win_rate=0.5, average_return=0.008821299683180562, trade_number=176, entry_dates=[Timestamp('2023-01-08 23:59:59.999000'), Timestamp('2023-01-19 23:59:59.999000'), Timestamp('2023-01-31 23:59:59.999000'), Timestamp('2023-02-03 23:59:59.999000'), Timestamp('2023-02-05 23:59:59.999000'), Timestamp('2023-02-07 23:59:59.999000'), Timestamp('2023-02-14 23:59:59.999000'), Timestamp('2023-02-16 23:59:59.999000'), Timestamp('2023-02-18 23:59:59.999000'), Timestamp('2023-02-20 23:59:59.999000'), Timestamp('2023-02-22 23:59:59.999000'), Timestamp('2023-03-12 23:59:59.999000'), Timestamp('2023-03-14 23:59:59.999000'), Timestamp('2023-03-16 23:59:59.999000'), Timestamp('2023-03-18 23:59:59.999000'), Timestamp('2023-03-20 23:59:59.999000'), Timestamp('2023-03-22 23:59:59.999000'), Timestamp('2023-03-24 23:59:59.999000'), Timestamp('2023-03-26 23:59:59.999000'), Timestamp('2023-03-28 23:59:59.999000'), Timestamp('2023-03-30 23:59:59.999000'), Timestamp('2023-04-01 23:59:59.999000'), Timestamp('2023-04-03 23:59:59.999000'), Timestamp('2023-04-05 23:59:59.999000'), Timestamp('2023-04-07 23:59:59.999000'), Timestamp('2023-04-09 23:59:59.999000'), Timestamp('2023-04-11 23:59:59.999000'), Timestamp('2023-04-13 23:59:59.999000'), Timestamp('2023-04-16 23:59:59.999000'), Timestamp('2023-04-18 23:59:59.999000'), Timestamp('2023-04-20 23:59:59.999000'), Timestamp('2023-04-22 23:59:59.999000'), Timestamp('2023-04-24 23:59:59.999000'), Timestamp('2023-04-26 23:59:59.999000'), Timestamp('2023-04-28 23:59:59.999000'), Timestamp('2023-04-30 23:59:59.999000'), Timestamp('2023-05-02 23:59:59.999000'), Timestamp('2023-05-04 23:59:59.999000'), Timestamp('2023-05-06 23:59:59.999000'), Timestamp('2023-05-08 23:59:59.999000'), Timestamp('2023-05-17 23:59:59.999000'), Timestamp('2023-05-19 23:59:59.999000'), Timestamp('2023-05-21 23:59:59.999000'), Timestamp('2023-05-23 23:59:59.999000'), Timestamp('2023-05-25 23:59:59.999000'), Timestamp('2023-05-27 23:59:59.999000'), Timestamp('2023-05-29 23:59:59.999000'), Timestamp('2023-05-31 23:59:59.999000'), Timestamp('2023-06-02 23:59:59.999000'), Timestamp('2023-06-04 23:59:59.999000'), Timestamp('2023-06-06 23:59:59.999000'), Timestamp('2023-06-08 23:59:59.999000'), Timestamp('2023-06-11 23:59:59.999000'), Timestamp('2023-06-13 23:59:59.999000'), Timestamp('2023-06-15 23:59:59.999000'), Timestamp('2023-06-17 23:59:59.999000'), Timestamp('2023-06-19 23:59:59.999000'), Timestamp('2023-06-26 23:59:59.999000'), Timestamp('2023-06-28 23:59:59.999000'), Timestamp('2023-06-30 23:59:59.999000'), Timestamp('2023-07-06 23:59:59.999000'), Timestamp('2023-07-08 23:59:59.999000'), Timestamp('2023-07-10 23:59:59.999000'), Timestamp('2023-07-12 23:59:59.999000'), Timestamp('2023-07-14 23:59:59.999000'), Timestamp('2023-07-16 23:59:59.999000'), Timestamp('2023-07-18 23:59:59.999000'), Timestamp('2023-07-20 23:59:59.999000'), Timestamp('2023-07-22 23:59:59.999000'), Timestamp('2023-07-24 23:59:59.999000'), Timestamp('2023-07-26 23:59:59.999000'), Timestamp('2023-07-28 23:59:59.999000'), Timestamp('2023-07-30 23:59:59.999000'), Timestamp('2023-08-01 23:59:59.999000'), Timestamp('2023-08-03 23:59:59.999000'), Timestamp('2023-08-05 23:59:59.999000'), Timestamp('2023-08-07 23:59:59.999000'), Timestamp('2023-08-09 23:59:59.999000'), Timestamp('2023-08-11 23:59:59.999000'), Timestamp('2023-08-13 23:59:59.999000'), Timestamp('2023-08-15 23:59:59.999000'), Timestamp('2023-08-28 23:59:59.999000'), Timestamp('2023-08-30 23:59:59.999000'), Timestamp('2023-09-02 23:59:59.999000'), Timestamp('2023-09-04 23:59:59.999000'), Timestamp('2023-09-07 23:59:59.999000'), Timestamp('2023-09-12 23:59:59.999000'), Timestamp('2023-09-14 23:59:59.999000'), Timestamp('2023-09-16 23:59:59.999000'), Timestamp('2023-09-18 23:59:59.999000'), Timestamp('2023-09-21 23:59:59.999000'), Timestamp('2023-09-23 23:59:59.999000'), Timestamp('2023-09-25 23:59:59.999000'), Timestamp('2023-09-27 23:59:59.999000'), Timestamp('2023-09-30 23:59:59.999000'), Timestamp('2023-10-03 23:59:59.999000'), Timestamp('2023-10-05 23:59:59.999000'), Timestamp('2023-10-07 23:59:59.999000'), Timestamp('2023-10-09 23:59:59.999000'), Timestamp('2023-10-13 23:59:59.999000'), Timestamp('2023-10-15 23:59:59.999000'), Timestamp('2023-10-17 23:59:59.999000'), Timestamp('2023-10-19 23:59:59.999000'), Timestamp('2023-10-21 23:59:59.999000'), Timestamp('2023-11-04 23:59:59.999000'), Timestamp('2023-11-06 23:59:59.999000'), Timestamp('2023-11-14 23:59:59.999000'), Timestamp('2023-11-16 23:59:59.999000'), Timestamp('2023-11-18 23:59:59.999000'), Timestamp('2023-11-20 23:59:59.999000'), Timestamp('2023-11-22 23:59:59.999000'), Timestamp('2023-11-24 23:59:59.999000'), Timestamp('2023-11-26 23:59:59.999000'), Timestamp('2023-11-28 23:59:59.999000'), Timestamp('2023-11-30 23:59:59.999000'), Timestamp('2023-12-08 23:59:59.999000'), Timestamp('2023-12-10 23:59:59.999000'), Timestamp('2023-12-12 23:59:59.999000'), Timestamp('2023-12-14 23:59:59.999000'), Timestamp('2023-12-16 23:59:59.999000'), Timestamp('2023-12-18 23:59:59.999000'), Timestamp('2023-12-20 23:59:59.999000'), Timestamp('2023-12-25 23:59:59.999000'), Timestamp('2023-12-27 23:59:59.999000'), Timestamp('2023-12-29 23:59:59.999000'), Timestamp('2023-12-31 23:59:59.999000'), Timestamp('2024-01-02 23:59:59.999000'), Timestamp('2024-01-04 23:59:59.999000'), Timestamp('2024-01-06 23:59:59.999000'), Timestamp('2024-01-08 23:59:59.999000'), Timestamp('2024-01-10 23:59:59.999000'), Timestamp('2024-01-12 23:59:59.999000'), Timestamp('2024-01-14 23:59:59.999000'), Timestamp('2024-01-16 23:59:59.999000'), Timestamp('2024-01-18 23:59:59.999000'), Timestamp('2024-01-20 23:59:59.999000'), Timestamp('2024-01-22 23:59:59.999000'), Timestamp('2024-01-24 23:59:59.999000'), Timestamp('2024-01-26 23:59:59.999000'), Timestamp('2024-01-28 23:59:59.999000'), Timestamp('2024-01-30 23:59:59.999000'), Timestamp('2024-02-01 23:59:59.999000'), Timestamp('2024-02-03 23:59:59.999000'), Timestamp('2024-02-05 23:59:59.999000'), Timestamp('2024-02-07 23:59:59.999000'), Timestamp('2024-02-23 23:59:59.999000'), Timestamp('2024-02-25 23:59:59.999000'), Timestamp('2024-03-06 23:59:59.999000'), Timestamp('2024-03-15 23:59:59.999000'), Timestamp('2024-03-17 23:59:59.999000'), Timestamp('2024-03-19 23:59:59.999000'), Timestamp('2024-03-21 23:59:59.999000'), Timestamp('2024-03-23 23:59:59.999000'), Timestamp('2024-03-25 23:59:59.999000'), Timestamp('2024-03-27 23:59:59.999000'), Timestamp('2024-03-29 23:59:59.999000'), Timestamp('2024-03-31 23:59:59.999000'), Timestamp('2024-04-02 23:59:59.999000'), Timestamp('2024-04-04 23:59:59.999000'), Timestamp('2024-04-06 23:59:59.999000'), Timestamp('2024-04-08 23:59:59.999000'), Timestamp('2024-04-10 23:59:59.999000'), Timestamp('2024-04-12 23:59:59.999000'), Timestamp('2024-04-14 23:59:59.999000'), Timestamp('2024-04-16 23:59:59.999000'), Timestamp('2024-04-18 23:59:59.999000'), Timestamp('2024-04-20 23:59:59.999000'), Timestamp('2024-04-22 23:59:59.999000'), Timestamp('2024-04-24 23:59:59.999000'), Timestamp('2024-04-26 23:59:59.999000'), Timestamp('2024-04-28 23:59:59.999000'), Timestamp('2024-04-30 23:59:59.999000'), Timestamp('2024-05-02 23:59:59.999000'), Timestamp('2024-05-04 23:59:59.999000'), Timestamp('2024-05-06 23:59:59.999000'), Timestamp('2024-05-08 23:59:59.999000')], exit_dates=[Timestamp('2023-01-18 23:59:59.999000'), Timestamp('2023-01-30 23:59:59.999000'), Timestamp('2023-02-02 23:59:59.999000'), Timestamp('2023-02-04 23:59:59.999000'), Timestamp('2023-02-06 23:59:59.999000'), Timestamp('2023-02-08 23:59:59.999000'), Timestamp('2023-02-15 23:59:59.999000'), Timestamp('2023-02-17 23:59:59.999000'), Timestamp('2023-02-19 23:59:59.999000'), Timestamp('2023-02-21 23:59:59.999000'), Timestamp('2023-02-23 23:59:59.999000'), Timestamp('2023-03-13 23:59:59.999000'), Timestamp('2023-03-15 23:59:59.999000'), Timestamp('2023-03-17 23:59:59.999000'), Timestamp('2023-03-19 23:59:59.999000'), Timestamp('2023-03-21 23:59:59.999000'), Timestamp('2023-03-23 23:59:59.999000'), Timestamp('2023-03-25 23:59:59.999000'), Timestamp('2023-03-27 23:59:59.999000'), Timestamp('2023-03-29 23:59:59.999000'), Timestamp('2023-03-31 23:59:59.999000'), Timestamp('2023-04-02 23:59:59.999000'), Timestamp('2023-04-04 23:59:59.999000'), Timestamp('2023-04-06 23:59:59.999000'), Timestamp('2023-04-08 23:59:59.999000'), Timestamp('2023-04-10 23:59:59.999000'), Timestamp('2023-04-12 23:59:59.999000'), Timestamp('2023-04-15 23:59:59.999000'), Timestamp('2023-04-17 23:59:59.999000'), Timestamp('2023-04-19 23:59:59.999000'), Timestamp('2023-04-21 23:59:59.999000'), Timestamp('2023-04-23 23:59:59.999000'), Timestamp('2023-04-25 23:59:59.999000'), Timestamp('2023-04-27 23:59:59.999000'), Timestamp('2023-04-29 23:59:59.999000'), Timestamp('2023-05-01 23:59:59.999000'), Timestamp('2023-05-03 23:59:59.999000'), Timestamp('2023-05-05 23:59:59.999000'), Timestamp('2023-05-07 23:59:59.999000'), Timestamp('2023-05-09 23:59:59.999000'), Timestamp('2023-05-18 23:59:59.999000'), Timestamp('2023-05-20 23:59:59.999000'), Timestamp('2023-05-22 23:59:59.999000'), Timestamp('2023-05-24 23:59:59.999000'), Timestamp('2023-05-26 23:59:59.999000'), Timestamp('2023-05-28 23:59:59.999000'), Timestamp('2023-05-30 23:59:59.999000'), Timestamp('2023-06-01 23:59:59.999000'), Timestamp('2023-06-03 23:59:59.999000'), Timestamp('2023-06-05 23:59:59.999000'), Timestamp('2023-06-07 23:59:59.999000'), Timestamp('2023-06-09 23:59:59.999000'), Timestamp('2023-06-12 23:59:59.999000'), Timestamp('2023-06-14 23:59:59.999000'), Timestamp('2023-06-16 23:59:59.999000'), Timestamp('2023-06-18 23:59:59.999000'), Timestamp('2023-06-25 23:59:59.999000'), Timestamp('2023-06-27 23:59:59.999000'), Timestamp('2023-06-29 23:59:59.999000'), Timestamp('2023-07-05 23:59:59.999000'), Timestamp('2023-07-07 23:59:59.999000'), Timestamp('2023-07-09 23:59:59.999000'), Timestamp('2023-07-11 23:59:59.999000'), Timestamp('2023-07-13 23:59:59.999000'), Timestamp('2023-07-15 23:59:59.999000'), Timestamp('2023-07-17 23:59:59.999000'), Timestamp('2023-07-19 23:59:59.999000'), Timestamp('2023-07-21 23:59:59.999000'), Timestamp('2023-07-23 23:59:59.999000'), Timestamp('2023-07-25 23:59:59.999000'), Timestamp('2023-07-27 23:59:59.999000'), Timestamp('2023-07-29 23:59:59.999000'), Timestamp('2023-07-31 23:59:59.999000'), Timestamp('2023-08-02 23:59:59.999000'), Timestamp('2023-08-04 23:59:59.999000'), Timestamp('2023-08-06 23:59:59.999000'), Timestamp('2023-08-08 23:59:59.999000'), Timestamp('2023-08-10 23:59:59.999000'), Timestamp('2023-08-12 23:59:59.999000'), Timestamp('2023-08-14 23:59:59.999000'), Timestamp('2023-08-16 23:59:59.999000'), Timestamp('2023-08-29 23:59:59.999000'), Timestamp('2023-08-31 23:59:59.999000'), Timestamp('2023-09-03 23:59:59.999000'), Timestamp('2023-09-05 23:59:59.999000'), Timestamp('2023-09-08 23:59:59.999000'), Timestamp('2023-09-13 23:59:59.999000'), Timestamp('2023-09-15 23:59:59.999000'), Timestamp('2023-09-17 23:59:59.999000'), Timestamp('2023-09-20 23:59:59.999000'), Timestamp('2023-09-22 23:59:59.999000'), Timestamp('2023-09-24 23:59:59.999000'), Timestamp('2023-09-26 23:59:59.999000'), Timestamp('2023-09-29 23:59:59.999000'), Timestamp('2023-10-02 23:59:59.999000'), Timestamp('2023-10-04 23:59:59.999000'), Timestamp('2023-10-06 23:59:59.999000'), Timestamp('2023-10-08 23:59:59.999000'), Timestamp('2023-10-10 23:59:59.999000'), Timestamp('2023-10-14 23:59:59.999000'), Timestamp('2023-10-16 23:59:59.999000'), Timestamp('2023-10-18 23:59:59.999000'), Timestamp('2023-10-20 23:59:59.999000'), Timestamp('2023-11-03 23:59:59.999000'), Timestamp('2023-11-05 23:59:59.999000'), Timestamp('2023-11-13 23:59:59.999000'), Timestamp('2023-11-15 23:59:59.999000'), Timestamp('2023-11-17 23:59:59.999000'), Timestamp('2023-11-19 23:59:59.999000'), Timestamp('2023-11-21 23:59:59.999000'), Timestamp('2023-11-23 23:59:59.999000'), Timestamp('2023-11-25 23:59:59.999000'), Timestamp('2023-11-27 23:59:59.999000'), Timestamp('2023-11-29 23:59:59.999000'), Timestamp('2023-12-07 23:59:59.999000'), Timestamp('2023-12-09 23:59:59.999000'), Timestamp('2023-12-11 23:59:59.999000'), Timestamp('2023-12-13 23:59:59.999000'), Timestamp('2023-12-15 23:59:59.999000'), Timestamp('2023-12-17 23:59:59.999000'), Timestamp('2023-12-19 23:59:59.999000'), Timestamp('2023-12-24 23:59:59.999000'), Timestamp('2023-12-26 23:59:59.999000'), Timestamp('2023-12-28 23:59:59.999000'), Timestamp('2023-12-30 23:59:59.999000'), Timestamp('2024-01-01 23:59:59.999000'), Timestamp('2024-01-03 23:59:59.999000'), Timestamp('2024-01-05 23:59:59.999000'), Timestamp('2024-01-07 23:59:59.999000'), Timestamp('2024-01-09 23:59:59.999000'), Timestamp('2024-01-11 23:59:59.999000'), Timestamp('2024-01-13 23:59:59.999000'), Timestamp('2024-01-15 23:59:59.999000'), Timestamp('2024-01-17 23:59:59.999000'), Timestamp('2024-01-19 23:59:59.999000'), Timestamp('2024-01-21 23:59:59.999000'), Timestamp('2024-01-23 23:59:59.999000'), Timestamp('2024-01-25 23:59:59.999000'), Timestamp('2024-01-27 23:59:59.999000'), Timestamp('2024-01-29 23:59:59.999000'), Timestamp('2024-01-31 23:59:59.999000'), Timestamp('2024-02-02 23:59:59.999000'), Timestamp('2024-02-04 23:59:59.999000'), Timestamp('2024-02-06 23:59:59.999000'), Timestamp('2024-02-22 23:59:59.999000'), Timestamp('2024-02-24 23:59:59.999000'), Timestamp('2024-03-05 23:59:59.999000'), Timestamp('2024-03-14 23:59:59.999000'), Timestamp('2024-03-16 23:59:59.999000'), Timestamp('2024-03-18 23:59:59.999000'), Timestamp('2024-03-20 23:59:59.999000'), Timestamp('2024-03-22 23:59:59.999000'), Timestamp('2024-03-24 23:59:59.999000'), Timestamp('2024-03-26 23:59:59.999000'), Timestamp('2024-03-28 23:59:59.999000'), Timestamp('2024-03-30 23:59:59.999000'), Timestamp('2024-04-01 23:59:59.999000'), Timestamp('2024-04-03 23:59:59.999000'), Timestamp('2024-04-05 23:59:59.999000'), Timestamp('2024-04-07 23:59:59.999000'), Timestamp('2024-04-09 23:59:59.999000'), Timestamp('2024-04-11 23:59:59.999000'), Timestamp('2024-04-13 23:59:59.999000'), Timestamp('2024-04-15 23:59:59.999000'), Timestamp('2024-04-17 23:59:59.999000'), Timestamp('2024-04-19 23:59:59.999000'), Timestamp('2024-04-21 23:59:59.999000'), Timestamp('2024-04-23 23:59:59.999000'), Timestamp('2024-04-25 23:59:59.999000'), Timestamp('2024-04-27 23:59:59.999000'), Timestamp('2024-04-29 23:59:59.999000'), Timestamp('2024-05-01 23:59:59.999000'), Timestamp('2024-05-03 23:59:59.999000'), Timestamp('2024-05-05 23:59:59.999000'), Timestamp('2024-05-07 23:59:59.999000'), Timestamp('2024-05-08 23:59:59.999000')], entry_prices=[17127.83, 21071.59, 23125.13, 23431.9, 22932.91, 23240.46, 22199.84, 23517.72, 24631.95, 24842.2, 24182.21, 21997.11, 24670.41, 24998.78, 26907.49, 27717.01, 27250.97, 27454.47, 27968.05, 27261.07, 28028.53, 28452.73, 27800.0, 28170.01, 27906.33, 28323.76, 30200.42, 30373.84, 30304.65, 30380.01, 28243.65, 27816.85, 27510.93, 28415.29, 29311.7, 29233.21, 28669.86, 28838.16, 28848.2, 27668.79, 27405.61, 26880.26, 26747.78, 27219.61, 26473.79, 26854.27, 27736.4, 27210.35, 27242.59, 27115.21, 27230.08, 26498.61, 25925.55, 25934.25, 25598.49, 26516.99, 26844.35, 30267.99, 30077.41, 30472.0, 29895.43, 30284.63, 30411.57, 30380.0, 30312.01, 30231.99, 29859.13, 29800.0, 29794.0, 29176.5, 29351.96, 29314.14, 29281.09, 29705.99, 29193.64, 29072.13, 29211.06, 29581.99, 29426.03, 29303.84, 29200.0, 26120.0, 27299.99, 25869.51, 25826.02, 26255.0, 25840.1, 26522.73, 26559.67, 26762.51, 26568.08, 26575.96, 26304.81, 26372.99, 26962.56, 27426.46, 27410.39, 27956.67, 27590.12, 26862.0, 27154.15, 28395.91, 28713.71, 29909.8, 35062.07, 35046.09, 35551.19, 36163.51, 36568.1, 37448.78, 37408.34, 37713.57, 37447.43, 37818.87, 37723.96, 44170.99, 43789.51, 41492.39, 43022.26, 42278.03, 42657.8, 43668.93, 43576.13, 43428.85, 42066.95, 42283.58, 44946.91, 44151.1, 43968.32, 46951.04, 46653.99, 42782.73, 41732.35, 43137.95, 41327.5, 41696.04, 39568.02, 40084.88, 41823.51, 42031.06, 42941.1, 43082.94, 43011.09, 42708.7, 44349.6, 50744.15, 51728.85, 66074.04, 69499.85, 68393.48, 61937.4, 65501.27, 63990.01, 69880.01, 69469.99, 69850.54, 71280.01, 65463.99, 68487.79, 68896.0, 71620.0, 70631.08, 67116.52, 65661.84, 63793.39, 63470.08, 64940.59, 66819.32, 64289.59, 63770.01, 63118.62, 60672.0, 59060.61, 63892.04, 63165.19, 61193.03], exit_prices=[20677.47, 22826.15, 23488.94, 23326.84, 22762.52, 22963.0, 24324.05, 24569.97, 24271.76, 24452.16, 23940.2, 24113.48, 24285.66, 27395.13, 27972.87, 28105.47, 28295.41, 27462.95, 27124.91, 28348.6, 28465.36, 28171.87, 28165.47, 28033.82, 27938.38, 29637.34, 29888.07, 30295.09, 29430.27, 28797.1, 27262.84, 27590.6, 28300.79, 29472.77, 29230.45, 28068.26, 29026.16, 29505.61, 28430.1, 27628.27, 26821.28, 27102.43, 26849.27, 26329.01, 26705.92, 28065.0, 27694.4, 26817.93, 27069.22, 25728.2, 26339.34, 26477.81, 25905.19, 25128.6, 26345.0, 26339.97, 30462.66, 30692.44, 30447.31, 30504.81, 30344.7, 30160.71, 30622.1, 31454.23, 30289.52, 30138.0, 29909.21, 29901.72, 30083.75, 29228.91, 29222.78, 29352.9, 29232.25, 29186.01, 29113.99, 29088.42, 29770.42, 29455.75, 29430.17, 29430.93, 28730.51, 27716.34, 25940.78, 25971.21, 25792.1, 25910.5, 26222.0, 26600.0, 26527.51, 27125.0, 26580.14, 26248.38, 26221.67, 26906.96, 27494.51, 27778.57, 27931.09, 27917.05, 27390.12, 26852.48, 28500.78, 28320.0, 29669.04, 34716.78, 35011.88, 36462.93, 37858.2, 36613.92, 37359.86, 35741.65, 37294.28, 37780.67, 37242.7, 37854.64, 43273.14, 43713.6, 41253.4, 42869.03, 41940.3, 41374.65, 42275.99, 42991.5, 42508.93, 42563.76, 42140.28, 44179.55, 42845.23, 44145.11, 43929.02, 46110.0, 46339.16, 42847.99, 42511.1, 42776.1, 41659.03, 41580.33, 39897.6, 39961.09, 42120.63, 43302.7, 42580.0, 43200.0, 42582.88, 43098.95, 51288.42, 51568.22, 63724.01, 71388.94, 65300.63, 67609.99, 67840.51, 63796.64, 67209.99, 69988.0, 70780.6, 69582.18, 69649.8, 65963.28, 67820.62, 69360.39, 69146.0, 70006.23, 63924.51, 63419.99, 61277.37, 63818.01, 64941.15, 66414.0, 64498.34, 63461.98, 63866.0, 58364.97, 62882.01, 64012.0, 62312.08, 61193.03], profit_pct_history=[0.20724399996964, 0.0832666163303292, 0.015732235883646823, -0.004483631288969367, -0.007429933663019627, -0.011938662143520358, 0.09568582476270095, 0.04474285772600405, -0.014622878010064259, -0.015700702836302777, -0.010007770174851612, 0.09621127502658298, -0.015595606234351193, 0.09585867790348178, 0.039594179910500654, 0.014015220256441903, 0.03832670910429972, 0.00030887502108034, -0.03014654221513475, 0.03989315166279236, 0.015585191231934095, -0.009871109028905155, 0.013146402877697883, -0.0048345740736335805, 0.0011484849494720112, 0.04637731713586056, -0.01034257139470241, -0.002592691605671196, -0.028852997807267234, -0.05210366948529641, -0.03472674388756415, -0.008133559335438773, 0.028710770591906583, 0.03721517535101699, -0.0027719306624999574, -0.03985022513777997, 0.012427685381093569, 0.02314468052053254, -0.014493105289064905, -0.001464465919904717, -0.021321546938747275, 0.008265173030320462, 0.003794333585815406, -0.03271905806144916, 0.008768294981564687, 0.04508519501740318, -0.0015142556351941852, -0.014421718206491217, -0.0063639323573859525, -0.05115247125137509, -0.03271161891555227, -0.0007849468330602727, -0.0007853256729365658, -0.031065097313398363, 0.029162266993092108, -0.006675719981792822, 0.13478851229402095, 0.014023065291087947, 0.012298266373334721, 0.0010767261748490847, 0.01502804943765654, -0.004091844608965072, 0.00692269422459935, 0.03535977616853191, -0.0007419501379155643, -0.0031089584245033684, 0.0016772089474809918, 0.0034134228187919853, 0.009725112438746056, 0.0017963086730759293, -0.004401068957575586, 0.0013222287947046046, -0.0016679706937139343, -0.017504213796611497, -0.0027283339795927406, 0.0005603304608226929, 0.019148911405474395, -0.004267461384443764, 0.00014069176168172935, 0.004336974266853769, -0.016078424657534302, 0.06111562021439511, -0.0497879303252493, 0.003931268895313469, -0.0013134040785224316, -0.0131213102266235, 0.014779354569061322, 0.00291335017172065, -0.0012108584180450983, 0.013544693677835212, 0.00045392817245347314, -0.012326177492741489, -0.003160638681670883, 0.020246851039643115, 0.019729209689287555, 0.012838332034101396, 0.018996446238087116, -0.0014171931063320124, -0.007248971733359623, -0.00035440399076764337, 0.04959205130707451, -0.002673272312808424, 0.03327086607756371, 0.16071588576319465, -0.0014314614054447535, 0.04042790508156556, 0.06489262384747162, 0.012454819789340033, 0.021651658139197883, -0.04558573069670087, -0.0030490526978742623, 0.0017792004310384444, -0.005467130855174926, 0.0009458241348828454, 0.14709961520476642, -0.010354986383597005, -0.057915925526456004, 0.03317813218279302, -0.02514884155318663, -0.02136759919986805, -0.008950531907412124, -0.015512860058627502, -0.024490472192000463, -0.019919707751874537, 0.0017431736790996673, 0.04483939155577652, -0.046759165424274995, -0.00013567045894661658, -0.0008938253724500483, -0.01791312822889548, -0.006748190240534507, 0.001525381853846044, 0.018660583456239586, -0.008388205744593764, 0.00802201923658578, -0.0027750836770110334, 0.00832945393780133, -0.00308819684629219, 0.007104138318376323, 0.030254768735311445, -0.008409193057467054, 0.0027170847671954992, -0.009955804421603804, 0.009137482526979282, 0.15645732994209643, 0.016239704478250197, 0.23188530191566223, 0.0804385504503737, -0.06042056205876715, -0.01145562413259262, 0.09530768162693289, -0.026024380901316837, 0.050320042144078474, 0.0015453632591066492, 0.018865844086057886, -0.0038419173280550244, -0.0228705074536324, 0.0076269411626147575, -0.009741444423889255, 0.006740449372967943, -0.03454342362468584, -0.008846672031632615, -0.04755922982896017, -0.03414235726565078, -0.039440136352684764, 0.005481795516879769, 8.623266280841422e-06, -0.006065910278644065, 0.0032470264626045992, -0.0048303269828560294, 0.011840879917843536, -0.03802462420886074, 0.0647030228776845, 0.0018775421789631248, -0.013506014942724, 0.0], profit_history=[207.24399996964, 100.52312296256397, 20.574100858847586, -5.95579227341742, -9.825236033119609, -15.67021271692266, 124.09398762760209, 63.57888361832455, -21.708581512512527, -22.967840225354195, -14.410052492101771, 137.14690001925305, -24.370057364434913, 147.4549201837125, 66.74423147557458, 24.561006011903167, 68.10707489390745, 0.5699116194349623, -55.64118255346483, 71.41070358393974, 29.01120831965242, -18.661046304343582, 24.607569023468212, -9.168371452111016, 2.1674773563575704, 87.62607863840613, -20.447706342838565, -5.072847683409224, -56.307267177247745, -98.74765502734137, -62.385460767243785, -14.104257751544804, 49.38188254043413, 65.8470237175044, -5.087065210236131, -72.93067209291533, 21.837789281212366, 41.17500152430158, -26.380372975902826, -2.6269900068750425, -38.19103132392086, 14.488874555304998, 6.70645444226279, -58.050103830110636, 15.047695395503515, 78.05131353397783, -2.7396630830785638, -26.052945635550916, -11.330693908237151, -90.4950699420411, -54.910673308771464, -1.2745325861577677, -1.2741467922603185, -50.36179395708015, 45.80831904869835, -10.792077121776185, 216.4466455895598, 25.55382207464367, 22.72503912249156, 2.0140697560896514, 28.140979968349335, -7.777388227801924, 13.10415688060079, 67.39684565127875, -1.4641854005123895, -6.130754451766917, 3.29711330352067, 6.721474896598036, 19.215382375214862, 3.5837567523589087, -8.79620126499898, 2.6310434298999246, -3.323408140887243, -34.81872607992121, -5.332102589118241, 1.0920906208692036, 37.34236461075039, -8.481349697193314, 0.278424044008211, 8.583926930217752, -31.96112907800647, 119.53396498013988, -103.32986994011296, 7.752737909811468, -2.6003074122141285, -25.94375043102908, 28.838641202953937, 5.7687754784184095, -2.4046270390338274, 26.865650505780128, 0.9125532473248057, -24.791145159593853, -6.27850963984482, 40.092614704212394, 39.85858201098798, 26.448778460518184, 39.637796858913326, -3.0132755330889407, -15.391122851439958, -0.747021063486688, 104.4942453065258, -5.912130809472987, 73.38417198032944, 366.2783782108115, -3.7866751352442893, 106.79170513283974, 178.34609719064434, 36.4511758297493, 64.15653608967726, -138.00077045475587, -8.809564605092556, 5.124932855062348, -15.775923216907502, 2.7143437575026867, 422.5485004702634, -34.120524176315314, -188.86157364116056, 101.92652039985654, -79.82307528224787, -66.11568651319328, -27.10299084697007, -46.55384763268428, -72.35539391413045, -57.410090506073054, 4.923881416364434, 126.87703700719281, -138.24187187164478, -0.3823497292701159, -2.5186582688461345, -50.43123988340076, -18.65801483027204, 4.18905494935188, 51.32449209803958, -23.501631785909595, 22.28713922765268, -7.771712546444168, 23.262173895443627, -8.696433805610885, 19.943637284514626, 85.53841064473475, -24.494371222552356, 7.847795035155642, -28.83362429923528, 26.200164633645358, 452.71377866721326, 54.3419893973334, 788.5455622240745, 336.9675494204194, -273.4693613031839, -48.71651074989394, 400.6650811517007, -119.83126093231442, 225.67258530429547, 7.279307128172085, 89.00334447766666, -18.466947061018534, -109.5093378252792, 35.68435652679343, -45.92515193019918, 31.46767810284878, -162.35241185089015, -40.14264996324985, -213.8955591175475, -146.25086211768553, -163.17606682998033, 21.785389063602107, 0.03445787554267333, -24.239096538174568, 12.8962623745813, -19.246973314826832, 46.95339751862991, -152.5668566361821, 249.73751970252073, 7.715736940009452, -55.607014373776366, 0.0])\n"
     ]
    }
   ],
   "source": [
    "from itertools import product\n",
    "from src.mtal.backtesting.vzo_rsi import VZO_RSI_let_grey\n",
    "\n",
    "span_values = range(1, 40)  \n",
    "grey_zone_values = range(-30, 30)\n",
    "combinations = [(span, grey) for span, grey in product(span_values, grey_zone_values)]\n",
    "\n",
    "results = {}\n",
    "\n",
    "for span, grey in combinations:\n",
    "    tester = VZO_RSI_let_grey(data=df, grey_zone=grey, span=span)\n",
    "    test_results = tester.run()\n",
    "    results[(span, grey)] = test_results\n",
    "\n",
    "best_combination = max(results, key=lambda x: results[x].pnl)\n",
    "best_result = results[best_combination]\n",
    "\n",
    "print(f\"Meilleure combinaison: span = {best_combination[0]}, grey = {best_combination[1]}\")\n",
    "print(f\"Résultat du test: {best_result}\")"
   ]
  }
 ],
 "metadata": {
  "kernelspec": {
   "display_name": ".venv",
   "language": "python",
   "name": "python3"
  },
  "language_info": {
   "codemirror_mode": {
    "name": "ipython",
    "version": 3
   },
   "file_extension": ".py",
   "mimetype": "text/x-python",
   "name": "python",
   "nbconvert_exporter": "python",
   "pygments_lexer": "ipython3",
   "version": "3.10.12"
  }
 },
 "nbformat": 4,
 "nbformat_minor": 2
}
